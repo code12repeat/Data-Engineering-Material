{
  "nbformat": 4,
  "nbformat_minor": 0,
  "metadata": {
    "colab": {
      "provenance": []
    },
    "kernelspec": {
      "name": "python3",
      "display_name": "Python 3"
    },
    "language_info": {
      "name": "python"
    }
  },
  "cells": [
    {
      "cell_type": "code",
      "execution_count": null,
      "metadata": {
        "id": "8I6i8vpyjpBK"
      },
      "outputs": [],
      "source": [
        "name = \"John\"\n",
        "age = 30"
      ]
    },
    {
      "cell_type": "code",
      "source": [
        "print(\"My name is\" , name)"
      ],
      "metadata": {
        "colab": {
          "base_uri": "https://localhost:8080/"
        },
        "id": "SA26Yhk5kA0w",
        "outputId": "99da7c43-9cea-49ed-c42e-06862444dbcb"
      },
      "execution_count": null,
      "outputs": [
        {
          "output_type": "stream",
          "name": "stdout",
          "text": [
            "My name is John\n"
          ]
        }
      ]
    },
    {
      "cell_type": "code",
      "source": [
        "print(\"Name-\" , name)"
      ],
      "metadata": {
        "colab": {
          "base_uri": "https://localhost:8080/"
        },
        "id": "pJysljt2kNwx",
        "outputId": "3044f5c2-375d-4ee1-8d62-cf5f279ac00c"
      },
      "execution_count": null,
      "outputs": [
        {
          "output_type": "stream",
          "name": "stdout",
          "text": [
            "Name- John\n"
          ]
        }
      ]
    },
    {
      "cell_type": "code",
      "source": [
        "print(\"Age-\",age)"
      ],
      "metadata": {
        "colab": {
          "base_uri": "https://localhost:8080/"
        },
        "id": "LlIJAqB1kQg9",
        "outputId": "c74ae078-b79c-4d30-fda5-16883a83e7b5"
      },
      "execution_count": null,
      "outputs": [
        {
          "output_type": "stream",
          "name": "stdout",
          "text": [
            "Age- 30\n"
          ]
        }
      ]
    },
    {
      "cell_type": "code",
      "source": [
        "productname, productprice, quantity = \"Apple\", 10, 5"
      ],
      "metadata": {
        "id": "f7ZEVkaLkTRk"
      },
      "execution_count": null,
      "outputs": []
    },
    {
      "cell_type": "code",
      "source": [
        "print(productname)\n",
        "print(productprice)\n",
        "print(quantity)"
      ],
      "metadata": {
        "colab": {
          "base_uri": "https://localhost:8080/"
        },
        "id": "qhI-XnCWllVQ",
        "outputId": "913ded47-0f57-4518-c2fb-4177aa694251"
      },
      "execution_count": null,
      "outputs": [
        {
          "output_type": "stream",
          "name": "stdout",
          "text": [
            "Apple\n",
            "10\n",
            "5\n"
          ]
        }
      ]
    },
    {
      "cell_type": "code",
      "source": [
        "a = b = c = 100\n",
        "print(a)\n",
        "print(b)\n",
        "print(c)"
      ],
      "metadata": {
        "colab": {
          "base_uri": "https://localhost:8080/"
        },
        "id": "Ki0q3puVlx4N",
        "outputId": "f51b5bdd-ff58-4933-c611-b37ded4394a2"
      },
      "execution_count": null,
      "outputs": [
        {
          "output_type": "stream",
          "name": "stdout",
          "text": [
            "100\n",
            "100\n",
            "100\n"
          ]
        }
      ]
    },
    {
      "cell_type": "code",
      "source": [
        "age = 30\n",
        "Age = 45\n",
        "\n",
        "print(age)"
      ],
      "metadata": {
        "colab": {
          "base_uri": "https://localhost:8080/"
        },
        "id": "EDVYFnwcl8zR",
        "outputId": "fe6e962e-f948-46ec-fff5-6ae425bd5487"
      },
      "execution_count": null,
      "outputs": [
        {
          "output_type": "stream",
          "name": "stdout",
          "text": [
            "30\n"
          ]
        }
      ]
    },
    {
      "cell_type": "code",
      "source": [
        "print(Age)"
      ],
      "metadata": {
        "colab": {
          "base_uri": "https://localhost:8080/"
        },
        "id": "d0s5rJUcmlZB",
        "outputId": "99e200f6-04dd-4a96-cc50-e511994599ae"
      },
      "execution_count": null,
      "outputs": [
        {
          "output_type": "stream",
          "name": "stdout",
          "text": [
            "45\n"
          ]
        }
      ]
    },
    {
      "cell_type": "code",
      "source": [
        "#print(AGE)"
      ],
      "metadata": {
        "id": "yhUb1Wx3moie"
      },
      "execution_count": null,
      "outputs": []
    },
    {
      "cell_type": "code",
      "source": [
        "class = 30\n",
        "print(class)"
      ],
      "metadata": {
        "colab": {
          "base_uri": "https://localhost:8080/",
          "height": 128
        },
        "id": "jSd0-l5Nmqs0",
        "outputId": "c0e269a5-ee7d-4b3f-a0c1-8b845a872a9e"
      },
      "execution_count": null,
      "outputs": [
        {
          "output_type": "error",
          "ename": "SyntaxError",
          "evalue": "invalid syntax (<ipython-input-74-7e81883ba0a1>, line 1)",
          "traceback": [
            "\u001b[0;36m  File \u001b[0;32m\"<ipython-input-74-7e81883ba0a1>\"\u001b[0;36m, line \u001b[0;32m1\u001b[0m\n\u001b[0;31m    class = 30\u001b[0m\n\u001b[0m          ^\u001b[0m\n\u001b[0;31mSyntaxError\u001b[0m\u001b[0;31m:\u001b[0m invalid syntax\n"
          ]
        }
      ]
    },
    {
      "cell_type": "code",
      "source": [
        "emp_name = [\"Simran\" , \"Arjun\" , \"Ajay\" , \"Ramesh\" , \"Jacob\"]\n",
        "\n",
        "print(emp_name)\n",
        "print(type(emp_name))"
      ],
      "metadata": {
        "colab": {
          "base_uri": "https://localhost:8080/"
        },
        "id": "ySGYD4Mwnk-w",
        "outputId": "388002f5-3967-4bd4-d5fb-653edd332b13"
      },
      "execution_count": null,
      "outputs": [
        {
          "output_type": "stream",
          "name": "stdout",
          "text": [
            "['Simran', 'Arjun', 'Ajay', 'Ramesh', 'Jacob']\n",
            "<class 'list'>\n"
          ]
        }
      ]
    },
    {
      "cell_type": "code",
      "source": [
        "print(emp_name[1])"
      ],
      "metadata": {
        "colab": {
          "base_uri": "https://localhost:8080/"
        },
        "id": "XQjwIzV2oTVv",
        "outputId": "68e5148d-997a-4584-cfbb-9375408c93e3"
      },
      "execution_count": null,
      "outputs": [
        {
          "output_type": "stream",
          "name": "stdout",
          "text": [
            "Arjun\n"
          ]
        }
      ]
    },
    {
      "cell_type": "code",
      "source": [
        "#These are Product name in the list form\n",
        "\n",
        "Product_name = [\"earphones\", 'charger', \"apple\", 'potato', 'sunscreen', 'milk', 'bread','cold drink', 'egg', 'banana']\n",
        "\n",
        "print(Product_name)"
      ],
      "metadata": {
        "colab": {
          "base_uri": "https://localhost:8080/"
        },
        "id": "8GDFjLIxo0El",
        "outputId": "193f395c-4611-49b8-8f69-1a52e4eecf4e"
      },
      "execution_count": null,
      "outputs": [
        {
          "output_type": "stream",
          "name": "stdout",
          "text": [
            "['earphones', 'charger', 'apple', 'potato', 'sunscreen', 'milk', 'bread', 'cold drink', 'egg', 'banana']\n"
          ]
        }
      ]
    },
    {
      "cell_type": "code",
      "source": [
        "print(len(Product_name))"
      ],
      "metadata": {
        "colab": {
          "base_uri": "https://localhost:8080/"
        },
        "id": "h55lgcPspd6j",
        "outputId": "8bb2f7f9-da24-4167-8e99-ddbc66656643"
      },
      "execution_count": null,
      "outputs": [
        {
          "output_type": "stream",
          "name": "stdout",
          "text": [
            "10\n"
          ]
        }
      ]
    },
    {
      "cell_type": "code",
      "source": [
        "print(Product_name[0])"
      ],
      "metadata": {
        "colab": {
          "base_uri": "https://localhost:8080/"
        },
        "id": "wN62GqDGpiVc",
        "outputId": "7ee5b0e1-d19e-4049-afa6-158beb2a60d6"
      },
      "execution_count": null,
      "outputs": [
        {
          "output_type": "stream",
          "name": "stdout",
          "text": [
            "earphones\n"
          ]
        }
      ]
    },
    {
      "cell_type": "code",
      "source": [
        "print(Product_name[9])"
      ],
      "metadata": {
        "colab": {
          "base_uri": "https://localhost:8080/"
        },
        "id": "pxFaod9mpqLw",
        "outputId": "4ab61974-7bdf-47a5-d92f-b66be47f723f"
      },
      "execution_count": null,
      "outputs": [
        {
          "output_type": "stream",
          "name": "stdout",
          "text": [
            "banana\n"
          ]
        }
      ]
    },
    {
      "cell_type": "code",
      "source": [
        "print(Product_name[-1])"
      ],
      "metadata": {
        "colab": {
          "base_uri": "https://localhost:8080/"
        },
        "id": "UNlMncXtpwL2",
        "outputId": "544215af-0ec8-42d4-9541-be8f06191d66"
      },
      "execution_count": null,
      "outputs": [
        {
          "output_type": "stream",
          "name": "stdout",
          "text": [
            "banana\n"
          ]
        }
      ]
    },
    {
      "cell_type": "code",
      "source": [
        "print(Product_name[-2])"
      ],
      "metadata": {
        "colab": {
          "base_uri": "https://localhost:8080/"
        },
        "id": "oMQNh2cGqBmp",
        "outputId": "dc112552-f96a-456d-deb1-a29b3f4fb99b"
      },
      "execution_count": null,
      "outputs": [
        {
          "output_type": "stream",
          "name": "stdout",
          "text": [
            "egg\n"
          ]
        }
      ]
    },
    {
      "cell_type": "markdown",
      "source": [
        "* type()\n",
        "* len()\n",
        "* index()"
      ],
      "metadata": {
        "id": "mbtoW7ZhqLqh"
      }
    },
    {
      "cell_type": "code",
      "source": [
        "print(Product_name)"
      ],
      "metadata": {
        "colab": {
          "base_uri": "https://localhost:8080/"
        },
        "id": "otE6p1doqDZs",
        "outputId": "492b55ad-dde4-49da-d300-0df7c980a713"
      },
      "execution_count": null,
      "outputs": [
        {
          "output_type": "stream",
          "name": "stdout",
          "text": [
            "['earphones', 'charger', 'apple', 'potato', 'sunscreen', 'milk', 'bread', 'cold drink', 'egg', 'banana']\n"
          ]
        }
      ]
    },
    {
      "cell_type": "code",
      "source": [
        "Product_name.index('sunscreen')"
      ],
      "metadata": {
        "colab": {
          "base_uri": "https://localhost:8080/"
        },
        "id": "Q_koNSutqSa7",
        "outputId": "333a6a8d-89b7-49f3-c929-3c8c7ebc078b"
      },
      "execution_count": null,
      "outputs": [
        {
          "output_type": "execute_result",
          "data": {
            "text/plain": [
              "4"
            ]
          },
          "metadata": {},
          "execution_count": 84
        }
      ]
    },
    {
      "cell_type": "code",
      "source": [
        "age = 56\n",
        "salary = 65000.56\n",
        "\n",
        "print(age , type(age))\n",
        "print(salary , type(salary))"
      ],
      "metadata": {
        "colab": {
          "base_uri": "https://localhost:8080/"
        },
        "id": "iLonA0t6qW_S",
        "outputId": "68bf8784-c86c-41d7-cc55-0e39e837eeb3"
      },
      "execution_count": null,
      "outputs": [
        {
          "output_type": "stream",
          "name": "stdout",
          "text": [
            "56 <class 'int'>\n",
            "65000.56 <class 'float'>\n"
          ]
        }
      ]
    },
    {
      "cell_type": "code",
      "source": [
        "Price = [1000, 600, 250, 100, 60, 450, 500, 100, 70, 100]\n",
        "\n",
        "print(min(Price))\n",
        "print(max(Price))\n",
        "print(sum(Price))\n",
        "print(len(Price))\n",
        "print(\"Mean=\" , sum(Price)/len(Price))"
      ],
      "metadata": {
        "colab": {
          "base_uri": "https://localhost:8080/"
        },
        "id": "kKDV2u7-sjj-",
        "outputId": "46bc6e84-95f2-48e8-cd5c-a48d1b0882df"
      },
      "execution_count": null,
      "outputs": [
        {
          "output_type": "stream",
          "name": "stdout",
          "text": [
            "60\n",
            "1000\n",
            "3230\n",
            "10\n",
            "Mean= 323.0\n"
          ]
        }
      ]
    },
    {
      "cell_type": "code",
      "source": [
        "print(Product_name)"
      ],
      "metadata": {
        "colab": {
          "base_uri": "https://localhost:8080/"
        },
        "id": "fVNw61rauPN1",
        "outputId": "6b644a22-5f40-4c3b-e946-9ec21362812d"
      },
      "execution_count": null,
      "outputs": [
        {
          "output_type": "stream",
          "name": "stdout",
          "text": [
            "['earphones', 'charger', 'apple', 'potato', 'sunscreen', 'milk', 'bread', 'cold drink', 'egg', 'banana']\n"
          ]
        }
      ]
    },
    {
      "cell_type": "code",
      "source": [
        "print(Product_name[0:5])"
      ],
      "metadata": {
        "colab": {
          "base_uri": "https://localhost:8080/"
        },
        "id": "rdsEaSNmuwFV",
        "outputId": "a02a7b64-5f9c-4e1c-8960-939fc530a10b"
      },
      "execution_count": null,
      "outputs": [
        {
          "output_type": "stream",
          "name": "stdout",
          "text": [
            "['earphones', 'charger', 'apple', 'potato', 'sunscreen']\n"
          ]
        }
      ]
    },
    {
      "cell_type": "code",
      "source": [
        "# list_variable[initial_index : initial_index + number of values]\n",
        "\n",
        "print(Product_name[1:1+5])"
      ],
      "metadata": {
        "colab": {
          "base_uri": "https://localhost:8080/"
        },
        "id": "RsYWpIVZu07X",
        "outputId": "e48c9756-c800-451b-edd2-0d12869a692d"
      },
      "execution_count": null,
      "outputs": [
        {
          "output_type": "stream",
          "name": "stdout",
          "text": [
            "['charger', 'apple', 'potato', 'sunscreen', 'milk']\n"
          ]
        }
      ]
    },
    {
      "cell_type": "code",
      "source": [
        "print(Product_name[1:])"
      ],
      "metadata": {
        "colab": {
          "base_uri": "https://localhost:8080/"
        },
        "id": "ANvqJPwjvrAK",
        "outputId": "e7903710-2fe3-46b6-c07e-17dfa943981a"
      },
      "execution_count": null,
      "outputs": [
        {
          "output_type": "stream",
          "name": "stdout",
          "text": [
            "['charger', 'apple', 'potato', 'sunscreen', 'milk', 'bread', 'cold drink', 'egg', 'banana']\n"
          ]
        }
      ]
    },
    {
      "cell_type": "code",
      "source": [
        "print(Product_name[-3:])"
      ],
      "metadata": {
        "colab": {
          "base_uri": "https://localhost:8080/"
        },
        "id": "nWZb_NIhu-IC",
        "outputId": "7fbd89e2-3c1a-4190-8fc8-a55475eb810a"
      },
      "execution_count": null,
      "outputs": [
        {
          "output_type": "stream",
          "name": "stdout",
          "text": [
            "['cold drink', 'egg', 'banana']\n"
          ]
        }
      ]
    },
    {
      "cell_type": "code",
      "source": [
        "mylist = [\"Bipul\" , 123454 , \"bipul@abc.com\" , 77.90]\n",
        "\n",
        "print(mylist)"
      ],
      "metadata": {
        "colab": {
          "base_uri": "https://localhost:8080/"
        },
        "id": "8-Xm7xBNve8z",
        "outputId": "8679aa9b-d2f7-4f29-81b6-d94fdbde094d"
      },
      "execution_count": null,
      "outputs": [
        {
          "output_type": "stream",
          "name": "stdout",
          "text": [
            "['Bipul', 123454, 'bipul@abc.com', 77.9]\n"
          ]
        }
      ]
    },
    {
      "cell_type": "code",
      "source": [
        "print(Product_name)"
      ],
      "metadata": {
        "colab": {
          "base_uri": "https://localhost:8080/"
        },
        "id": "BQd-Q26fwJMN",
        "outputId": "ac14eadc-d8d6-49cd-eab6-5aac25615ad3"
      },
      "execution_count": null,
      "outputs": [
        {
          "output_type": "stream",
          "name": "stdout",
          "text": [
            "['earphones', 'charger', 'apple', 'potato', 'sunscreen', 'milk', 'bread', 'cold drink', 'egg', 'banana']\n"
          ]
        }
      ]
    },
    {
      "cell_type": "code",
      "source": [
        "Product_name[1] = 'bottle'\n",
        "print(Product_name)"
      ],
      "metadata": {
        "colab": {
          "base_uri": "https://localhost:8080/"
        },
        "id": "j6M8ZPig19vw",
        "outputId": "b3d7fe2c-424e-43ed-f63f-123b6247c088"
      },
      "execution_count": null,
      "outputs": [
        {
          "output_type": "stream",
          "name": "stdout",
          "text": [
            "['earphones', 'bottle', 'apple', 'potato', 'sunscreen', 'milk', 'bread', 'cold drink', 'egg', 'banana']\n"
          ]
        }
      ]
    },
    {
      "cell_type": "code",
      "source": [
        "#removing using value\n",
        "Product_name.remove('milk')\n",
        "print(Product_name)"
      ],
      "metadata": {
        "colab": {
          "base_uri": "https://localhost:8080/"
        },
        "id": "M3rfnHDT2GL9",
        "outputId": "bd833755-fbf4-481c-a4d7-032ff0c793fd"
      },
      "execution_count": null,
      "outputs": [
        {
          "output_type": "stream",
          "name": "stdout",
          "text": [
            "['earphones', 'bottle', 'apple', 'potato', 'sunscreen', 'bread', 'cold drink', 'egg', 'banana']\n"
          ]
        }
      ]
    },
    {
      "cell_type": "code",
      "source": [
        "#removing using index\n",
        "Product_name.pop(2)\n",
        "print(Product_name)"
      ],
      "metadata": {
        "colab": {
          "base_uri": "https://localhost:8080/"
        },
        "id": "XbnzZcvL2eZe",
        "outputId": "b43bd037-d197-46d9-8fbf-f550199f39a1"
      },
      "execution_count": null,
      "outputs": [
        {
          "output_type": "stream",
          "name": "stdout",
          "text": [
            "['earphones', 'bottle', 'potato', 'sunscreen', 'bread', 'cold drink', 'egg', 'banana']\n"
          ]
        }
      ]
    },
    {
      "cell_type": "code",
      "source": [
        "Product_name = [\"earphones\", 'charger',\n",
        "                \"apple\", 'potato', 'sunscreen',\n",
        "                'milk', 'bread','cold drink',\n",
        "                'egg', 'milk' , 'banana',\n",
        "                'milk']\n",
        "\n",
        "print(Product_name)"
      ],
      "metadata": {
        "colab": {
          "base_uri": "https://localhost:8080/"
        },
        "id": "PfRxfvaS296t",
        "outputId": "eecae924-46fd-41e1-85e5-10dfee356ef5"
      },
      "execution_count": null,
      "outputs": [
        {
          "output_type": "stream",
          "name": "stdout",
          "text": [
            "['earphones', 'charger', 'apple', 'potato', 'sunscreen', 'milk', 'bread', 'cold drink', 'egg', 'milk', 'banana', 'milk']\n"
          ]
        }
      ]
    },
    {
      "cell_type": "code",
      "source": [
        "Product_name.remove('milk')\n",
        "print(Product_name)"
      ],
      "metadata": {
        "colab": {
          "base_uri": "https://localhost:8080/"
        },
        "id": "1WmCtq5J43VZ",
        "outputId": "9ab3634c-d42e-4ec6-8488-6736cdbb7ad3"
      },
      "execution_count": null,
      "outputs": [
        {
          "output_type": "stream",
          "name": "stdout",
          "text": [
            "['earphones', 'charger', 'apple', 'potato', 'sunscreen', 'bread', 'cold drink', 'egg', 'milk', 'banana', 'milk']\n"
          ]
        }
      ]
    },
    {
      "cell_type": "code",
      "source": [
        "Product_name.index('milk')"
      ],
      "metadata": {
        "colab": {
          "base_uri": "https://localhost:8080/"
        },
        "id": "Ev2wxuWM5AbK",
        "outputId": "64d47225-57ea-4623-e8de-f3f65f1f1968"
      },
      "execution_count": null,
      "outputs": [
        {
          "output_type": "execute_result",
          "data": {
            "text/plain": [
              "8"
            ]
          },
          "metadata": {},
          "execution_count": 99
        }
      ]
    },
    {
      "cell_type": "code",
      "source": [
        "print(Product_name)"
      ],
      "metadata": {
        "colab": {
          "base_uri": "https://localhost:8080/"
        },
        "id": "xnhu-5sd5DhM",
        "outputId": "46e437a0-2bd5-4e8b-e85f-c07ab7c01f73"
      },
      "execution_count": null,
      "outputs": [
        {
          "output_type": "stream",
          "name": "stdout",
          "text": [
            "['earphones', 'charger', 'apple', 'potato', 'sunscreen', 'bread', 'cold drink', 'egg', 'milk', 'banana', 'milk']\n"
          ]
        }
      ]
    },
    {
      "cell_type": "code",
      "source": [
        "emp_name = [\"Simran\" , \"Arjun\" , \"Ajay\" , \"Ramesh\" , \"Jacob\"]\n",
        "\n",
        "print(emp_name)"
      ],
      "metadata": {
        "colab": {
          "base_uri": "https://localhost:8080/"
        },
        "id": "WuY4hQLH50FI",
        "outputId": "ccc51005-9e76-4b45-d4ce-48a4690f2f29"
      },
      "execution_count": null,
      "outputs": [
        {
          "output_type": "stream",
          "name": "stdout",
          "text": [
            "['Simran', 'Arjun', 'Ajay', 'Ramesh', 'Jacob']\n"
          ]
        }
      ]
    },
    {
      "cell_type": "code",
      "source": [
        "emp_name.append(\"Bipul\")\n",
        "print(emp_name)"
      ],
      "metadata": {
        "colab": {
          "base_uri": "https://localhost:8080/"
        },
        "id": "0Aq9I0Hd57_X",
        "outputId": "ca5357c8-89e0-4baf-9978-4905ceefbd81"
      },
      "execution_count": null,
      "outputs": [
        {
          "output_type": "stream",
          "name": "stdout",
          "text": [
            "['Simran', 'Arjun', 'Ajay', 'Ramesh', 'Jacob', 'Bipul']\n"
          ]
        }
      ]
    },
    {
      "cell_type": "code",
      "source": [
        "#insert\n",
        "emp_name.insert(2, \"Sandeep\")\n",
        "print(emp_name)"
      ],
      "metadata": {
        "colab": {
          "base_uri": "https://localhost:8080/"
        },
        "id": "zddIcpf06Bno",
        "outputId": "ec1cfac3-2512-4b1e-f333-708d5f386c57"
      },
      "execution_count": null,
      "outputs": [
        {
          "output_type": "stream",
          "name": "stdout",
          "text": [
            "['Simran', 'Arjun', 'Sandeep', 'Ajay', 'Ramesh', 'Jacob', 'Bipul']\n"
          ]
        }
      ]
    },
    {
      "cell_type": "code",
      "source": [
        "cities = (\"NewDelhi\",\"Mumbai\",\"Kolkata\",\"Chennai\",\"Banglore\")\n",
        "\n",
        "print(cities)"
      ],
      "metadata": {
        "colab": {
          "base_uri": "https://localhost:8080/"
        },
        "id": "h9C-lkeo6TNP",
        "outputId": "a6fc30fd-36b8-4ebd-d96b-0cb077722516"
      },
      "execution_count": null,
      "outputs": [
        {
          "output_type": "stream",
          "name": "stdout",
          "text": [
            "('NewDelhi', 'Mumbai', 'Kolkata', 'Chennai', 'Banglore')\n"
          ]
        }
      ]
    },
    {
      "cell_type": "code",
      "source": [
        "print(type(cities))"
      ],
      "metadata": {
        "colab": {
          "base_uri": "https://localhost:8080/"
        },
        "id": "qt3d9XBT655w",
        "outputId": "0067727d-3157-41e3-b40f-8e021a7c9b02"
      },
      "execution_count": null,
      "outputs": [
        {
          "output_type": "stream",
          "name": "stdout",
          "text": [
            "<class 'tuple'>\n"
          ]
        }
      ]
    },
    {
      "cell_type": "code",
      "source": [
        "print(len(cities))"
      ],
      "metadata": {
        "colab": {
          "base_uri": "https://localhost:8080/"
        },
        "id": "oL61uPGi7BHc",
        "outputId": "34730bb7-df98-4af4-88f5-79170dd80ecc"
      },
      "execution_count": null,
      "outputs": [
        {
          "output_type": "stream",
          "name": "stdout",
          "text": [
            "5\n"
          ]
        }
      ]
    },
    {
      "cell_type": "code",
      "source": [
        "print(cities.index('Mumbai'))"
      ],
      "metadata": {
        "colab": {
          "base_uri": "https://localhost:8080/"
        },
        "id": "2RNMSs177RPF",
        "outputId": "d6d7c0de-e8a7-4bc1-a49e-5e4ffa2408a7"
      },
      "execution_count": null,
      "outputs": [
        {
          "output_type": "stream",
          "name": "stdout",
          "text": [
            "1\n"
          ]
        }
      ]
    },
    {
      "cell_type": "code",
      "source": [
        "cities[2] = 'Jaipur'\n",
        "print(cities)"
      ],
      "metadata": {
        "colab": {
          "base_uri": "https://localhost:8080/",
          "height": 181
        },
        "id": "-y0d57-a7UpY",
        "outputId": "b60b7cd4-5fcd-4656-db1c-8e9246f2bed5"
      },
      "execution_count": null,
      "outputs": [
        {
          "output_type": "error",
          "ename": "TypeError",
          "evalue": "'tuple' object does not support item assignment",
          "traceback": [
            "\u001b[0;31m---------------------------------------------------------------------------\u001b[0m",
            "\u001b[0;31mTypeError\u001b[0m                                 Traceback (most recent call last)",
            "\u001b[0;32m<ipython-input-112-5cb12443795b>\u001b[0m in \u001b[0;36m<cell line: 1>\u001b[0;34m()\u001b[0m\n\u001b[0;32m----> 1\u001b[0;31m \u001b[0mcities\u001b[0m\u001b[0;34m[\u001b[0m\u001b[0;36m2\u001b[0m\u001b[0;34m]\u001b[0m \u001b[0;34m=\u001b[0m \u001b[0;34m'Jaipur'\u001b[0m\u001b[0;34m\u001b[0m\u001b[0;34m\u001b[0m\u001b[0m\n\u001b[0m\u001b[1;32m      2\u001b[0m \u001b[0mprint\u001b[0m\u001b[0;34m(\u001b[0m\u001b[0mcities\u001b[0m\u001b[0;34m)\u001b[0m\u001b[0;34m\u001b[0m\u001b[0;34m\u001b[0m\u001b[0m\n",
            "\u001b[0;31mTypeError\u001b[0m: 'tuple' object does not support item assignment"
          ]
        }
      ]
    },
    {
      "cell_type": "code",
      "source": [
        "print(cities)"
      ],
      "metadata": {
        "colab": {
          "base_uri": "https://localhost:8080/"
        },
        "id": "D0MrFn_s7Z7h",
        "outputId": "cee42c22-8dd7-4dc5-a411-ea195b141a9c"
      },
      "execution_count": null,
      "outputs": [
        {
          "output_type": "stream",
          "name": "stdout",
          "text": [
            "('NewDelhi', 'Mumbai', 'Kolkata', 'Chennai', 'Banglore')\n"
          ]
        }
      ]
    },
    {
      "cell_type": "code",
      "source": [
        "print(list(cities))"
      ],
      "metadata": {
        "colab": {
          "base_uri": "https://localhost:8080/"
        },
        "id": "Og0RQH1i79uZ",
        "outputId": "c42d7e93-f6c3-4855-9920-f454254be48c"
      },
      "execution_count": null,
      "outputs": [
        {
          "output_type": "stream",
          "name": "stdout",
          "text": [
            "['NewDelhi', 'Mumbai', 'Kolkata', 'Chennai', 'Banglore']\n"
          ]
        }
      ]
    },
    {
      "cell_type": "code",
      "source": [
        "print(cities)"
      ],
      "metadata": {
        "colab": {
          "base_uri": "https://localhost:8080/"
        },
        "id": "fDq_i5Q08Det",
        "outputId": "407b066b-caa5-40ba-8049-39614c964664"
      },
      "execution_count": null,
      "outputs": [
        {
          "output_type": "stream",
          "name": "stdout",
          "text": [
            "('NewDelhi', 'Mumbai', 'Kolkata', 'Chennai', 'Banglore')\n"
          ]
        }
      ]
    },
    {
      "cell_type": "code",
      "source": [
        "emp_name = [\"Simran\" , \"Arjun\" , \"Ajay\" , \"Ramesh\" , \"Jacob\"]\n",
        "print(emp_name)"
      ],
      "metadata": {
        "colab": {
          "base_uri": "https://localhost:8080/"
        },
        "id": "FlnK6dXM8Grm",
        "outputId": "836babc4-bc70-41d4-f1c0-3e78e1833d5e"
      },
      "execution_count": null,
      "outputs": [
        {
          "output_type": "stream",
          "name": "stdout",
          "text": [
            "['Simran', 'Arjun', 'Ajay', 'Ramesh', 'Jacob']\n"
          ]
        }
      ]
    },
    {
      "cell_type": "code",
      "source": [
        "two_emp = emp_name[1:3]\n",
        "print(two_emp)"
      ],
      "metadata": {
        "colab": {
          "base_uri": "https://localhost:8080/"
        },
        "id": "8mrBlgB08Riz",
        "outputId": "e7e4cb42-acb4-4856-ba4c-0c3fb548a559"
      },
      "execution_count": null,
      "outputs": [
        {
          "output_type": "stream",
          "name": "stdout",
          "text": [
            "['Arjun', 'Ajay']\n"
          ]
        }
      ]
    },
    {
      "cell_type": "code",
      "source": [
        "two_emp[0] = \"Sandeep\"\n",
        "print(two_emp)"
      ],
      "metadata": {
        "colab": {
          "base_uri": "https://localhost:8080/"
        },
        "id": "SZdlYEDT8U30",
        "outputId": "5dbb5707-8a05-4bcb-bd02-0d31f6226c89"
      },
      "execution_count": null,
      "outputs": [
        {
          "output_type": "stream",
          "name": "stdout",
          "text": [
            "['Sandeep', 'Ajay']\n"
          ]
        }
      ]
    },
    {
      "cell_type": "code",
      "source": [
        "print(emp_name)"
      ],
      "metadata": {
        "colab": {
          "base_uri": "https://localhost:8080/"
        },
        "id": "iS64bCLV8bGm",
        "outputId": "5493b240-7ed3-4402-cbc6-05bf964ec9e1"
      },
      "execution_count": null,
      "outputs": [
        {
          "output_type": "stream",
          "name": "stdout",
          "text": [
            "['Simran', 'Arjun', 'Ajay', 'Ramesh', 'Jacob']\n"
          ]
        }
      ]
    },
    {
      "cell_type": "code",
      "source": [
        "#Dictionary\n",
        "\n",
        "student = {\"name\" : \"Ajay\",\n",
        "           \"age\" : 22,\n",
        "           \"city\" : \"NewDelhi\"}\n",
        "\n",
        "print(student)\n",
        "print(type(student))"
      ],
      "metadata": {
        "colab": {
          "base_uri": "https://localhost:8080/"
        },
        "id": "l_gy5py18dj4",
        "outputId": "3018fafb-f6b1-4b64-af7a-47bd4f4d5d51"
      },
      "execution_count": null,
      "outputs": [
        {
          "output_type": "stream",
          "name": "stdout",
          "text": [
            "{'name': 'Ajay', 'age': 22, 'city': 'NewDelhi'}\n",
            "<class 'dict'>\n"
          ]
        }
      ]
    },
    {
      "cell_type": "code",
      "source": [
        "print(student.keys())\n",
        "print(student.values())"
      ],
      "metadata": {
        "colab": {
          "base_uri": "https://localhost:8080/"
        },
        "id": "c3YHCU5l9p4L",
        "outputId": "d84a32f1-5c5d-4c38-ac60-c5a05b5a4d1c"
      },
      "execution_count": null,
      "outputs": [
        {
          "output_type": "stream",
          "name": "stdout",
          "text": [
            "dict_keys(['name', 'age', 'city'])\n",
            "dict_values(['Ajay', 22, 'NewDelhi'])\n"
          ]
        }
      ]
    },
    {
      "cell_type": "code",
      "source": [
        "print(student['name'])"
      ],
      "metadata": {
        "colab": {
          "base_uri": "https://localhost:8080/"
        },
        "id": "l5nzGfF59I05",
        "outputId": "49df7558-be75-4486-ac6c-132bb2ed2614"
      },
      "execution_count": null,
      "outputs": [
        {
          "output_type": "stream",
          "name": "stdout",
          "text": [
            "Ajay\n"
          ]
        }
      ]
    },
    {
      "cell_type": "code",
      "source": [
        "print(student)"
      ],
      "metadata": {
        "colab": {
          "base_uri": "https://localhost:8080/"
        },
        "id": "kvmgRD6n9cQB",
        "outputId": "3d305f9c-81ba-41b8-e4e6-6f2f1f2f0366"
      },
      "execution_count": null,
      "outputs": [
        {
          "output_type": "stream",
          "name": "stdout",
          "text": [
            "{'name': 'Ajay', 'age': 22, 'city': 'NewDelhi'}\n"
          ]
        }
      ]
    },
    {
      "cell_type": "code",
      "source": [
        "#Adding a new entity into existing dictionary\n",
        "student['email'] = 'ajay@hello.com'\n",
        "print(student)"
      ],
      "metadata": {
        "colab": {
          "base_uri": "https://localhost:8080/"
        },
        "id": "XOTIM_dI-h4i",
        "outputId": "73029f44-351b-4f4d-ec4c-ad3b69dffb8f"
      },
      "execution_count": null,
      "outputs": [
        {
          "output_type": "stream",
          "name": "stdout",
          "text": [
            "{'name': 'Ajay', 'age': 22, 'city': 'NewDelhi', 'email': 'ajay@hello.com'}\n"
          ]
        }
      ]
    },
    {
      "cell_type": "code",
      "source": [
        "student.pop('city')"
      ],
      "metadata": {
        "colab": {
          "base_uri": "https://localhost:8080/",
          "height": 55
        },
        "id": "I8J_H3yM-sHa",
        "outputId": "ee7d43bd-759e-4c9e-f380-918d7eb8c67b"
      },
      "execution_count": null,
      "outputs": [
        {
          "output_type": "execute_result",
          "data": {
            "text/plain": [
              "'NewDelhi'"
            ],
            "application/vnd.google.colaboratory.intrinsic+json": {
              "type": "string"
            }
          },
          "metadata": {},
          "execution_count": 133
        }
      ]
    },
    {
      "cell_type": "code",
      "source": [
        "print(student)"
      ],
      "metadata": {
        "colab": {
          "base_uri": "https://localhost:8080/"
        },
        "id": "XAyKek0d_Os_",
        "outputId": "3e7327e9-dafd-466d-fccb-b808e7bf96af"
      },
      "execution_count": null,
      "outputs": [
        {
          "output_type": "stream",
          "name": "stdout",
          "text": [
            "{'name': 'Ajay', 'age': 22, 'email': 'ajay@hello.com'}\n"
          ]
        }
      ]
    },
    {
      "cell_type": "code",
      "source": [
        "del(student['age'])"
      ],
      "metadata": {
        "id": "SSxYC0Ke_k6t"
      },
      "execution_count": null,
      "outputs": []
    },
    {
      "cell_type": "code",
      "source": [
        "print(student)"
      ],
      "metadata": {
        "colab": {
          "base_uri": "https://localhost:8080/"
        },
        "id": "mdNjxplP_pf9",
        "outputId": "9ab357b6-2a01-46c5-dba1-bf90be7c1805"
      },
      "execution_count": null,
      "outputs": [
        {
          "output_type": "stream",
          "name": "stdout",
          "text": [
            "{'name': 'Ajay', 'email': 'ajay@hello.com'}\n"
          ]
        }
      ]
    },
    {
      "cell_type": "code",
      "source": [
        "print(student)"
      ],
      "metadata": {
        "colab": {
          "base_uri": "https://localhost:8080/"
        },
        "id": "yjxvvZe__t6e",
        "outputId": "3dc0a1e9-e8c9-4adb-fb50-4594ce97c7e8"
      },
      "execution_count": null,
      "outputs": [
        {
          "output_type": "stream",
          "name": "stdout",
          "text": [
            "{'name': 'Ajay', 'email': 'ajay@hello.com'}\n"
          ]
        }
      ]
    },
    {
      "cell_type": "code",
      "source": [
        "student['name'] = 'Amrit'\n",
        "print(student)"
      ],
      "metadata": {
        "colab": {
          "base_uri": "https://localhost:8080/"
        },
        "id": "L00wTpHKAuYB",
        "outputId": "5e10b3e7-9dd2-4638-9d4d-9714c22ccce0"
      },
      "execution_count": null,
      "outputs": [
        {
          "output_type": "stream",
          "name": "stdout",
          "text": [
            "{'name': 'Amrit', 'email': 'ajay@hello.com'}\n"
          ]
        }
      ]
    },
    {
      "cell_type": "code",
      "source": [
        "student['city'] = 'Jaipur'\n",
        "print(student)"
      ],
      "metadata": {
        "colab": {
          "base_uri": "https://localhost:8080/"
        },
        "id": "oKlUwQCmAzks",
        "outputId": "79248d64-ef5b-433b-c4b3-8b7cdc1bc840"
      },
      "execution_count": null,
      "outputs": [
        {
          "output_type": "stream",
          "name": "stdout",
          "text": [
            "{'name': 'Amrit', 'email': 'ajay@hello.com', 'city': 'Jaipur'}\n"
          ]
        }
      ]
    },
    {
      "cell_type": "code",
      "source": [
        "print(student)"
      ],
      "metadata": {
        "colab": {
          "base_uri": "https://localhost:8080/"
        },
        "id": "8lujsO5vA75f",
        "outputId": "779cdcce-4cd7-4967-abe8-a24cf12d1b7e"
      },
      "execution_count": null,
      "outputs": [
        {
          "output_type": "stream",
          "name": "stdout",
          "text": [
            "{'name': 'Amrit', 'email': 'ajay@hello.com', 'city': 'Jaipur'}\n"
          ]
        }
      ]
    },
    {
      "cell_type": "code",
      "source": [
        "print(student.keys())\n",
        "print(student.values())"
      ],
      "metadata": {
        "colab": {
          "base_uri": "https://localhost:8080/"
        },
        "id": "5S94b0X_BbPs",
        "outputId": "def579dd-f7f9-40a6-830b-94cfdb1bef35"
      },
      "execution_count": null,
      "outputs": [
        {
          "output_type": "stream",
          "name": "stdout",
          "text": [
            "dict_keys(['name', 'email', 'city'])\n",
            "dict_values(['Amrit', 'ajay@hello.com', 'Jaipur'])\n"
          ]
        }
      ]
    },
    {
      "cell_type": "code",
      "source": [
        "print(student.items())"
      ],
      "metadata": {
        "colab": {
          "base_uri": "https://localhost:8080/"
        },
        "id": "3ekba_sIBdap",
        "outputId": "0a28de89-8819-49e5-b21b-73684f052307"
      },
      "execution_count": null,
      "outputs": [
        {
          "output_type": "stream",
          "name": "stdout",
          "text": [
            "dict_items([('name', 'Amrit'), ('email', 'ajay@hello.com'), ('city', 'Jaipur')])\n"
          ]
        }
      ]
    },
    {
      "cell_type": "markdown",
      "source": [
        "* key => string, numeric , tuple\n",
        "* value => string, numeric , list , tuple"
      ],
      "metadata": {
        "id": "rmEl5PfmDybz"
      }
    },
    {
      "cell_type": "code",
      "source": [
        "students_detail = {'names' : ['Ajay' , \"Ramesh\" , \"Amit\" , \"Amrit\" , \"Pavan\"],\n",
        "                   'age' : [20, 21, 18, 19, 22],\n",
        "                   'email' : ['ajay@abc.com' , 'ramesh@hello.com' , '--' , '--' , '--']}\n",
        "\n",
        "print(students_detail)"
      ],
      "metadata": {
        "colab": {
          "base_uri": "https://localhost:8080/"
        },
        "id": "ab3clCJ2Bk8m",
        "outputId": "41b969cf-aa33-4d50-9825-54f58bcb24ad"
      },
      "execution_count": null,
      "outputs": [
        {
          "output_type": "stream",
          "name": "stdout",
          "text": [
            "{'names': ['Ajay', 'Ramesh', 'Amit', 'Amrit', 'Pavan'], 'age': [20, 21, 18, 19, 22], 'email': ['ajay@abc.com', 'ramesh@hello.com', '--', '--', '--']}\n"
          ]
        }
      ]
    },
    {
      "cell_type": "code",
      "source": [
        "print(students_detail['names'][2])\n",
        "print(students_detail['age'][2])\n",
        "print(students_detail['email'][2])"
      ],
      "metadata": {
        "colab": {
          "base_uri": "https://localhost:8080/"
        },
        "id": "b4RsQOxaFhex",
        "outputId": "e8636d60-0315-4344-fc96-8c8bbd05c409"
      },
      "execution_count": null,
      "outputs": [
        {
          "output_type": "stream",
          "name": "stdout",
          "text": [
            "Amit\n",
            "18\n",
            "--\n"
          ]
        }
      ]
    },
    {
      "cell_type": "code",
      "source": [
        "student_detail2 = [{'name' : 'Ajay' , 'age' : 20 , 'email' : 'ajay@abc.com'},\n",
        "                   {'name' : 'Ramesh' , 'age' : 21 , 'email' : 'ramesh@abc.com'},\n",
        "                   {'name' : 'Amit' , 'age' : 18 , 'email' : '--'},\n",
        "                   {'name' : 'Amrit' , 'age' : 19 , 'email' : '--'},\n",
        "                   {'name' : 'Pavan' , 'age' : 22 , 'email' : '--'}]\n",
        "\n",
        "print(student_detail2)"
      ],
      "metadata": {
        "colab": {
          "base_uri": "https://localhost:8080/"
        },
        "id": "BZPFkYd_Donj",
        "outputId": "e04008d7-0866-42d3-f8dc-7e5154cac2cb"
      },
      "execution_count": null,
      "outputs": [
        {
          "output_type": "stream",
          "name": "stdout",
          "text": [
            "[{'name': 'Ajay', 'age': 20, 'email': 'ajay@abc.com'}, {'name': 'Ramesh', 'age': 21, 'email': 'ramesh@abc.com'}, {'name': 'Amit', 'age': 18, 'email': '--'}, {'name': 'Amrit', 'age': 19, 'email': '--'}, {'name': 'Pavan', 'age': 22, 'email': '--'}]\n"
          ]
        }
      ]
    },
    {
      "cell_type": "code",
      "source": [
        "print(student_detail2[2])"
      ],
      "metadata": {
        "colab": {
          "base_uri": "https://localhost:8080/"
        },
        "id": "qu6BkdU8FbHj",
        "outputId": "28d1fa9a-171a-4e95-d4a6-b559fda4cd68"
      },
      "execution_count": null,
      "outputs": [
        {
          "output_type": "stream",
          "name": "stdout",
          "text": [
            "{'name': 'Amit', 'age': 18, 'email': '--'}\n"
          ]
        }
      ]
    },
    {
      "cell_type": "code",
      "source": [
        "print(student)"
      ],
      "metadata": {
        "colab": {
          "base_uri": "https://localhost:8080/"
        },
        "id": "5MmbGvsxF5A-",
        "outputId": "57ef00c5-6707-47f2-bd8a-507ea5f21a21"
      },
      "execution_count": null,
      "outputs": [
        {
          "output_type": "stream",
          "name": "stdout",
          "text": [
            "{'name': 'Amrit', 'email': 'ajay@hello.com', 'city': 'Jaipur'}\n"
          ]
        }
      ]
    },
    {
      "cell_type": "code",
      "source": [
        "print(student['email'])"
      ],
      "metadata": {
        "colab": {
          "base_uri": "https://localhost:8080/"
        },
        "id": "KFPGrQKIGNl6",
        "outputId": "1d757fb0-2917-4798-f54d-9cd5e98276fc"
      },
      "execution_count": null,
      "outputs": [
        {
          "output_type": "stream",
          "name": "stdout",
          "text": [
            "ajay@hello.com\n"
          ]
        }
      ]
    },
    {
      "cell_type": "code",
      "source": [
        "#How can we find out key of Jaipur in studnet variable\n",
        "city_name = 'Jaipur'"
      ],
      "metadata": {
        "id": "chcneIodGS0Z"
      },
      "execution_count": null,
      "outputs": []
    },
    {
      "cell_type": "code",
      "source": [
        "print(list(student.values()).index('Jaipur'))"
      ],
      "metadata": {
        "colab": {
          "base_uri": "https://localhost:8080/"
        },
        "id": "os38M5r5Gkiq",
        "outputId": "eda1fd61-cd46-4a39-b7d1-0c9b70aacc74"
      },
      "execution_count": null,
      "outputs": [
        {
          "output_type": "stream",
          "name": "stdout",
          "text": [
            "2\n"
          ]
        }
      ]
    },
    {
      "cell_type": "code",
      "source": [
        "print(list(student.keys())[2])"
      ],
      "metadata": {
        "colab": {
          "base_uri": "https://localhost:8080/"
        },
        "id": "LKsJPXp-GqI3",
        "outputId": "37c91fcf-1bfb-4351-e6bd-a457f4e5572c"
      },
      "execution_count": null,
      "outputs": [
        {
          "output_type": "stream",
          "name": "stdout",
          "text": [
            "city\n"
          ]
        }
      ]
    },
    {
      "cell_type": "code",
      "source": [
        "names = {\"Jai\" , \"John\" , \"Ajay\" , \"John\"}\n",
        "\n",
        "print(names)\n",
        "print(type(names))"
      ],
      "metadata": {
        "colab": {
          "base_uri": "https://localhost:8080/"
        },
        "id": "Ih0rFdIJG36k",
        "outputId": "119c33eb-06db-4fc6-e825-6ac1550de666"
      },
      "execution_count": null,
      "outputs": [
        {
          "output_type": "stream",
          "name": "stdout",
          "text": [
            "{'Ajay', 'Jai', 'John'}\n",
            "<class 'set'>\n"
          ]
        }
      ]
    },
    {
      "cell_type": "code",
      "source": [
        "print(names.add('Jai'))\n",
        "print(names)"
      ],
      "metadata": {
        "colab": {
          "base_uri": "https://localhost:8080/"
        },
        "id": "W7ufrx-VKNUd",
        "outputId": "590a8b0d-7613-45a2-daab-66f7f8eeb08b"
      },
      "execution_count": null,
      "outputs": [
        {
          "output_type": "stream",
          "name": "stdout",
          "text": [
            "None\n",
            "{'Ajay', 'Jai', 'John'}\n"
          ]
        }
      ]
    },
    {
      "cell_type": "code",
      "source": [
        "names.add('Rahul')\n",
        "print(names)"
      ],
      "metadata": {
        "colab": {
          "base_uri": "https://localhost:8080/"
        },
        "id": "XsmFcNHsKpEt",
        "outputId": "3d36cf3e-dde1-4208-b222-e0fadc7c3ebc"
      },
      "execution_count": null,
      "outputs": [
        {
          "output_type": "stream",
          "name": "stdout",
          "text": [
            "{'Ajay', 'Jai', 'Rahul', 'John'}\n"
          ]
        }
      ]
    },
    {
      "cell_type": "code",
      "source": [
        "print(names[0])"
      ],
      "metadata": {
        "colab": {
          "base_uri": "https://localhost:8080/",
          "height": 163
        },
        "id": "ZW28_q9xKt-S",
        "outputId": "65a3f3e6-c67b-4450-9f67-373125d062b4"
      },
      "execution_count": null,
      "outputs": [
        {
          "output_type": "error",
          "ename": "TypeError",
          "evalue": "'set' object is not subscriptable",
          "traceback": [
            "\u001b[0;31m---------------------------------------------------------------------------\u001b[0m",
            "\u001b[0;31mTypeError\u001b[0m                                 Traceback (most recent call last)",
            "\u001b[0;32m<ipython-input-169-6ca3554f4aa4>\u001b[0m in \u001b[0;36m<cell line: 1>\u001b[0;34m()\u001b[0m\n\u001b[0;32m----> 1\u001b[0;31m \u001b[0mprint\u001b[0m\u001b[0;34m(\u001b[0m\u001b[0mnames\u001b[0m\u001b[0;34m[\u001b[0m\u001b[0;36m0\u001b[0m\u001b[0;34m]\u001b[0m\u001b[0;34m)\u001b[0m\u001b[0;34m\u001b[0m\u001b[0;34m\u001b[0m\u001b[0m\n\u001b[0m",
            "\u001b[0;31mTypeError\u001b[0m: 'set' object is not subscriptable"
          ]
        }
      ]
    },
    {
      "cell_type": "code",
      "source": [
        "emp_name = [\"Simran\" , \"Arjun\" , \"Ajay\" , \"Ramesh\" , \"Jacob\" , \"Ajay\" , \"Arjun\"]\n",
        "\n",
        "print(emp_name)"
      ],
      "metadata": {
        "colab": {
          "base_uri": "https://localhost:8080/"
        },
        "id": "yok2DlovLRtu",
        "outputId": "9204d00a-d35d-4991-d611-316c4f3a4f70"
      },
      "execution_count": null,
      "outputs": [
        {
          "output_type": "stream",
          "name": "stdout",
          "text": [
            "['Simran', 'Arjun', 'Ajay', 'Ramesh', 'Jacob', 'Ajay', 'Arjun']\n"
          ]
        }
      ]
    },
    {
      "cell_type": "markdown",
      "source": [
        "* Remove all duplicate values from the list\n",
        "* Remove all occurances of Ajay from the list"
      ],
      "metadata": {
        "id": "yRQkg8HgMb9h"
      }
    },
    {
      "cell_type": "code",
      "source": [
        "print(set(emp_name))"
      ],
      "metadata": {
        "colab": {
          "base_uri": "https://localhost:8080/"
        },
        "id": "Hvpzs2lJMa_Y",
        "outputId": "d186c570-bb37-4179-92f8-1dd310c62101"
      },
      "execution_count": null,
      "outputs": [
        {
          "output_type": "stream",
          "name": "stdout",
          "text": [
            "{'Ramesh', 'Simran', 'Arjun', 'Ajay', 'Jacob'}\n"
          ]
        }
      ]
    },
    {
      "cell_type": "code",
      "source": [
        "updated_emp_name = list(set(emp_name))\n",
        "\n",
        "updated_emp_name.remove('Ajay')\n",
        "\n",
        "print(updated_emp_name)"
      ],
      "metadata": {
        "colab": {
          "base_uri": "https://localhost:8080/"
        },
        "id": "AUrbLL_cMRIX",
        "outputId": "82cfce92-5fec-40d1-f4fa-e2cce2ca077b"
      },
      "execution_count": null,
      "outputs": [
        {
          "output_type": "stream",
          "name": "stdout",
          "text": [
            "['Ramesh', 'Simran', 'Arjun', 'Jacob']\n"
          ]
        }
      ]
    },
    {
      "cell_type": "code",
      "source": [
        "print(emp_name)"
      ],
      "metadata": {
        "colab": {
          "base_uri": "https://localhost:8080/"
        },
        "id": "Y4IFBB67OmFe",
        "outputId": "457bf4de-048c-4c33-8dbf-9a504bb2a2fe"
      },
      "execution_count": null,
      "outputs": [
        {
          "output_type": "stream",
          "name": "stdout",
          "text": [
            "['Simran', 'Arjun', 'Ajay', 'Ramesh', 'Jacob', 'Ajay', 'Arjun']\n"
          ]
        }
      ]
    },
    {
      "cell_type": "code",
      "source": [
        "print(id(emp_name))"
      ],
      "metadata": {
        "colab": {
          "base_uri": "https://localhost:8080/"
        },
        "id": "EfZSBkj1Nerv",
        "outputId": "c4d2638e-bc9d-47fd-c73a-a72f3e4e0bfe"
      },
      "execution_count": null,
      "outputs": [
        {
          "output_type": "stream",
          "name": "stdout",
          "text": [
            "137630820232896\n"
          ]
        }
      ]
    },
    {
      "cell_type": "code",
      "source": [
        "set1 = {\"P1001\", \"P1002\", \"P1003\"}\n",
        "set2 = {\"P1003\", \"P1004\", \"P1005\"}\n",
        "\n",
        "print(set1 | set2)"
      ],
      "metadata": {
        "colab": {
          "base_uri": "https://localhost:8080/"
        },
        "id": "s5Xn05E_OY1k",
        "outputId": "77ce4b56-1984-420b-8fe0-5afaf64e34ce"
      },
      "execution_count": null,
      "outputs": [
        {
          "output_type": "stream",
          "name": "stdout",
          "text": [
            "{'P1002', 'P1003', 'P1004', 'P1005', 'P1001'}\n"
          ]
        }
      ]
    },
    {
      "cell_type": "code",
      "source": [
        "print(set1 & set2)"
      ],
      "metadata": {
        "colab": {
          "base_uri": "https://localhost:8080/"
        },
        "id": "Ua6Ri-wMQZNS",
        "outputId": "863395cf-905f-477d-ed08-38ab3922224e"
      },
      "execution_count": null,
      "outputs": [
        {
          "output_type": "stream",
          "name": "stdout",
          "text": [
            "{'P1003'}\n"
          ]
        }
      ]
    },
    {
      "cell_type": "code",
      "source": [
        "print(set1 - set2)"
      ],
      "metadata": {
        "colab": {
          "base_uri": "https://localhost:8080/"
        },
        "id": "ZoDc6jlyQeNA",
        "outputId": "6f631243-f114-4259-ee99-e3e598ffd114"
      },
      "execution_count": null,
      "outputs": [
        {
          "output_type": "stream",
          "name": "stdout",
          "text": [
            "{'P1002', 'P1001'}\n"
          ]
        }
      ]
    },
    {
      "cell_type": "code",
      "source": [
        "print(set2 - set1)"
      ],
      "metadata": {
        "colab": {
          "base_uri": "https://localhost:8080/"
        },
        "id": "CZwLdZCiQg8N",
        "outputId": "d6a3cac0-2e8a-43f1-c65c-828e3cf9ff92"
      },
      "execution_count": null,
      "outputs": [
        {
          "output_type": "stream",
          "name": "stdout",
          "text": [
            "{'P1004', 'P1005'}\n"
          ]
        }
      ]
    },
    {
      "cell_type": "code",
      "source": [
        "status = True\n",
        "print(type(status))"
      ],
      "metadata": {
        "colab": {
          "base_uri": "https://localhost:8080/"
        },
        "id": "aMOKf90YQqMh",
        "outputId": "34656bdf-da1d-4305-fd0c-3ee9101bc5ef"
      },
      "execution_count": null,
      "outputs": [
        {
          "output_type": "stream",
          "name": "stdout",
          "text": [
            "<class 'bool'>\n"
          ]
        }
      ]
    },
    {
      "cell_type": "code",
      "source": [
        "status = False\n",
        "print(type(status))"
      ],
      "metadata": {
        "colab": {
          "base_uri": "https://localhost:8080/"
        },
        "id": "lPafBx3DUE-q",
        "outputId": "9e9c39ad-1eff-4918-e679-60cbaed1f9fe"
      },
      "execution_count": null,
      "outputs": [
        {
          "output_type": "stream",
          "name": "stdout",
          "text": [
            "<class 'bool'>\n"
          ]
        }
      ]
    },
    {
      "cell_type": "code",
      "source": [
        "status = bool(1)\n",
        "print(status)\n",
        "print(type(status))"
      ],
      "metadata": {
        "colab": {
          "base_uri": "https://localhost:8080/"
        },
        "id": "GjEPDIuXUPAp",
        "outputId": "7494e289-43ea-4814-ce59-966b42406883"
      },
      "execution_count": null,
      "outputs": [
        {
          "output_type": "stream",
          "name": "stdout",
          "text": [
            "True\n",
            "<class 'bool'>\n"
          ]
        }
      ]
    },
    {
      "cell_type": "code",
      "source": [
        "for i in range(0,5):\n",
        "    print(i , \"Hello World\")"
      ],
      "metadata": {
        "colab": {
          "base_uri": "https://localhost:8080/"
        },
        "id": "3FOvQsDWUTpq",
        "outputId": "5408885d-76c0-4ac0-ea11-674fbca818c3"
      },
      "execution_count": null,
      "outputs": [
        {
          "output_type": "stream",
          "name": "stdout",
          "text": [
            "0 Hello World\n",
            "1 Hello World\n",
            "2 Hello World\n",
            "3 Hello World\n",
            "4 Hello World\n"
          ]
        }
      ]
    },
    {
      "cell_type": "code",
      "source": [
        "numbers = [2,5,4,7,9,8,6,12]\n",
        "\n",
        "new_numbers = []\n",
        "\n",
        "for k in range(len(numbers)):\n",
        "  #print(numbers[k]*2)\n",
        "  new_numbers.append(numbers[k]*2)\n",
        "\n",
        "print(new_numbers)"
      ],
      "metadata": {
        "colab": {
          "base_uri": "https://localhost:8080/"
        },
        "id": "zHe8CC5chNWC",
        "outputId": "a4a35f44-2c4e-4517-e0c9-60952d19716a"
      },
      "execution_count": null,
      "outputs": [
        {
          "output_type": "stream",
          "name": "stdout",
          "text": [
            "[4, 10, 8, 14, 18, 16, 12, 24]\n"
          ]
        }
      ]
    },
    {
      "cell_type": "code",
      "source": [
        "numbers = [2,5,4,7,9,8,6,12]\n",
        "\n",
        "new_numbers = []\n",
        "\n",
        "for num in numbers:\n",
        "  #print(num * 2)\n",
        "  new_numbers.append(num*2)\n",
        "\n",
        "print(new_numbers)"
      ],
      "metadata": {
        "colab": {
          "base_uri": "https://localhost:8080/"
        },
        "id": "BziW1gdohl7v",
        "outputId": "c0005032-7b70-48ce-bd10-b6fccbfa12f9"
      },
      "execution_count": null,
      "outputs": [
        {
          "output_type": "stream",
          "name": "stdout",
          "text": [
            "[4, 10, 8, 14, 18, 16, 12, 24]\n"
          ]
        }
      ]
    },
    {
      "cell_type": "code",
      "source": [
        "for i in range(0,10,2):\n",
        "  print(i)"
      ],
      "metadata": {
        "colab": {
          "base_uri": "https://localhost:8080/"
        },
        "id": "MXm6Ik6-iiEI",
        "outputId": "2bb50e53-66e2-460f-e588-db4b55361c3f"
      },
      "execution_count": null,
      "outputs": [
        {
          "output_type": "stream",
          "name": "stdout",
          "text": [
            "0\n",
            "2\n",
            "4\n",
            "6\n",
            "8\n"
          ]
        }
      ]
    },
    {
      "cell_type": "code",
      "source": [
        "for i in range(10,0,-1):\n",
        "  print(i, end=' ')"
      ],
      "metadata": {
        "colab": {
          "base_uri": "https://localhost:8080/"
        },
        "id": "lJ_UtXYLj08R",
        "outputId": "a009dec6-66d0-4b00-9ed6-d8fb26c47070"
      },
      "execution_count": null,
      "outputs": [
        {
          "output_type": "stream",
          "name": "stdout",
          "text": [
            "10 9 8 7 6 5 4 3 2 1 "
          ]
        }
      ]
    },
    {
      "cell_type": "markdown",
      "source": [
        "* If Condition"
      ],
      "metadata": {
        "id": "AMKnYgBdkzAG"
      }
    },
    {
      "cell_type": "code",
      "source": [
        "#Compare age value to print if someone is permitted to vote or not\n",
        "\n",
        "age = int(input('Enter Your age'))\n",
        "\n",
        "if age >= 18:\n",
        "  print(\"You are permitted to vote\")\n",
        "else:\n",
        "  print(\"You are not permitted to vote\")"
      ],
      "metadata": {
        "colab": {
          "base_uri": "https://localhost:8080/"
        },
        "id": "yurTwb9Nj8Kv",
        "outputId": "74149f94-9d13-47bd-99b5-97b58cf69758"
      },
      "execution_count": null,
      "outputs": [
        {
          "output_type": "stream",
          "name": "stdout",
          "text": [
            "Enter Your age31\n",
            "You are permitted to vote\n"
          ]
        }
      ]
    },
    {
      "cell_type": "code",
      "source": [
        "i = 0\n",
        "\n",
        "while i < 5:\n",
        "  print(i , \"You are permitted to vote\")\n",
        "  i = i + 1\n",
        "else:\n",
        "  print(\"abcde\")"
      ],
      "metadata": {
        "colab": {
          "base_uri": "https://localhost:8080/"
        },
        "id": "cVD7BE7olDpC",
        "outputId": "e3830daf-68d7-461d-ef6a-b413942ca286"
      },
      "execution_count": null,
      "outputs": [
        {
          "output_type": "stream",
          "name": "stdout",
          "text": [
            "0 You are permitted to vote\n",
            "1 You are permitted to vote\n",
            "2 You are permitted to vote\n",
            "3 You are permitted to vote\n",
            "4 You are permitted to vote\n",
            "abcde\n"
          ]
        }
      ]
    },
    {
      "cell_type": "code",
      "source": [
        "Sales_data = [\n",
        "    {\"Product_ID\": \"P1001\", \"Product_Name\": \"Organic Apple\", \"Category\": \"Groceries\", \"Price\": 50, \"Quantity_Sold\": 30, \"Customer_ID\": \"C5001\", \"Rating\": 4.5},\n",
        "    {\"Product_ID\": \"P1002\", \"Product_Name\": \"Whole Wheat Bread\", \"Category\": \"Groceries\", \"Price\": 30, \"Quantity_Sold\": 15, \"Customer_ID\": \"C5002\", \"Rating\": 4.0},\n",
        "    {\"Product_ID\": \"P2001\", \"Product_Name\": \"Bluetooth Headphones\", \"Category\": \"Electronics\", \"Price\": 1500, \"Quantity_Sold\": 5, \"Customer_ID\": \"C5003\", \"Rating\": 4.2},\n",
        "    {\"Product_ID\": \"P1001\", \"Product_Name\": \"Organic Apple\", \"Category\": \"Groceries\", \"Price\": 50, \"Quantity_Sold\": 50, \"Customer_ID\": \"C5004\", \"Rating\": 4.5},\n",
        "     {\"Product_ID\": \"P2002\", \"Product_Name\": \"Smart Watch\", \"Category\": \"Electronics\", \"Price\": 800, \"Quantity_Sold\": 7, \"Customer_ID\": \"C5004\", \"Rating\": 4.6},\n",
        "    {\"Product_ID\": \"P3001\", \"Product_Name\": \"Yoga Mat\", \"Category\": \"Sporting Goods\", \"Price\": 300, \"Quantity_Sold\": 10, \"Customer_ID\": \"C5005\", \"Rating\": 4.8},\n",
        "    {\"Product_ID\": \"P3002\", \"Product_Name\": \"Dumbbell Set\", \"Category\": \"Sporting Goods\", \"Price\": 500, \"Quantity_Sold\": 8, \"Customer_ID\": \"C5006\", \"Rating\": 4.7},\n",
        "    {\"Product_ID\": \"P4001\", \"Product_Name\": \"Cotton T-Shirt\", \"Category\": \"Apparel\", \"Price\": 200, \"Quantity_Sold\": 20, \"Customer_ID\": \"C5007\", \"Rating\": 4.3},\n",
        "    {\"Product_ID\": \"P4002\", \"Product_Name\": \"Jeans\", \"Category\": \"Apparel\", \"Price\": 300, \"Quantity_Sold\": 12, \"Customer_ID\": \"C5008\", \"Rating\": 4.5},\n",
        "   {\"Product_ID\": \"P4002\", \"Product_Name\": \"Jeans\", \"Category\": \"Apparel\", \"Price\": 300, \"Quantity_Sold\": 20, \"Customer_ID\": \"C5007\", \"Rating\": 4.5},\n",
        "    {\"Product_ID\": \"P5001\", \"Product_Name\": \"Running Shoes\", \"Category\": \"Footwear\", \"Price\": 600, \"Quantity_Sold\": 9, \"Customer_ID\": \"C5009\", \"Rating\": 4.4},\n",
        "    {\"Product_ID\": \"P5002\", \"Product_Name\": \"Leather Wallet\", \"Category\": \"Accessories\", \"Price\": 150, \"Quantity_Sold\": 11, \"Customer_ID\": \"C5010\", \"Rating\": 4.6}\n",
        "\n",
        "]\n",
        "\n",
        "print(Sales_data)"
      ],
      "metadata": {
        "colab": {
          "base_uri": "https://localhost:8080/"
        },
        "id": "DwFKyoZVmTkW",
        "outputId": "a570381a-af0a-4b20-e1e0-6c77983b2b75"
      },
      "execution_count": null,
      "outputs": [
        {
          "output_type": "stream",
          "name": "stdout",
          "text": [
            "[{'Product_ID': 'P1001', 'Product_Name': 'Organic Apple', 'Category': 'Groceries', 'Price': 50, 'Quantity_Sold': 30, 'Customer_ID': 'C5001', 'Rating': 4.5}, {'Product_ID': 'P1002', 'Product_Name': 'Whole Wheat Bread', 'Category': 'Groceries', 'Price': 30, 'Quantity_Sold': 15, 'Customer_ID': 'C5002', 'Rating': 4.0}, {'Product_ID': 'P2001', 'Product_Name': 'Bluetooth Headphones', 'Category': 'Electronics', 'Price': 1500, 'Quantity_Sold': 5, 'Customer_ID': 'C5003', 'Rating': 4.2}, {'Product_ID': 'P1001', 'Product_Name': 'Organic Apple', 'Category': 'Groceries', 'Price': 50, 'Quantity_Sold': 50, 'Customer_ID': 'C5004', 'Rating': 4.5}, {'Product_ID': 'P2002', 'Product_Name': 'Smart Watch', 'Category': 'Electronics', 'Price': 800, 'Quantity_Sold': 7, 'Customer_ID': 'C5004', 'Rating': 4.6}, {'Product_ID': 'P3001', 'Product_Name': 'Yoga Mat', 'Category': 'Sporting Goods', 'Price': 300, 'Quantity_Sold': 10, 'Customer_ID': 'C5005', 'Rating': 4.8}, {'Product_ID': 'P3002', 'Product_Name': 'Dumbbell Set', 'Category': 'Sporting Goods', 'Price': 500, 'Quantity_Sold': 8, 'Customer_ID': 'C5006', 'Rating': 4.7}, {'Product_ID': 'P4001', 'Product_Name': 'Cotton T-Shirt', 'Category': 'Apparel', 'Price': 200, 'Quantity_Sold': 20, 'Customer_ID': 'C5007', 'Rating': 4.3}, {'Product_ID': 'P4002', 'Product_Name': 'Jeans', 'Category': 'Apparel', 'Price': 300, 'Quantity_Sold': 12, 'Customer_ID': 'C5008', 'Rating': 4.5}, {'Product_ID': 'P4002', 'Product_Name': 'Jeans', 'Category': 'Apparel', 'Price': 300, 'Quantity_Sold': 20, 'Customer_ID': 'C5007', 'Rating': 4.5}, {'Product_ID': 'P5001', 'Product_Name': 'Running Shoes', 'Category': 'Footwear', 'Price': 600, 'Quantity_Sold': 9, 'Customer_ID': 'C5009', 'Rating': 4.4}, {'Product_ID': 'P5002', 'Product_Name': 'Leather Wallet', 'Category': 'Accessories', 'Price': 150, 'Quantity_Sold': 11, 'Customer_ID': 'C5010', 'Rating': 4.6}]\n"
          ]
        }
      ]
    },
    {
      "cell_type": "markdown",
      "source": [
        "* Print the Product_Name of each item in Sales_data until the total price of all iterated products exceeds 10000."
      ],
      "metadata": {
        "id": "HxhdaMFenZ0e"
      }
    },
    {
      "cell_type": "code",
      "source": [
        "count = 0\n",
        "totalPrice = 0\n",
        "\n",
        "while count < len(Sales_data) and totalPrice < 10000:\n",
        "  price = Sales_data[count]['Price']\n",
        "  quantity = Sales_data[count]['Quantity_Sold']\n",
        "  print(Sales_data[count]['Product_Name'])\n",
        "  total = price * quantity\n",
        "  totalPrice += total\n",
        "  print(totalPrice)\n",
        "  count += 1"
      ],
      "metadata": {
        "colab": {
          "base_uri": "https://localhost:8080/"
        },
        "id": "0NdxfSQbnRmF",
        "outputId": "6b07c702-f09a-468b-f03f-94dbedc2c0c7"
      },
      "execution_count": null,
      "outputs": [
        {
          "output_type": "stream",
          "name": "stdout",
          "text": [
            "Organic Apple\n",
            "1500\n",
            "Whole Wheat Bread\n",
            "1950\n",
            "Bluetooth Headphones\n",
            "9450\n",
            "Organic Apple\n",
            "11950\n"
          ]
        }
      ]
    },
    {
      "cell_type": "code",
      "source": [
        "count = 0\n",
        "totalPrice = 0\n",
        "\n",
        "while count < len(Sales_data) and totalPrice < 10000:\n",
        "  price = Sales_data[count]['Price']\n",
        "  quantity = Sales_data[count]['Quantity_Sold']\n",
        "  total = price * quantity\n",
        "  totalPrice += total\n",
        "\n",
        "  if totalPrice < 10000:\n",
        "    print(Sales_data[count]['Product_Name'])\n",
        "  count += 1"
      ],
      "metadata": {
        "colab": {
          "base_uri": "https://localhost:8080/"
        },
        "id": "5jwCFIRhnnmH",
        "outputId": "f664c678-7697-4e34-998a-7f77a4cd009d"
      },
      "execution_count": null,
      "outputs": [
        {
          "output_type": "stream",
          "name": "stdout",
          "text": [
            "Organic Apple\n",
            "Whole Wheat Bread\n",
            "Bluetooth Headphones\n"
          ]
        }
      ]
    },
    {
      "cell_type": "markdown",
      "source": [
        "**break**"
      ],
      "metadata": {
        "id": "YFDTJg7csDF4"
      }
    },
    {
      "cell_type": "code",
      "source": [
        "for i in range(0,10):\n",
        "  print(i)\n",
        "  if i == 7:\n",
        "    break"
      ],
      "metadata": {
        "colab": {
          "base_uri": "https://localhost:8080/"
        },
        "id": "-zibV4iOr6g7",
        "outputId": "2a029fa8-d68c-4300-cceb-4116ba6be34e"
      },
      "execution_count": null,
      "outputs": [
        {
          "output_type": "stream",
          "name": "stdout",
          "text": [
            "0\n",
            "1\n",
            "2\n",
            "3\n",
            "4\n",
            "5\n",
            "6\n",
            "7\n"
          ]
        }
      ]
    },
    {
      "cell_type": "code",
      "source": [
        "for i in range(0,10):\n",
        "  if i == 7:\n",
        "    break\n",
        "  print(i)"
      ],
      "metadata": {
        "colab": {
          "base_uri": "https://localhost:8080/"
        },
        "id": "25PrURTgsR0Y",
        "outputId": "b8f27b12-1ad8-4356-ef0b-03e454f26d48"
      },
      "execution_count": null,
      "outputs": [
        {
          "output_type": "stream",
          "name": "stdout",
          "text": [
            "0\n",
            "1\n",
            "2\n",
            "3\n",
            "4\n",
            "5\n",
            "6\n"
          ]
        }
      ]
    },
    {
      "cell_type": "markdown",
      "source": [
        "**Continue**"
      ],
      "metadata": {
        "id": "VGgZetaysEdv"
      }
    },
    {
      "cell_type": "code",
      "source": [
        "for i in range(0,10):\n",
        "  if i == 7:\n",
        "    continue\n",
        "  print(i)"
      ],
      "metadata": {
        "colab": {
          "base_uri": "https://localhost:8080/"
        },
        "id": "LQCmqIKPsF1b",
        "outputId": "082e37e6-594f-4c7c-8806-366f6d91896a"
      },
      "execution_count": null,
      "outputs": [
        {
          "output_type": "stream",
          "name": "stdout",
          "text": [
            "0\n",
            "1\n",
            "2\n",
            "3\n",
            "4\n",
            "5\n",
            "6\n",
            "8\n",
            "9\n"
          ]
        }
      ]
    },
    {
      "cell_type": "markdown",
      "source": [
        "**if-elif-else**"
      ],
      "metadata": {
        "id": "2mhtA9k-suKb"
      }
    },
    {
      "cell_type": "code",
      "source": [
        "marks = int(input('Enter your marks'))\n",
        "\n",
        "if marks >= 90:\n",
        "  print('A')\n",
        "elif marks >= 80:\n",
        "  print('B')\n",
        "elif marks >= 70:\n",
        "  print('C')\n",
        "elif marks >= 60:\n",
        "  print('D')\n",
        "else:\n",
        "  print('F')"
      ],
      "metadata": {
        "colab": {
          "base_uri": "https://localhost:8080/"
        },
        "id": "7NWsy5G5sew9",
        "outputId": "8a5b886d-09a0-4fee-b69c-1dd0057e20aa"
      },
      "execution_count": null,
      "outputs": [
        {
          "output_type": "stream",
          "name": "stdout",
          "text": [
            "Enter your marks85\n",
            "B\n"
          ]
        }
      ]
    },
    {
      "cell_type": "code",
      "source": [
        "name = \"Bipul Kumar\"\n",
        "\n",
        "print('B' in name)\n",
        "print('T' in name)"
      ],
      "metadata": {
        "colab": {
          "base_uri": "https://localhost:8080/"
        },
        "id": "sZk2i1Ces9i2",
        "outputId": "3b2834c9-979b-4482-922b-4e5d9dbb5e71"
      },
      "execution_count": null,
      "outputs": [
        {
          "output_type": "stream",
          "name": "stdout",
          "text": [
            "True\n",
            "False\n"
          ]
        }
      ]
    },
    {
      "cell_type": "code",
      "source": [
        "print('B' not in name)\n",
        "print('T' not in name)"
      ],
      "metadata": {
        "colab": {
          "base_uri": "https://localhost:8080/"
        },
        "id": "6DX9CtxevaKR",
        "outputId": "00161678-fd2e-4e56-ccfa-0d8e0c7301e0"
      },
      "execution_count": null,
      "outputs": [
        {
          "output_type": "stream",
          "name": "stdout",
          "text": [
            "False\n",
            "True\n"
          ]
        }
      ]
    },
    {
      "cell_type": "code",
      "source": [
        "print(cities)"
      ],
      "metadata": {
        "colab": {
          "base_uri": "https://localhost:8080/"
        },
        "id": "bP_7CFswviBX",
        "outputId": "8d450346-34e2-4b00-a68d-bb8b8534ffbf"
      },
      "execution_count": null,
      "outputs": [
        {
          "output_type": "stream",
          "name": "stdout",
          "text": [
            "('NewDelhi', 'Mumbai', 'Kolkata', 'Chennai', 'Banglore')\n"
          ]
        }
      ]
    },
    {
      "cell_type": "code",
      "source": [
        "print('Mumbai' in cities)"
      ],
      "metadata": {
        "colab": {
          "base_uri": "https://localhost:8080/"
        },
        "id": "sZX-qeCOvmzU",
        "outputId": "395fba71-b17a-4fd6-d409-9c8857aac576"
      },
      "execution_count": null,
      "outputs": [
        {
          "output_type": "stream",
          "name": "stdout",
          "text": [
            "True\n"
          ]
        }
      ]
    },
    {
      "cell_type": "code",
      "source": [
        "print(student)"
      ],
      "metadata": {
        "colab": {
          "base_uri": "https://localhost:8080/"
        },
        "id": "75RDBmQtvrtF",
        "outputId": "d1cbb8ef-4518-4172-9501-8f36904c2654"
      },
      "execution_count": null,
      "outputs": [
        {
          "output_type": "stream",
          "name": "stdout",
          "text": [
            "{'name': 'Amrit', 'email': 'ajay@hello.com', 'city': 'Jaipur'}\n"
          ]
        }
      ]
    },
    {
      "cell_type": "code",
      "source": [
        "print('email' in student)"
      ],
      "metadata": {
        "id": "EtMvumTmvvvs",
        "outputId": "fb18c4d7-d73e-4803-ebfe-36c2c8d403ad",
        "colab": {
          "base_uri": "https://localhost:8080/"
        }
      },
      "execution_count": null,
      "outputs": [
        {
          "output_type": "stream",
          "name": "stdout",
          "text": [
            "True\n"
          ]
        }
      ]
    },
    {
      "cell_type": "code",
      "source": [],
      "metadata": {
        "id": "pXfPB3aivzvS"
      },
      "execution_count": null,
      "outputs": []
    }
  ]
}