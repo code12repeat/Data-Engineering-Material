{
  "nbformat": 4,
  "nbformat_minor": 0,
  "metadata": {
    "colab": {
      "provenance": []
    },
    "kernelspec": {
      "name": "python3",
      "display_name": "Python 3"
    },
    "language_info": {
      "name": "python"
    }
  },
  "cells": [
    {
      "cell_type": "code",
      "execution_count": 35,
      "metadata": {
        "id": "xMZjLsuQwuG9"
      },
      "outputs": [],
      "source": [
        "class myClass:\n",
        "  name = \"Arun\"\n",
        "\n",
        "  def say_hello(self):\n",
        "    self.age = 36\n",
        "    #print(\"Hello\",myClass.name)\n",
        "    print(\"Hello\",__class__.name)\n",
        "    print(\"Age\",self.age)\n",
        "\n",
        "  def show_details(self):\n",
        "    print({\"Name\" : myClass.name , \"Age\" : self.age})"
      ]
    },
    {
      "cell_type": "code",
      "source": [
        "c1 = myClass()\n",
        "\n",
        "print(c1.name)"
      ],
      "metadata": {
        "colab": {
          "base_uri": "https://localhost:8080/"
        },
        "id": "JFIwK-VKwzDV",
        "outputId": "cc878494-9452-44b7-faf9-527d922299bf"
      },
      "execution_count": 36,
      "outputs": [
        {
          "output_type": "stream",
          "name": "stdout",
          "text": [
            "Arun\n"
          ]
        }
      ]
    },
    {
      "cell_type": "code",
      "source": [
        "c1.say_hello()"
      ],
      "metadata": {
        "colab": {
          "base_uri": "https://localhost:8080/"
        },
        "id": "rGK84Cc1w3VU",
        "outputId": "e976055e-6dc4-48bc-c8a3-776512415655"
      },
      "execution_count": 37,
      "outputs": [
        {
          "output_type": "stream",
          "name": "stdout",
          "text": [
            "Hello Arun\n",
            "Age 36\n"
          ]
        }
      ]
    },
    {
      "cell_type": "code",
      "source": [
        "c1.show_details()"
      ],
      "metadata": {
        "colab": {
          "base_uri": "https://localhost:8080/"
        },
        "id": "akhcGFG6xU_D",
        "outputId": "0f0a495d-5055-4193-b0b9-03c2b7e8594a"
      },
      "execution_count": 38,
      "outputs": [
        {
          "output_type": "stream",
          "name": "stdout",
          "text": [
            "{'Name': 'Arun', 'Age': 36}\n"
          ]
        }
      ]
    },
    {
      "cell_type": "code",
      "source": [
        "class student:\n",
        "\n",
        "  def __init__(self,id):\n",
        "    self.id = id"
      ],
      "metadata": {
        "id": "NPXGGCaEzSwp"
      },
      "execution_count": 42,
      "outputs": []
    },
    {
      "cell_type": "code",
      "source": [
        "s1 = student(1)\n",
        "s2 = student(2)\n",
        "s3 = student(3)\n",
        "\n",
        "print(s1.id)\n",
        "print(s2.id)\n",
        "print(s3.id)"
      ],
      "metadata": {
        "colab": {
          "base_uri": "https://localhost:8080/"
        },
        "id": "lHa8i5Wu0bQA",
        "outputId": "7a6aab51-5350-419a-ec20-86c3e30e51ec"
      },
      "execution_count": 45,
      "outputs": [
        {
          "output_type": "stream",
          "name": "stdout",
          "text": [
            "1\n",
            "2\n",
            "3\n"
          ]
        }
      ]
    },
    {
      "cell_type": "code",
      "source": [
        "class mobile:\n",
        "  def __init__(self,brandname,price):\n",
        "    self.brandname = brandname\n",
        "    self.price = price\n",
        "\n",
        "  def say_hi(self):\n",
        "    print(f\"Hi, the mobile brand is {self.brandname} and its costs {self.price} rupees.\")"
      ],
      "metadata": {
        "id": "7Wtm-Vs90dKE"
      },
      "execution_count": 46,
      "outputs": []
    },
    {
      "cell_type": "code",
      "source": [
        "m1 = mobile(\"Samsung\",10000)\n",
        "m2 = mobile(\"Apple\",20000)\n",
        "m3 = mobile(\"Nokia\",30000)\n",
        "\n",
        "m1.say_hi()\n",
        "m2.say_hi()\n",
        "m3.say_hi()"
      ],
      "metadata": {
        "colab": {
          "base_uri": "https://localhost:8080/"
        },
        "id": "FQ7SPZ6w1zzG",
        "outputId": "693fa951-a9b1-483e-f1e0-0cc528ba0b88"
      },
      "execution_count": 48,
      "outputs": [
        {
          "output_type": "stream",
          "name": "stdout",
          "text": [
            "Hi, the mobile brand is Samsung and its costs 10000 rupees.\n",
            "Hi, the mobile brand is Apple and its costs 20000 rupees.\n",
            "Hi, the mobile brand is Nokia and its costs 30000 rupees.\n"
          ]
        }
      ]
    },
    {
      "cell_type": "code",
      "source": [
        "print(m1.brandname)\n",
        "print(m2.brandname)"
      ],
      "metadata": {
        "colab": {
          "base_uri": "https://localhost:8080/"
        },
        "id": "38SY6hwu6bec",
        "outputId": "e36e5059-f11a-4c28-f22a-b05758278334"
      },
      "execution_count": 62,
      "outputs": [
        {
          "output_type": "stream",
          "name": "stdout",
          "text": [
            "Samsung\n",
            "Apple\n"
          ]
        }
      ]
    },
    {
      "cell_type": "code",
      "source": [
        "class college:\n",
        "  course = 'BE'\n",
        "\n",
        "  def opted(obj):\n",
        "    print(\"You have opted for\",obj.course)\n",
        "\n",
        "c1 = college()\n",
        "c1.opted()"
      ],
      "metadata": {
        "colab": {
          "base_uri": "https://localhost:8080/"
        },
        "id": "d90yCpX114gq",
        "outputId": "ebc4bae9-9750-452b-ed77-bc398aa70065"
      },
      "execution_count": 49,
      "outputs": [
        {
          "output_type": "stream",
          "name": "stdout",
          "text": [
            "You have opted for BE\n"
          ]
        }
      ]
    },
    {
      "cell_type": "code",
      "source": [
        "class college:\n",
        "  course = 'BE'\n",
        "\n",
        "  def opted(self,year):\n",
        "    self.year = year\n",
        "    print(\"You have opted for\",self.course,\"You are studying in\" , self.year)\n",
        "\n",
        "\n",
        "college.opt = classmethod(college.opted)\n",
        "college.opt(\"2nd\")"
      ],
      "metadata": {
        "colab": {
          "base_uri": "https://localhost:8080/"
        },
        "id": "XltxPk2E2vtx",
        "outputId": "d14e49bd-e363-4554-cd8d-e666a7694c2b"
      },
      "execution_count": 56,
      "outputs": [
        {
          "output_type": "stream",
          "name": "stdout",
          "text": [
            "You have opted for BE You are studying in 2nd\n"
          ]
        }
      ]
    },
    {
      "cell_type": "code",
      "source": [
        "class College:\n",
        "  course = \"BE\"\n",
        "\n",
        "  def __init__(self,name):\n",
        "    self.name = name\n",
        "\n",
        "  def show_details(self):\n",
        "    print({\"Name\" : self.name , \"Course\" : self.course})\n",
        "\n",
        "  def change_course(self , new_course):\n",
        "    self.course = new_course\n",
        "\n",
        "\n",
        "c1 = College(\"Arun\")\n",
        "c2 = College(\"Ajay\")\n",
        "\n",
        "c1.show_details()\n",
        "c2.show_details()"
      ],
      "metadata": {
        "colab": {
          "base_uri": "https://localhost:8080/"
        },
        "id": "eYc83dVv69ZU",
        "outputId": "ff34e666-8329-4481-89af-7f66b553e90a"
      },
      "execution_count": 68,
      "outputs": [
        {
          "output_type": "stream",
          "name": "stdout",
          "text": [
            "{'Name': 'Arun', 'Course': 'BE'}\n",
            "{'Name': 'Ajay', 'Course': 'BE'}\n"
          ]
        }
      ]
    },
    {
      "cell_type": "code",
      "source": [
        "c1.change_course(\"B-tech\")\n",
        "\n",
        "c1.show_details()\n",
        "c2.show_details()"
      ],
      "metadata": {
        "colab": {
          "base_uri": "https://localhost:8080/"
        },
        "id": "Nv9UYUKk7F9F",
        "outputId": "854074ce-665b-42b1-e251-3e62cffba9e2"
      },
      "execution_count": 69,
      "outputs": [
        {
          "output_type": "stream",
          "name": "stdout",
          "text": [
            "{'Name': 'Arun', 'Course': 'B-tech'}\n",
            "{'Name': 'Ajay', 'Course': 'BE'}\n"
          ]
        }
      ]
    },
    {
      "cell_type": "code",
      "source": [
        "class College:\n",
        "  course = \"BE\"\n",
        "\n",
        "  def __init__(self,name):\n",
        "    self.name = name\n",
        "\n",
        "  def show_details(self):\n",
        "    print({\"Name\" : self.name , \"Course\" : self.course})\n",
        "\n",
        "  def change_course(cls , new_course):\n",
        "    cls.course = new_course\n",
        "\n",
        "  change_course = classmethod(change_course)"
      ],
      "metadata": {
        "id": "EHx-2Njr2-_V"
      },
      "execution_count": 70,
      "outputs": []
    },
    {
      "cell_type": "code",
      "source": [
        "s1 = College(\"Arun\")\n",
        "s2 = College(\"Ajay\")\n",
        "\n",
        "s1.show_details()\n",
        "s2.show_details()"
      ],
      "metadata": {
        "colab": {
          "base_uri": "https://localhost:8080/"
        },
        "id": "wC_7ssKI5Spx",
        "outputId": "fdff778d-3581-4931-a39d-4ccb4a2ef58f"
      },
      "execution_count": 71,
      "outputs": [
        {
          "output_type": "stream",
          "name": "stdout",
          "text": [
            "{'Name': 'Arun', 'Course': 'BE'}\n",
            "{'Name': 'Ajay', 'Course': 'BE'}\n"
          ]
        }
      ]
    },
    {
      "cell_type": "code",
      "source": [
        "College.change_course(\"B-tech\")\n",
        "\n",
        "s1.show_details()\n",
        "s2.show_details()"
      ],
      "metadata": {
        "colab": {
          "base_uri": "https://localhost:8080/"
        },
        "id": "k73QpR_p5XPS",
        "outputId": "1d79009c-ff3a-405e-af00-1af50ab48454"
      },
      "execution_count": 72,
      "outputs": [
        {
          "output_type": "stream",
          "name": "stdout",
          "text": [
            "{'Name': 'Arun', 'Course': 'B-tech'}\n",
            "{'Name': 'Ajay', 'Course': 'B-tech'}\n"
          ]
        }
      ]
    },
    {
      "cell_type": "code",
      "source": [
        "class Calculator:\n",
        "  def __init__(self, x, y):\n",
        "    self.x = x\n",
        "    self.y = y\n",
        "\n",
        "  def add(self):\n",
        "    return self.x + self.y\n",
        "\n",
        "  @staticmethod\n",
        "  def add_static(a, b):\n",
        "    return (a + b)"
      ],
      "metadata": {
        "id": "QS6Cr91S6zWN"
      },
      "execution_count": 87,
      "outputs": []
    },
    {
      "cell_type": "code",
      "source": [
        "calc = Calculator(10, 20)\n",
        "print(calc.add())"
      ],
      "metadata": {
        "colab": {
          "base_uri": "https://localhost:8080/"
        },
        "id": "nhwajS269twm",
        "outputId": "85e33297-936f-4f05-9255-37b32238f5e1"
      },
      "execution_count": 88,
      "outputs": [
        {
          "output_type": "stream",
          "name": "stdout",
          "text": [
            "30\n"
          ]
        }
      ]
    },
    {
      "cell_type": "code",
      "source": [
        "Calculator.add_static(5, 7)"
      ],
      "metadata": {
        "colab": {
          "base_uri": "https://localhost:8080/"
        },
        "id": "ijh-03nV9wHo",
        "outputId": "4dd8c0fb-233a-4ff4-964e-33b2c21c7207"
      },
      "execution_count": 89,
      "outputs": [
        {
          "output_type": "execute_result",
          "data": {
            "text/plain": [
              "12"
            ]
          },
          "metadata": {},
          "execution_count": 89
        }
      ]
    },
    {
      "cell_type": "code",
      "source": [
        "class Students:\n",
        "  id = 0\n",
        "\n",
        "  def __init__(self,name,id):\n",
        "    self.name = name\n",
        "    self.id = id"
      ],
      "metadata": {
        "id": "nF3lPTMw9zon"
      },
      "execution_count": 99,
      "outputs": []
    },
    {
      "cell_type": "code",
      "source": [
        "s1 = Students('Arun',1)\n",
        "s2 = Students('Ajay',2)\n",
        "\n",
        "print(s1.name)\n",
        "print(s2.name)"
      ],
      "metadata": {
        "colab": {
          "base_uri": "https://localhost:8080/"
        },
        "id": "ZFMFOfoJGpCU",
        "outputId": "25564212-93d0-4c7d-bce2-e5a2263b925d"
      },
      "execution_count": 100,
      "outputs": [
        {
          "output_type": "stream",
          "name": "stdout",
          "text": [
            "Arun\n",
            "Ajay\n"
          ]
        }
      ]
    },
    {
      "cell_type": "code",
      "source": [
        "print(s1.id)\n",
        "print(s2.id)"
      ],
      "metadata": {
        "colab": {
          "base_uri": "https://localhost:8080/"
        },
        "id": "ZZsNSBxzGq81",
        "outputId": "57799722-2755-408a-e6a4-75258db22046"
      },
      "execution_count": 101,
      "outputs": [
        {
          "output_type": "stream",
          "name": "stdout",
          "text": [
            "1\n",
            "2\n"
          ]
        }
      ]
    },
    {
      "cell_type": "code",
      "source": [
        "class Students:\n",
        "  id = 0\n",
        "\n",
        "  def __init__(self,name,id):\n",
        "    self.name = name\n",
        "    Students.id = id"
      ],
      "metadata": {
        "id": "IjtEOLvyGvAY"
      },
      "execution_count": 102,
      "outputs": []
    },
    {
      "cell_type": "code",
      "source": [
        "s1 = Students('Arun',1)\n",
        "print(s1.id)\n",
        "\n",
        "s2 = Students('Ajay',2)\n",
        "print(s2.id)"
      ],
      "metadata": {
        "colab": {
          "base_uri": "https://localhost:8080/"
        },
        "id": "73X2Lo4VHXus",
        "outputId": "e400029f-d934-4a8f-b143-74b7e1969a14"
      },
      "execution_count": 104,
      "outputs": [
        {
          "output_type": "stream",
          "name": "stdout",
          "text": [
            "1\n",
            "2\n"
          ]
        }
      ]
    },
    {
      "cell_type": "code",
      "source": [
        "class myClass:\n",
        "  name = \"Arun\"\n",
        "\n",
        "  def say_hello(self):\n",
        "    print(\"Hello\",myClass.name)"
      ],
      "metadata": {
        "id": "2z-uc-7UHZHx"
      },
      "execution_count": 111,
      "outputs": []
    },
    {
      "cell_type": "code",
      "source": [
        "class newClass(myClass):\n",
        "\n",
        "  def hello(self):\n",
        "    print(\"Hello\" , self.name)"
      ],
      "metadata": {
        "id": "INLVSFKXJFrT"
      },
      "execution_count": 112,
      "outputs": []
    },
    {
      "cell_type": "code",
      "source": [
        "m1 = myClass()\n",
        "m1.say_hello()"
      ],
      "metadata": {
        "colab": {
          "base_uri": "https://localhost:8080/"
        },
        "id": "InQnJ6aqJT3_",
        "outputId": "4f720395-b926-4558-cb07-0f9e4a9c014b"
      },
      "execution_count": 113,
      "outputs": [
        {
          "output_type": "stream",
          "name": "stdout",
          "text": [
            "Hello Arun\n"
          ]
        }
      ]
    },
    {
      "cell_type": "code",
      "source": [
        "n1 = newClass()\n",
        "n1.hello()"
      ],
      "metadata": {
        "colab": {
          "base_uri": "https://localhost:8080/"
        },
        "id": "i758pt0QJZsi",
        "outputId": "517ea664-9e37-42bb-d615-f3fece6ca637"
      },
      "execution_count": 114,
      "outputs": [
        {
          "output_type": "stream",
          "name": "stdout",
          "text": [
            "Hello Arun\n"
          ]
        }
      ]
    },
    {
      "cell_type": "code",
      "source": [
        "from abc import *\n",
        "class Database(ABC):\n",
        "  @abstractmethod\n",
        "  def connect(self):\n",
        "    pass\n",
        "\n",
        "  @abstractmethod\n",
        "  def disconnect(self):\n",
        "    pass\n",
        "\n",
        "  def testmethod(self):\n",
        "    print(\"This is a test method in Database\")"
      ],
      "metadata": {
        "id": "k6NjzabnJeCv"
      },
      "execution_count": 157,
      "outputs": []
    },
    {
      "cell_type": "code",
      "source": [
        "class MySQL(Database):\n",
        "  def connect(self):\n",
        "    print(\"MySQL DB is connected\")\n",
        "\n",
        "  def disconnect(self):\n",
        "    print(\"MySQL DB is disconnected\")\n",
        "\n",
        "  def testmethod(self):\n",
        "    print(\"This is a test method\")"
      ],
      "metadata": {
        "id": "c2p_qbpYKe7U"
      },
      "execution_count": 158,
      "outputs": []
    },
    {
      "cell_type": "code",
      "source": [
        "class MS_SQLServer(Database):\n",
        "  def connect(self):\n",
        "    print(\"MS SQL Server DB is connected\")\n",
        "\n",
        "  def disconnect(self):\n",
        "    print(\"MS SQL Server DB is disconnected\")"
      ],
      "metadata": {
        "id": "TqOGrGDXKqRR"
      },
      "execution_count": 159,
      "outputs": []
    },
    {
      "cell_type": "code",
      "source": [
        "d2 = MySQL()\n",
        "d2.connect()\n",
        "d2.disconnect()\n",
        "d2.testmethod()"
      ],
      "metadata": {
        "colab": {
          "base_uri": "https://localhost:8080/"
        },
        "id": "vz4tNblGKxIA",
        "outputId": "e37edbd4-adb1-4fd6-9454-68329aec0bf3"
      },
      "execution_count": 160,
      "outputs": [
        {
          "output_type": "stream",
          "name": "stdout",
          "text": [
            "MySQL DB is connected\n",
            "MySQL DB is disconnected\n",
            "This is a test method\n"
          ]
        }
      ]
    },
    {
      "cell_type": "code",
      "source": [
        "d3 = MS_SQLServer()\n",
        "d3.connect()\n",
        "d3.disconnect()\n",
        "d3.testmethod()"
      ],
      "metadata": {
        "colab": {
          "base_uri": "https://localhost:8080/"
        },
        "id": "SdPp0n63LEWB",
        "outputId": "7fb81fa9-6c91-4633-8f87-349cbe38e373"
      },
      "execution_count": 161,
      "outputs": [
        {
          "output_type": "stream",
          "name": "stdout",
          "text": [
            "MS SQL Server DB is connected\n",
            "MS SQL Server DB is disconnected\n",
            "This is a test method in Database\n"
          ]
        }
      ]
    },
    {
      "cell_type": "code",
      "source": [
        "from abc import *\n",
        "\n",
        "class shape(ABC):\n",
        "  @abstractmethod\n",
        "  def area(self):\n",
        "    pass\n",
        "\n",
        "  @abstractmethod\n",
        "  def perimeter(self):\n",
        "    pass"
      ],
      "metadata": {
        "id": "xCGuuxh2L2Og"
      },
      "execution_count": 162,
      "outputs": []
    },
    {
      "cell_type": "code",
      "source": [
        "class Circle(shape):\n",
        "  def __init__(self,radius):\n",
        "    self.radius = radius\n",
        "\n",
        "  def area(self):\n",
        "    return 3.14 * self.radius**2\n",
        "\n",
        "  def perimeter(self):\n",
        "    return 2 * 3.14 * self.radius"
      ],
      "metadata": {
        "id": "g7vhms6pOqr7"
      },
      "execution_count": 167,
      "outputs": []
    },
    {
      "cell_type": "code",
      "source": [
        "c1 = Circle(5)\n",
        "print(c1.area())\n",
        "print(c1.perimeter())"
      ],
      "metadata": {
        "colab": {
          "base_uri": "https://localhost:8080/"
        },
        "id": "ZittMR5qSqHz",
        "outputId": "a4cd724f-ae92-46da-9766-f97969bf412f"
      },
      "execution_count": 168,
      "outputs": [
        {
          "output_type": "stream",
          "name": "stdout",
          "text": [
            "78.5\n",
            "31.400000000000002\n"
          ]
        }
      ]
    },
    {
      "cell_type": "code",
      "source": [
        "class demo_class(Circle):\n",
        "  def show_radius(self):\n",
        "    print(self.radius)\n"
      ],
      "metadata": {
        "id": "fh-oYQ7cSuYP"
      },
      "execution_count": 169,
      "outputs": []
    },
    {
      "cell_type": "code",
      "source": [
        "d1 = demo_class(5)\n",
        "d1.show_radius()"
      ],
      "metadata": {
        "colab": {
          "base_uri": "https://localhost:8080/"
        },
        "id": "wPwDTbs1S-m_",
        "outputId": "f2c79b61-a4bb-48f0-a321-2d8b0cee235b"
      },
      "execution_count": 172,
      "outputs": [
        {
          "output_type": "stream",
          "name": "stdout",
          "text": [
            "5\n"
          ]
        }
      ]
    },
    {
      "cell_type": "code",
      "source": [
        "#create a class employee\n",
        "#class variable => count\n",
        "#class constructor => name,experience\n",
        "#class method => show_employee_details() => return name and experince in a dictionary form\n",
        "#class method => show count => return total count of employee"
      ],
      "metadata": {
        "id": "nn7gmGmETCEY"
      },
      "execution_count": null,
      "outputs": []
    },
    {
      "cell_type": "code",
      "source": [
        "class employee:\n",
        "  count = 0\n",
        "\n",
        "  def __init__(self,name,experience):\n",
        "    self.name = name\n",
        "    self.experience = experience\n",
        "    employee.count += 1\n",
        "\n",
        "  def show_employee_details(self):\n",
        "    return {\"Name\" : self.name , \"Experience\" : self.experience}\n",
        "\n",
        "  def show_count(self):\n",
        "    return self.count"
      ],
      "metadata": {
        "id": "16mw3RIFWxnf"
      },
      "execution_count": 186,
      "outputs": []
    },
    {
      "cell_type": "code",
      "source": [
        "e1 = employee(\"Arun\",3)\n",
        "print(e1.show_count())\n",
        "\n",
        "e2 = employee(\"Ajay\",5)\n",
        "print(e2.show_count())\n",
        "\n",
        "e3 = employee(\"Suresh\",2)\n",
        "print(e3.show_count())"
      ],
      "metadata": {
        "colab": {
          "base_uri": "https://localhost:8080/"
        },
        "id": "fRXj6Yv9W9cK",
        "outputId": "fa1d785b-a0a6-4ef0-fa54-1e765c3a2944"
      },
      "execution_count": 187,
      "outputs": [
        {
          "output_type": "stream",
          "name": "stdout",
          "text": [
            "1\n",
            "2\n",
            "3\n"
          ]
        }
      ]
    },
    {
      "cell_type": "code",
      "source": [
        "print(e1.show_employee_details())\n",
        "\n",
        "print(e2.show_employee_details())\n",
        "\n",
        "print(e3.show_employee_details())"
      ],
      "metadata": {
        "colab": {
          "base_uri": "https://localhost:8080/"
        },
        "id": "WQCTAzCSXAWi",
        "outputId": "9fc9d2f3-d681-4b4c-809f-f34489916fc5"
      },
      "execution_count": 188,
      "outputs": [
        {
          "output_type": "stream",
          "name": "stdout",
          "text": [
            "{'Name': 'Arun', 'Experience': 3}\n",
            "{'Name': 'Ajay', 'Experience': 5}\n",
            "{'Name': 'Suresh', 'Experience': 2}\n"
          ]
        }
      ]
    },
    {
      "cell_type": "code",
      "source": [],
      "metadata": {
        "colab": {
          "base_uri": "https://localhost:8080/"
        },
        "id": "b30EOX9tXDQz",
        "outputId": "9a3c2e3a-d7bc-4ae8-c296-bfc126867479"
      },
      "execution_count": 182,
      "outputs": [
        {
          "output_type": "stream",
          "name": "stdout",
          "text": [
            "3\n",
            "3\n",
            "3\n"
          ]
        }
      ]
    },
    {
      "cell_type": "code",
      "source": [
        "class MyClass:\n",
        "    def my_method(self):\n",
        "        print(\"Hello, Everyone!\")\n",
        "\n",
        "class MySubclass(MyClass):\n",
        "    pass\n",
        "\n",
        "obj = MySubclass()\n",
        "obj.my_method()"
      ],
      "metadata": {
        "colab": {
          "base_uri": "https://localhost:8080/"
        },
        "id": "-F1v1nxOXLKf",
        "outputId": "b81f4416-ce5e-4091-ab28-7d1829f4f3dc"
      },
      "execution_count": 189,
      "outputs": [
        {
          "output_type": "stream",
          "name": "stdout",
          "text": [
            "Hello, Everyone!\n"
          ]
        }
      ]
    },
    {
      "cell_type": "code",
      "source": [
        "class MyClass:\n",
        "    def my_method(self):\n",
        "        print(\"Hello, Everyone!\")\n",
        "\n",
        "class MySubclass(MyClass):\n",
        "    def my_method(self):\n",
        "        print(\"Thankyou!\")\n",
        "\n",
        "obj = MySubclass()\n",
        "obj.my_method()"
      ],
      "metadata": {
        "colab": {
          "base_uri": "https://localhost:8080/"
        },
        "id": "dH3TCs4DYV2P",
        "outputId": "cbbd288e-f6b6-4951-8c42-1577e6cecbb4"
      },
      "execution_count": 190,
      "outputs": [
        {
          "output_type": "stream",
          "name": "stdout",
          "text": [
            "Thankyou!\n"
          ]
        }
      ]
    },
    {
      "cell_type": "code",
      "source": [
        "class Parent:\n",
        "  def __init__(self,fname,year):\n",
        "    self.fname = fname\n",
        "    self.year = year\n",
        "\n",
        "  def view(self):\n",
        "        print(self.fname, self.year)\n",
        "\n",
        "class Child(Parent):\n",
        "  def __init__(self,name,year):\n",
        "    Parent.__init__(self,name,year)\n",
        "\n",
        "  def view(self):\n",
        "    print(self.fname,\"was developed in\", self.year)"
      ],
      "metadata": {
        "id": "s40w1S6aYflu"
      },
      "execution_count": 217,
      "outputs": []
    },
    {
      "cell_type": "code",
      "source": [
        "ob = Child(\"Python Programming\",1990)"
      ],
      "metadata": {
        "id": "efedukrXZtDR"
      },
      "execution_count": 218,
      "outputs": []
    },
    {
      "cell_type": "code",
      "source": [
        "ob.view()"
      ],
      "metadata": {
        "colab": {
          "base_uri": "https://localhost:8080/"
        },
        "id": "D6Y_Rub0Zvm1",
        "outputId": "6382e530-c74f-46ba-f89a-8dc9f05f6e15"
      },
      "execution_count": 219,
      "outputs": [
        {
          "output_type": "stream",
          "name": "stdout",
          "text": [
            "Python Programming was developed in 1990\n"
          ]
        }
      ]
    },
    {
      "cell_type": "code",
      "source": [
        "class Parent:\n",
        "  def __init__(self,fname,year):\n",
        "    self.fname = fname\n",
        "    self.year = year\n",
        "\n",
        "class Child(Parent):\n",
        "  def __init__(self,name,year):\n",
        "    super().__init__(name,year)\n",
        "\n",
        "  def view(self):\n",
        "    print(self.fname,\"was developed in\", self.year)"
      ],
      "metadata": {
        "id": "Fr8lB1xJaPYR"
      },
      "execution_count": 215,
      "outputs": []
    },
    {
      "cell_type": "code",
      "source": [
        "ob = Child(\"Python Programming\",1990)\n",
        "ob.view()"
      ],
      "metadata": {
        "colab": {
          "base_uri": "https://localhost:8080/"
        },
        "id": "nytORTdAbDUR",
        "outputId": "91ca2beb-c31b-4201-e76a-59b715a567ff"
      },
      "execution_count": 216,
      "outputs": [
        {
          "output_type": "stream",
          "name": "stdout",
          "text": [
            "Python Programming was developed in 1990\n"
          ]
        }
      ]
    },
    {
      "cell_type": "code",
      "source": [
        "#parent class\n",
        "class Shape:\n",
        "  def __init__(self,name):\n",
        "    self.name = name\n",
        "\n",
        "\n",
        "#child class\n",
        "class Circle(Shape):\n",
        "  def __init__(self,name,radius):\n",
        "    Shape.__init__(self,name)\n",
        "    self.radius = radius\n",
        "\n",
        "  def area(self):\n",
        "    return 3.14 * self.radius**2\n",
        "\n",
        "#Child class\n",
        "class Rectangle(Shape):\n",
        "  def __init__(self,name,length,breadth):\n",
        "    Shape.__init__(self,name)\n",
        "    self.length = length\n",
        "    self.breadth = breadth\n",
        "\n",
        "  def area(self):\n",
        "    return self.length * self.breadth"
      ],
      "metadata": {
        "id": "xZIdRUBpbF7J"
      },
      "execution_count": 222,
      "outputs": []
    },
    {
      "cell_type": "code",
      "source": [
        "circle = Circle(\"Circle\",5)\n",
        "print(circle.area())"
      ],
      "metadata": {
        "colab": {
          "base_uri": "https://localhost:8080/"
        },
        "id": "F0U3scoDdTTh",
        "outputId": "889d49fd-3c84-488a-dd6c-0666cdc78b36"
      },
      "execution_count": 223,
      "outputs": [
        {
          "output_type": "stream",
          "name": "stdout",
          "text": [
            "78.5\n"
          ]
        }
      ]
    },
    {
      "cell_type": "code",
      "source": [
        "rectangle = Rectangle(\"Rectangle\",5,10)\n",
        "print(rectangle.area())"
      ],
      "metadata": {
        "colab": {
          "base_uri": "https://localhost:8080/"
        },
        "id": "q7WAqkXsdX1q",
        "outputId": "a6aa341e-f50f-4190-fde9-50ff14c0df59"
      },
      "execution_count": 224,
      "outputs": [
        {
          "output_type": "stream",
          "name": "stdout",
          "text": [
            "50\n"
          ]
        }
      ]
    },
    {
      "cell_type": "code",
      "source": [
        "class classA:\n",
        "  def view(self):\n",
        "    print(\"This is class A\")\n",
        "\n",
        "class classB(classA):\n",
        "  def view(self):\n",
        "    print(\"This is class B\")\n",
        "\n",
        "obj = classB()\n",
        "obj.view()"
      ],
      "metadata": {
        "colab": {
          "base_uri": "https://localhost:8080/"
        },
        "id": "J2TcJ1M-daye",
        "outputId": "bb6dc358-e72b-49ad-d957-0d1c7c206bbe"
      },
      "execution_count": 225,
      "outputs": [
        {
          "output_type": "stream",
          "name": "stdout",
          "text": [
            "This is class B\n"
          ]
        }
      ]
    },
    {
      "cell_type": "code",
      "source": [
        "super(classB,obj).view()"
      ],
      "metadata": {
        "colab": {
          "base_uri": "https://localhost:8080/"
        },
        "id": "v9uay1dlodEg",
        "outputId": "cf91caff-6ac2-470d-d5b6-ece40e62b01a"
      },
      "execution_count": 226,
      "outputs": [
        {
          "output_type": "stream",
          "name": "stdout",
          "text": [
            "This is class A\n"
          ]
        }
      ]
    },
    {
      "cell_type": "code",
      "source": [
        "class Person:\n",
        "  def __init__(self, name, age):\n",
        "    self.name = name\n",
        "    self.__age = age\n",
        "\n",
        "  def get_age(self):\n",
        "    return self.__age\n",
        "\n",
        "  def set_age(self, age):\n",
        "    self.__age = age\n",
        "\n",
        "  def display(self):\n",
        "    print(f\"Name: {self.name} Age: {self.__age}\")\n",
        ""
      ],
      "metadata": {
        "id": "chZuc-f0ol_6"
      },
      "execution_count": 246,
      "outputs": []
    },
    {
      "cell_type": "code",
      "source": [
        "p1 = Person(\"Arun\", 36)\n",
        "p1.display()"
      ],
      "metadata": {
        "colab": {
          "base_uri": "https://localhost:8080/"
        },
        "id": "j1AEvuWosjSQ",
        "outputId": "dd812b6e-4094-49e8-f0c3-11e3745fd73f"
      },
      "execution_count": 247,
      "outputs": [
        {
          "output_type": "stream",
          "name": "stdout",
          "text": [
            "Name: Arun Age: 36\n"
          ]
        }
      ]
    },
    {
      "cell_type": "code",
      "source": [
        "print(p1.name)\n",
        "print(p1.__age)"
      ],
      "metadata": {
        "colab": {
          "base_uri": "https://localhost:8080/",
          "height": 198
        },
        "id": "OkNDq5EEslj3",
        "outputId": "da184ca2-fbd8-4a2e-88e0-d51d5c58e173"
      },
      "execution_count": 248,
      "outputs": [
        {
          "output_type": "stream",
          "name": "stdout",
          "text": [
            "Arun\n"
          ]
        },
        {
          "output_type": "error",
          "ename": "AttributeError",
          "evalue": "'Person' object has no attribute '__age'",
          "traceback": [
            "\u001b[0;31m---------------------------------------------------------------------------\u001b[0m",
            "\u001b[0;31mAttributeError\u001b[0m                            Traceback (most recent call last)",
            "\u001b[0;32m<ipython-input-248-cf2760b7b19a>\u001b[0m in \u001b[0;36m<cell line: 2>\u001b[0;34m()\u001b[0m\n\u001b[1;32m      1\u001b[0m \u001b[0mprint\u001b[0m\u001b[0;34m(\u001b[0m\u001b[0mp1\u001b[0m\u001b[0;34m.\u001b[0m\u001b[0mname\u001b[0m\u001b[0;34m)\u001b[0m\u001b[0;34m\u001b[0m\u001b[0;34m\u001b[0m\u001b[0m\n\u001b[0;32m----> 2\u001b[0;31m \u001b[0mprint\u001b[0m\u001b[0;34m(\u001b[0m\u001b[0mp1\u001b[0m\u001b[0;34m.\u001b[0m\u001b[0m__age\u001b[0m\u001b[0;34m)\u001b[0m\u001b[0;34m\u001b[0m\u001b[0;34m\u001b[0m\u001b[0m\n\u001b[0m",
            "\u001b[0;31mAttributeError\u001b[0m: 'Person' object has no attribute '__age'"
          ]
        }
      ]
    },
    {
      "cell_type": "code",
      "source": [
        "p1.get_age()"
      ],
      "metadata": {
        "colab": {
          "base_uri": "https://localhost:8080/"
        },
        "id": "QXY9ge41so_D",
        "outputId": "29370fd6-005f-49c5-e8a8-27b7a99aa72c"
      },
      "execution_count": 249,
      "outputs": [
        {
          "output_type": "execute_result",
          "data": {
            "text/plain": [
              "36"
            ]
          },
          "metadata": {},
          "execution_count": 249
        }
      ]
    },
    {
      "cell_type": "code",
      "source": [
        "p1.set_age(40)"
      ],
      "metadata": {
        "id": "Fi8LIfcEtUzU"
      },
      "execution_count": 250,
      "outputs": []
    },
    {
      "cell_type": "code",
      "source": [
        "p1.display()"
      ],
      "metadata": {
        "colab": {
          "base_uri": "https://localhost:8080/"
        },
        "id": "09A-bGLFteNB",
        "outputId": "11e3c74d-92f4-45cb-ecbb-e3b15b6df180"
      },
      "execution_count": 251,
      "outputs": [
        {
          "output_type": "stream",
          "name": "stdout",
          "text": [
            "Name: Arun Age: 40\n"
          ]
        }
      ]
    },
    {
      "cell_type": "code",
      "source": [
        "class Employee:\n",
        "    def __init__(self, name, salary, age):\n",
        "        self.name = name          # Public attribute\n",
        "        self._salary = salary     # Protected attribute\n",
        "        self.__age = age          # Private attribute\n",
        "\n",
        "    def get_age(self):\n",
        "        return self.__age\n",
        "\n",
        "    def set_age(self, age):\n",
        "      if 18 <= age <= 65:\n",
        "        self.__age = age\n",
        "      else:\n",
        "        print(\"Age should be between 18 and 65\")\n",
        "\n",
        "    def display(self):\n",
        "        print(f\"Name: {self.name}, Salary: {self._salary}, Age: {self.__age}\")"
      ],
      "metadata": {
        "id": "kO58yeFotgmP"
      },
      "execution_count": 257,
      "outputs": []
    },
    {
      "cell_type": "code",
      "source": [
        "class Manager(Employee):\n",
        "  def __init__(self, name, salary, age, department):\n",
        "    super().__init__(name, salary, age)\n",
        "    self.department = department\n",
        "\n",
        "  def display_manager_details(self):\n",
        "    super().display()\n",
        "    print(f\"Department: {self.department}\")\n",
        "\n",
        "  def give_raise(self, percentage):\n",
        "    self._salary += (self._salary * percentage / 100)\n",
        "    print(f\"{self.name}'s new salary after {percentage}% raise: {self._salary} \")"
      ],
      "metadata": {
        "id": "t0z8bciyuZiP"
      },
      "execution_count": 258,
      "outputs": []
    },
    {
      "cell_type": "code",
      "source": [
        "e1 = Employee(\"Arun\", 50000, 36)\n",
        "e1.display()"
      ],
      "metadata": {
        "colab": {
          "base_uri": "https://localhost:8080/"
        },
        "id": "70e9QBSztz-I",
        "outputId": "320fc8b0-3092-44e7-eeba-bdb58ee61c01"
      },
      "execution_count": 259,
      "outputs": [
        {
          "output_type": "stream",
          "name": "stdout",
          "text": [
            "Name: Arun, Salary: 50000, Age: 36\n"
          ]
        }
      ]
    },
    {
      "cell_type": "code",
      "source": [
        "print(e1.name)\n",
        "print(e1._salary)\n",
        "print(e1.__age)"
      ],
      "metadata": {
        "colab": {
          "base_uri": "https://localhost:8080/",
          "height": 234
        },
        "id": "Gq7JcHLMt2Rl",
        "outputId": "0255d76f-213b-4cb4-fef5-e57a73372495"
      },
      "execution_count": 260,
      "outputs": [
        {
          "output_type": "stream",
          "name": "stdout",
          "text": [
            "Arun\n",
            "50000\n"
          ]
        },
        {
          "output_type": "error",
          "ename": "AttributeError",
          "evalue": "'Employee' object has no attribute '__age'",
          "traceback": [
            "\u001b[0;31m---------------------------------------------------------------------------\u001b[0m",
            "\u001b[0;31mAttributeError\u001b[0m                            Traceback (most recent call last)",
            "\u001b[0;32m<ipython-input-260-48c503ae1a66>\u001b[0m in \u001b[0;36m<cell line: 3>\u001b[0;34m()\u001b[0m\n\u001b[1;32m      1\u001b[0m \u001b[0mprint\u001b[0m\u001b[0;34m(\u001b[0m\u001b[0me1\u001b[0m\u001b[0;34m.\u001b[0m\u001b[0mname\u001b[0m\u001b[0;34m)\u001b[0m\u001b[0;34m\u001b[0m\u001b[0;34m\u001b[0m\u001b[0m\n\u001b[1;32m      2\u001b[0m \u001b[0mprint\u001b[0m\u001b[0;34m(\u001b[0m\u001b[0me1\u001b[0m\u001b[0;34m.\u001b[0m\u001b[0m_salary\u001b[0m\u001b[0;34m)\u001b[0m\u001b[0;34m\u001b[0m\u001b[0;34m\u001b[0m\u001b[0m\n\u001b[0;32m----> 3\u001b[0;31m \u001b[0mprint\u001b[0m\u001b[0;34m(\u001b[0m\u001b[0me1\u001b[0m\u001b[0;34m.\u001b[0m\u001b[0m__age\u001b[0m\u001b[0;34m)\u001b[0m\u001b[0;34m\u001b[0m\u001b[0;34m\u001b[0m\u001b[0m\n\u001b[0m",
            "\u001b[0;31mAttributeError\u001b[0m: 'Employee' object has no attribute '__age'"
          ]
        }
      ]
    },
    {
      "cell_type": "code",
      "source": [
        "manager = Manager(\"Bob\",80000,40,'IT')\n",
        "manager.display_manager_details()"
      ],
      "metadata": {
        "colab": {
          "base_uri": "https://localhost:8080/"
        },
        "id": "jZQIH0MBt4z9",
        "outputId": "477260ca-b130-4d87-ada3-53a7644f6a0d"
      },
      "execution_count": 261,
      "outputs": [
        {
          "output_type": "stream",
          "name": "stdout",
          "text": [
            "Name: Bob, Salary: 80000, Age: 40\n",
            "Department: IT\n"
          ]
        }
      ]
    },
    {
      "cell_type": "code",
      "source": [
        "manager.give_raise(10)\n",
        "\n",
        "manager.display_manager_details()"
      ],
      "metadata": {
        "colab": {
          "base_uri": "https://localhost:8080/"
        },
        "id": "_7S_RvuWvI7x",
        "outputId": "953cde3e-d094-406f-85c6-9a36c7353a67"
      },
      "execution_count": 262,
      "outputs": [
        {
          "output_type": "stream",
          "name": "stdout",
          "text": [
            "Bob's new salary after 10% raise: 88000.0 \n",
            "Name: Bob, Salary: 88000.0, Age: 40\n",
            "Department: IT\n"
          ]
        }
      ]
    },
    {
      "cell_type": "code",
      "source": [
        "manager.get_age()"
      ],
      "metadata": {
        "colab": {
          "base_uri": "https://localhost:8080/"
        },
        "id": "EssjjlONvQPq",
        "outputId": "30e47753-b955-475a-f678-94533e1652d4"
      },
      "execution_count": 263,
      "outputs": [
        {
          "output_type": "execute_result",
          "data": {
            "text/plain": [
              "40"
            ]
          },
          "metadata": {},
          "execution_count": 263
        }
      ]
    },
    {
      "cell_type": "code",
      "source": [
        "class classA:\n",
        "  def __init__(self,a):\n",
        "    self.a = a\n",
        "\n",
        "\n",
        "class classB:\n",
        "  def __init__(self,b):\n",
        "    self.b = b\n",
        "\n",
        "\n",
        "class classC(classA,classB):\n",
        "  def __init__(self,a,b):\n",
        "    classA.__init__(self,a)\n",
        "    classB.__init__(self,b)\n",
        "\n",
        "  def view(self):\n",
        "    print(self.a,self.b)"
      ],
      "metadata": {
        "id": "LS_eOP-jvYZw"
      },
      "execution_count": 269,
      "outputs": []
    },
    {
      "cell_type": "code",
      "source": [
        "c_obj = classC(10,20)\n",
        "c_obj.view()"
      ],
      "metadata": {
        "colab": {
          "base_uri": "https://localhost:8080/"
        },
        "id": "soZCE0gVws6N",
        "outputId": "68af7c94-324c-42e7-f916-4013afa900e9"
      },
      "execution_count": 270,
      "outputs": [
        {
          "output_type": "stream",
          "name": "stdout",
          "text": [
            "10 20\n"
          ]
        }
      ]
    },
    {
      "cell_type": "code",
      "source": [
        "value = '35'\n",
        "\n",
        "try:\n",
        "  value / 5\n",
        "except Exception as err:\n",
        "  print(err)"
      ],
      "metadata": {
        "colab": {
          "base_uri": "https://localhost:8080/"
        },
        "id": "0Vn5pJMJw0SW",
        "outputId": "60eacd82-93ac-4d36-fa1c-b8833329261f"
      },
      "execution_count": 273,
      "outputs": [
        {
          "output_type": "stream",
          "name": "stdout",
          "text": [
            "unsupported operand type(s) for /: 'str' and 'int'\n"
          ]
        }
      ]
    },
    {
      "cell_type": "code",
      "source": [
        "abc = '25'\n",
        "\n",
        "try:\n",
        "  print(abc/2)\n",
        "except NameError:\n",
        "  print(\"Variable abc is not defined\")\n",
        "except TypeError:\n",
        "  print(\"Variable abc is not a numerical type\")"
      ],
      "metadata": {
        "colab": {
          "base_uri": "https://localhost:8080/"
        },
        "id": "qaiFnIHRxpLD",
        "outputId": "b1818027-1343-4da0-95dc-f0a20d217318"
      },
      "execution_count": 277,
      "outputs": [
        {
          "output_type": "stream",
          "name": "stdout",
          "text": [
            "Variable abc is not a numerical type\n"
          ]
        }
      ]
    },
    {
      "cell_type": "code",
      "source": [
        "class BankAccount:\n",
        "  def __init__(self,account_number,balance):\n",
        "    self.__account_number = account_number\n",
        "    self.__balance = balance\n",
        "\n",
        "  def deposit(self,amount):\n",
        "    self.__balance += amount\n",
        "    print(f\"Deposited INR {amount} new Balance: INR {self.__balance}\")\n",
        "\n",
        "  def withdraw(self,amount):\n",
        "    if amount <= self.__balance:\n",
        "      self.__balance -= amount\n",
        "      print(f\"Withdrawn INR {amount} new Balance: INR {self.__balance}\")\n",
        "    else:\n",
        "      print(\"Insufficient Balance\")\n",
        "\n",
        "  def get_balance(self):\n",
        "    return self.__balance"
      ],
      "metadata": {
        "id": "iWpa1ocXyN2o"
      },
      "execution_count": 280,
      "outputs": []
    },
    {
      "cell_type": "code",
      "source": [
        "account = BankAccount(\"1234547544664\",10000)\n",
        "account.deposit(5000)\n",
        "account.withdraw(2000)\n",
        "print(f\"Current balnce:- {account.get_balance()}\")"
      ],
      "metadata": {
        "colab": {
          "base_uri": "https://localhost:8080/"
        },
        "id": "FiTnR2zDz7mt",
        "outputId": "b1a7ec43-436b-4403-9517-cef8401b4713"
      },
      "execution_count": 282,
      "outputs": [
        {
          "output_type": "stream",
          "name": "stdout",
          "text": [
            "Deposited INR 5000 new Balance: INR 15000\n",
            "Withdrawn INR 2000 new Balance: INR 13000\n",
            "Current balnce:- 13000\n"
          ]
        }
      ]
    },
    {
      "cell_type": "code",
      "source": [
        "account.__balance"
      ],
      "metadata": {
        "colab": {
          "base_uri": "https://localhost:8080/",
          "height": 163
        },
        "id": "sVjQCaX30LCv",
        "outputId": "a42281b8-f429-40ce-dc35-3878c66cc468"
      },
      "execution_count": 283,
      "outputs": [
        {
          "output_type": "error",
          "ename": "AttributeError",
          "evalue": "'BankAccount' object has no attribute '__balance'",
          "traceback": [
            "\u001b[0;31m---------------------------------------------------------------------------\u001b[0m",
            "\u001b[0;31mAttributeError\u001b[0m                            Traceback (most recent call last)",
            "\u001b[0;32m<ipython-input-283-6f48cd55f797>\u001b[0m in \u001b[0;36m<cell line: 1>\u001b[0;34m()\u001b[0m\n\u001b[0;32m----> 1\u001b[0;31m \u001b[0maccount\u001b[0m\u001b[0;34m.\u001b[0m\u001b[0m__balance\u001b[0m\u001b[0;34m\u001b[0m\u001b[0;34m\u001b[0m\u001b[0m\n\u001b[0m",
            "\u001b[0;31mAttributeError\u001b[0m: 'BankAccount' object has no attribute '__balance'"
          ]
        }
      ]
    },
    {
      "cell_type": "code",
      "source": [
        "class Vector:\n",
        "  def __init__(self, x, y):\n",
        "    self.x = x\n",
        "    self.y = y\n",
        "\n",
        "  def __add__(self, other):\n",
        "    return Vector(self.x + other.x, self.y + other.y)\n",
        "\n",
        "  def __mul__(self, other):\n",
        "    return Vector(self.x * other.x, self.y * other.y)"
      ],
      "metadata": {
        "id": "9Zfchh6q3wbH"
      },
      "execution_count": 296,
      "outputs": []
    },
    {
      "cell_type": "code",
      "source": [
        "v1 = Vector(4,7)     #self.x & self.y\n",
        "\n",
        "v2 = Vector(3,4)     #other.x & other.y\n",
        "\n",
        "v3 = v1 + v2\n",
        "print(v3.x , v3.y)\n",
        "\n",
        "v4 = v1 * v2\n",
        "print(v4.x, v4.y)"
      ],
      "metadata": {
        "colab": {
          "base_uri": "https://localhost:8080/"
        },
        "id": "P5IkL16Z32hQ",
        "outputId": "43027750-8365-4db5-e7f9-dcb6b29e4c8a"
      },
      "execution_count": 298,
      "outputs": [
        {
          "output_type": "stream",
          "name": "stdout",
          "text": [
            "7 11\n",
            "12 28\n"
          ]
        }
      ]
    },
    {
      "cell_type": "code",
      "source": [
        "class Vector:\n",
        "  def __init__(self, x, y):\n",
        "    self.x = x\n",
        "    self.y = y\n",
        "\n",
        "  def __add__(self, other):\n",
        "    return Vector(self.x + other.x, self.y + other.y)\n",
        "\n",
        "  def __mul__(self, scaler):\n",
        "    return Vector(self.x * scaler, self.y * scaler)"
      ],
      "metadata": {
        "id": "9Sn_NhxM0Ydm"
      },
      "execution_count": 294,
      "outputs": []
    },
    {
      "cell_type": "code",
      "source": [
        "v1 = Vector(4,7)     #self.x & self.y\n",
        "\n",
        "v2 = Vector(3,4)     #other.x & other.y\n",
        "\n",
        "v3 = v1 + v2\n",
        "print(v3.x , v3.y)\n",
        "\n",
        "v4 = v1 * 5\n",
        "print(v4.x, v4.y)"
      ],
      "metadata": {
        "colab": {
          "base_uri": "https://localhost:8080/"
        },
        "id": "p7AxMhfm10rS",
        "outputId": "a5c63483-49ae-4077-9767-d44a1b7f7e12"
      },
      "execution_count": 295,
      "outputs": [
        {
          "output_type": "stream",
          "name": "stdout",
          "text": [
            "7 11\n",
            "20 35\n"
          ]
        }
      ]
    },
    {
      "cell_type": "code",
      "source": [
        "def newfunc(*args):\n",
        "  return sum(args)"
      ],
      "metadata": {
        "id": "2YhMifGM15BL"
      },
      "execution_count": 300,
      "outputs": []
    },
    {
      "cell_type": "code",
      "source": [
        "newfunc(4,5,6,7)"
      ],
      "metadata": {
        "colab": {
          "base_uri": "https://localhost:8080/"
        },
        "id": "XMR5zKKr5-Z0",
        "outputId": "41866a5e-cc18-44df-e4be-16a61622a944"
      },
      "execution_count": 301,
      "outputs": [
        {
          "output_type": "execute_result",
          "data": {
            "text/plain": [
              "22"
            ]
          },
          "metadata": {},
          "execution_count": 301
        }
      ]
    },
    {
      "cell_type": "code",
      "source": [
        "newfunc(3,6,7,8,9,1,2,4,5)"
      ],
      "metadata": {
        "colab": {
          "base_uri": "https://localhost:8080/"
        },
        "id": "0EfSnQxx6HSR",
        "outputId": "b8966fcd-f0c3-4d77-b75e-1e88ddfe7b0e"
      },
      "execution_count": 302,
      "outputs": [
        {
          "output_type": "execute_result",
          "data": {
            "text/plain": [
              "45"
            ]
          },
          "metadata": {},
          "execution_count": 302
        }
      ]
    },
    {
      "cell_type": "code",
      "source": [
        "def newfunc(**kwargs):\n",
        "  for key,value in kwargs.items():\n",
        "    print(key,value)"
      ],
      "metadata": {
        "id": "1726UiIg6KfZ"
      },
      "execution_count": 306,
      "outputs": []
    },
    {
      "cell_type": "code",
      "source": [
        "newfunc(a=2,b=4,c=5,d=6)"
      ],
      "metadata": {
        "colab": {
          "base_uri": "https://localhost:8080/"
        },
        "id": "m8RhoavK6Rne",
        "outputId": "d9679af9-6756-47c1-89db-7b1336f01ccf"
      },
      "execution_count": 307,
      "outputs": [
        {
          "output_type": "stream",
          "name": "stdout",
          "text": [
            "a 2\n",
            "b 4\n",
            "c 5\n",
            "d 6\n"
          ]
        }
      ]
    },
    {
      "cell_type": "code",
      "source": [
        "import os\n",
        "os.listdir('/content')"
      ],
      "metadata": {
        "colab": {
          "base_uri": "https://localhost:8080/"
        },
        "id": "zulBY8oG6VK5",
        "outputId": "cf73e491-7a9e-46fe-ba1c-5dd7d24dd897"
      },
      "execution_count": 308,
      "outputs": [
        {
          "output_type": "execute_result",
          "data": {
            "text/plain": [
              "['.config', '.ipynb_checkpoints', 'myfile.txt', 'sample_data']"
            ]
          },
          "metadata": {},
          "execution_count": 308
        }
      ]
    },
    {
      "cell_type": "code",
      "source": [
        "file = open('/content/myfile.txt' , 'r')\n",
        "content = file.read()\n",
        "print(content)\n",
        "file.close()"
      ],
      "metadata": {
        "colab": {
          "base_uri": "https://localhost:8080/"
        },
        "id": "gpUZTwZz7H4P",
        "outputId": "c08ac0ec-3064-45dd-8e2b-031f1666db6c"
      },
      "execution_count": 309,
      "outputs": [
        {
          "output_type": "stream",
          "name": "stdout",
          "text": [
            "This is my text file for file Handling.\n"
          ]
        }
      ]
    },
    {
      "cell_type": "code",
      "source": [
        "file = open('/content/newfile.txt' , 'r')\n",
        "content = file.read()\n",
        "print(content)\n",
        "file.close()"
      ],
      "metadata": {
        "colab": {
          "base_uri": "https://localhost:8080/",
          "height": 216
        },
        "id": "F6SH9h6q76v2",
        "outputId": "35901fe9-747a-4ccc-c1f4-1fc91476a87f"
      },
      "execution_count": 310,
      "outputs": [
        {
          "output_type": "error",
          "ename": "FileNotFoundError",
          "evalue": "[Errno 2] No such file or directory: '/content/newfile.txt'",
          "traceback": [
            "\u001b[0;31m---------------------------------------------------------------------------\u001b[0m",
            "\u001b[0;31mFileNotFoundError\u001b[0m                         Traceback (most recent call last)",
            "\u001b[0;32m<ipython-input-310-50c13888c5d3>\u001b[0m in \u001b[0;36m<cell line: 1>\u001b[0;34m()\u001b[0m\n\u001b[0;32m----> 1\u001b[0;31m \u001b[0mfile\u001b[0m \u001b[0;34m=\u001b[0m \u001b[0mopen\u001b[0m\u001b[0;34m(\u001b[0m\u001b[0;34m'/content/newfile.txt'\u001b[0m \u001b[0;34m,\u001b[0m \u001b[0;34m'r'\u001b[0m\u001b[0;34m)\u001b[0m\u001b[0;34m\u001b[0m\u001b[0;34m\u001b[0m\u001b[0m\n\u001b[0m\u001b[1;32m      2\u001b[0m \u001b[0mcontent\u001b[0m \u001b[0;34m=\u001b[0m \u001b[0mfile\u001b[0m\u001b[0;34m.\u001b[0m\u001b[0mread\u001b[0m\u001b[0;34m(\u001b[0m\u001b[0;34m)\u001b[0m\u001b[0;34m\u001b[0m\u001b[0;34m\u001b[0m\u001b[0m\n\u001b[1;32m      3\u001b[0m \u001b[0mprint\u001b[0m\u001b[0;34m(\u001b[0m\u001b[0mcontent\u001b[0m\u001b[0;34m)\u001b[0m\u001b[0;34m\u001b[0m\u001b[0;34m\u001b[0m\u001b[0m\n\u001b[1;32m      4\u001b[0m \u001b[0mfile\u001b[0m\u001b[0;34m.\u001b[0m\u001b[0mclose\u001b[0m\u001b[0;34m(\u001b[0m\u001b[0;34m)\u001b[0m\u001b[0;34m\u001b[0m\u001b[0;34m\u001b[0m\u001b[0m\n",
            "\u001b[0;31mFileNotFoundError\u001b[0m: [Errno 2] No such file or directory: '/content/newfile.txt'"
          ]
        }
      ]
    },
    {
      "cell_type": "code",
      "source": [
        "file = open('/content/newfile.txt' , 'w')\n",
        "file.write(\"This is a new file\")\n",
        "file.close()"
      ],
      "metadata": {
        "id": "LhOvUbaQ7UA_"
      },
      "execution_count": 311,
      "outputs": []
    },
    {
      "cell_type": "code",
      "source": [
        "file = open('/content/newfile.txt' , 'w')\n",
        "file.write(\"This is updated file\")\n",
        "file.close()"
      ],
      "metadata": {
        "id": "rw44ipXa8ARq"
      },
      "execution_count": 312,
      "outputs": []
    },
    {
      "cell_type": "code",
      "source": [
        "file = open('/content/newfile.txt' , 'a')\n",
        "file.write(\"\\n This is added information into newfile.txt\")\n",
        "file.close()"
      ],
      "metadata": {
        "id": "CY0h7r0G8GUK"
      },
      "execution_count": 313,
      "outputs": []
    },
    {
      "cell_type": "code",
      "source": [
        "file = open('/content/newfileX.txt' , 'x')\n",
        "file.write(\"ABCDEFGHIJKLMNOPQRSTUVWXYZ\")\n",
        "file.close()"
      ],
      "metadata": {
        "id": "Z9IcdR748TTN"
      },
      "execution_count": 315,
      "outputs": []
    },
    {
      "cell_type": "code",
      "source": [
        "try:\n",
        "  file = open('/content/abcfile.txt' , 'r')\n",
        "  content = file.read()\n",
        "  print(content)\n",
        "  file.close()\n",
        "\n",
        "except Exception as err:\n",
        "  print(err)\n",
        "\n",
        "else:\n",
        "  print(\"File reading complete without any error\")\n",
        "\n",
        "finally:\n",
        "  print(\"All processess finished\")"
      ],
      "metadata": {
        "colab": {
          "base_uri": "https://localhost:8080/"
        },
        "id": "bPvv2shQ8fp6",
        "outputId": "79205f60-b863-40df-d5b0-b3fede131a2b"
      },
      "execution_count": 318,
      "outputs": [
        {
          "output_type": "stream",
          "name": "stdout",
          "text": [
            "[Errno 2] No such file or directory: '/content/abcfile.txt'\n",
            "All processess finished\n"
          ]
        }
      ]
    },
    {
      "cell_type": "code",
      "source": [
        "try:\n",
        "  file = open('/content/newfile.txt' , 'r')\n",
        "  content = file.read()\n",
        "  print(content)\n",
        "  file.close()\n",
        "\n",
        "except Exception as err:\n",
        "  print(err)\n",
        "\n",
        "else:\n",
        "  print(\"File reading complete without any error\")\n",
        "\n",
        "finally:\n",
        "  print(\"All processess finished\")"
      ],
      "metadata": {
        "colab": {
          "base_uri": "https://localhost:8080/"
        },
        "id": "AgXIcTx79hwx",
        "outputId": "a9a34050-3ef4-46eb-a919-dd86841e6b1d"
      },
      "execution_count": 319,
      "outputs": [
        {
          "output_type": "stream",
          "name": "stdout",
          "text": [
            "This is updated file\n",
            " This is added information into newfile.txt\n",
            "File reading complete without any error\n",
            "All processess finished\n"
          ]
        }
      ]
    },
    {
      "cell_type": "code",
      "source": [],
      "metadata": {
        "id": "Yv6Fh6i59xel"
      },
      "execution_count": null,
      "outputs": []
    }
  ]
}