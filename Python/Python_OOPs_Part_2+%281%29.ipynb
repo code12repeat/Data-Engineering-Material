{
  "nbformat": 4,
  "nbformat_minor": 0,
  "metadata": {
    "colab": {
      "provenance": []
    },
    "kernelspec": {
      "name": "python3",
      "display_name": "Python 3"
    },
    "language_info": {
      "name": "python"
    }
  },
  "cells": [
    {
      "cell_type": "markdown",
      "source": [
        "**Agenda:**\n",
        "1. Abstract classes and methods in Python  \n",
        "2. Variables in Python\n",
        "3. Changing Class Members in Python\n",
        "4. Basic concepts of OOPs:\n",
        "   - Polymorphism\n",
        "   - Encapsulation\n",
        "   - Inheritance\n",
        "   - Data Abstraction\n",
        "5. Method Overriding and\n",
        "Overloading"
      ],
      "metadata": {
        "id": "A41WnPI8AXMm"
      }
    },
    {
      "cell_type": "markdown",
      "source": [
        "**1. Abstract classes and methods in Python**\n",
        "\n",
        "- In Python, an abstract class is a class that cannot be instantiated and is designed to serve as a blueprint for other classes.\n",
        "\n",
        "- You can use it to define a collection of methods that are required for all subclasses derived from the abstract class.\n",
        "\n",
        "- An abstract class is one that includes one or more abstract methods. A method that has a declaration but no implementation is said to be abstract.\n",
        "\n",
        "- We employ an abstract class for designing huge functional units.\n",
        "\n",
        "- An abstract class is used to offer a standard interface for various implementations of a component.\n",
        "\n"
      ],
      "metadata": {
        "id": "EFsUHUsHAczQ"
      }
    },
    {
      "cell_type": "markdown",
      "source": [
        "**Abstract Base Class:**\n",
        "- Python does not come with any abstract classes by default.\n",
        "- Python includes a module called ABC that serves as the foundation for defining Abstract Base Classes (ABC).\n",
        "\n",
        "- ABC works by decorating methods of the base class as abstract and then registering concrete classes as implementations of the abstract base.\n",
        "\n",
        "- When a method is decorated with the phrase **@abstractmethod**, it becomes abstract.\n",
        "\n",
        "**Here's an example of an abstract class and an abstract method:**\n"
      ],
      "metadata": {
        "id": "RSM2jO8UZ3Kk"
      }
    },
    {
      "cell_type": "code",
      "execution_count": null,
      "metadata": {
        "id": "a1RMasQ3ATAb",
        "colab": {
          "base_uri": "https://localhost:8080/"
        },
        "outputId": "7ec8e4f9-75f6-488c-95fc-bde980832531"
      },
      "outputs": [
        {
          "output_type": "stream",
          "name": "stdout",
          "text": [
            "Circle have 0 sides\n",
            "Quadrilateral have 6 sides\n",
            "Pentagon have 5 sides\n",
            "Square have 4 sides\n"
          ]
        }
      ],
      "source": [
        "from abc import ABC, abstractmethod\n",
        "class Polygon(ABC):\n",
        "\t@abstractmethod\n",
        "\tdef sides(self):\n",
        "\t\tpass\n",
        "class Circle(Polygon):\n",
        "\t# overriding abstract method\n",
        "\tdef sides(self):\n",
        "\t\tprint(\"Circle have 0 sides\")\n",
        "class Pentagon(Polygon):\n",
        "\t# overriding abstract method\n",
        "\tdef sides(self):\n",
        "\t\tprint(\"Pentagon have 5 sides\")\n",
        "class square(Polygon):\n",
        "\t# overriding abstract method\n",
        "\tdef sides(self):\n",
        "\t\tprint(\"Square have 4 sides\")\n",
        "class Quadrilateral(Polygon):\n",
        "\t# overriding abstract method\n",
        "\tdef sides(self):\n",
        "\t\tprint(\"Quadrilateral have 6 sides\")\n",
        "# Driver code\n",
        "R = Circle()\n",
        "R.sides()\n",
        "K = Quadrilateral()\n",
        "K.sides()\n",
        "R = Pentagon()\n",
        "R.sides()\n",
        "K = square()\n",
        "K.sides()"
      ]
    },
    {
      "cell_type": "markdown",
      "source": [],
      "metadata": {
        "id": "P5Z_WjxjmmaY"
      }
    },
    {
      "cell_type": "markdown",
      "source": [],
      "metadata": {
        "id": "6Xz0CaCdmmXF"
      }
    },
    {
      "cell_type": "markdown",
      "source": [],
      "metadata": {
        "id": "d1IV6NeNmmUe"
      }
    },
    {
      "cell_type": "markdown",
      "source": [],
      "metadata": {
        "id": "Damu-oXPmmSL"
      }
    },
    {
      "cell_type": "markdown",
      "source": [],
      "metadata": {
        "id": "aCCC36pHmmPi"
      }
    },
    {
      "cell_type": "markdown",
      "source": [],
      "metadata": {
        "id": "eC6mE7blmmLQ"
      }
    },
    {
      "cell_type": "markdown",
      "source": [],
      "metadata": {
        "id": "3zU8cV3hmmIO"
      }
    },
    {
      "cell_type": "markdown",
      "source": [
        "**2.Variables in Python**\n",
        "\n",
        "The containers to store data is known as \"variables\" in any programming language.\n"
      ],
      "metadata": {
        "id": "IgsC8heIeeky"
      }
    },
    {
      "cell_type": "markdown",
      "source": [
        "**Create Variables:**\n",
        "\n",
        "- Python has no command for declaring a variable.\n",
        "\n",
        "- A variable is created the moment you first assign a value to it.\n",
        "\n",
        "- Need not mention the datatype while declaring the variables in Python."
      ],
      "metadata": {
        "id": "RMUrvjy0fnZv"
      }
    },
    {
      "cell_type": "code",
      "source": [
        "x = 10\n",
        "y = \"james\" #name can be mentioned 'james' as well\n",
        "print(x)\n",
        "print(y)\n",
        "#can get variable type\n",
        "print(type(x))\n",
        "print(type(y))"
      ],
      "metadata": {
        "id": "1yAAaIDehqIc"
      },
      "execution_count": null,
      "outputs": []
    },
    {
      "cell_type": "markdown",
      "source": [
        "- If datatypes should be mentioned to the variables it can be done with **Casting**\n",
        "\n",
        "- Variables are case sensitive\n",
        "\n"
      ],
      "metadata": {
        "id": "MoWMnjDxhxcx"
      }
    },
    {
      "cell_type": "code",
      "source": [
        "x = str(30)\n",
        "y = int(10)\n",
        "z = float(5)\n",
        "a = \"john\"\n",
        "A = \"james\"\n",
        "print(x,y,z,a,A)"
      ],
      "metadata": {
        "id": "KlqiM8uIh_Df"
      },
      "execution_count": null,
      "outputs": []
    },
    {
      "cell_type": "markdown",
      "source": [
        "**Variables Name**\n",
        "\n",
        "A variable's name might be short (like x and y) or longer (like age, carname, or total volume).\n",
        "\n",
        "**Python variable rules:**\n",
        "- The underscore character(_) or a letter must come first in a variable name.\n",
        "\n",
        "- No number may begin a variable name.\n",
        "\n",
        "- Only underscores (A-z, 0-9, and _) and alphanumeric characters are permitted in variable names.\n",
        "\n",
        "- Names of variables are case-sensitive (age, Age and AGE are three different variables)\n",
        "\n",
        "- Any Python keyword cannot be the name of a variable.\n",
        "\n",
        "**Here is the simple example**"
      ],
      "metadata": {
        "id": "-eInTmeXhkfo"
      }
    },
    {
      "cell_type": "code",
      "source": [
        "myvar = \"myvar John\"\n",
        "my_var = \"my_var John\"\n",
        "_my_var = \"_my_var John\"\n",
        "myVar = \"myVar John\"\n",
        "MYVAR = \"MYVAR John\"\n",
        "myvar2 = \"myvar2 John\"\n",
        "print(myvar)\n",
        "print(my_var)\n",
        "print(_my_var)\n",
        "print(myVar)\n",
        "print(MYVAR)\n",
        "print(myvar2)\n",
        "\n"
      ],
      "metadata": {
        "id": "pEKfg7bcekRy"
      },
      "execution_count": null,
      "outputs": []
    },
    {
      "cell_type": "code",
      "source": [
        "#set of invalid variable naming\n",
        "2myvar = \"John\"\n"
      ],
      "metadata": {
        "id": "I_uL1T7WBcbM"
      },
      "execution_count": null,
      "outputs": []
    },
    {
      "cell_type": "code",
      "source": [
        "my-var = \"John\"\n"
      ],
      "metadata": {
        "id": "zO1lzQy8Bds9"
      },
      "execution_count": null,
      "outputs": []
    },
    {
      "cell_type": "code",
      "source": [
        "my var = \"John\""
      ],
      "metadata": {
        "id": "hwKjokZ2BeyC"
      },
      "execution_count": null,
      "outputs": []
    },
    {
      "cell_type": "markdown",
      "source": [
        "**We can assign one value to multiple variables**\n"
      ],
      "metadata": {
        "id": "cC6R-kWPkJOZ"
      }
    },
    {
      "cell_type": "code",
      "source": [
        "x = y = z = \"Apple\"\n",
        "print(x)\n",
        "print(y)\n",
        "print(z)"
      ],
      "metadata": {
        "id": "ECJGR-rFkO2I"
      },
      "execution_count": null,
      "outputs": []
    },
    {
      "cell_type": "markdown",
      "source": [
        "**Unpacking the collection**\n",
        "\n",
        "Python enables us to extract the values from a list, tuple, or other collection of values and store them in variables this process is termed to be \"unpacking\".\n",
        "\n",
        "**Here is the simple example**"
      ],
      "metadata": {
        "id": "6mxZTSN_kWno"
      }
    },
    {
      "cell_type": "code",
      "source": [
        "transport = [\"cycle\", \"bus\", \"bike\"]\n",
        "x, y, z = transport\n",
        "print(x)\n",
        "print(y)\n",
        "print(z)"
      ],
      "metadata": {
        "id": "3XierrIPlPxj"
      },
      "execution_count": null,
      "outputs": []
    },
    {
      "cell_type": "markdown",
      "source": [
        "**Output Variable**\n",
        "\n",
        "- In Python generally we use print() function to display the output.\n",
        "\n",
        "- We can also output multiple values in one print statement.\n",
        "\n",
        "**Here is a simple example**\n"
      ],
      "metadata": {
        "id": "0AvhDEAflflQ"
      }
    },
    {
      "cell_type": "code",
      "source": [
        "x = \"Python \"\n",
        "y = \"Programming \"\n",
        "z = \"is easy\"\n",
        "print(x + y + z)"
      ],
      "metadata": {
        "id": "AeN-eqgfl0KF"
      },
      "execution_count": null,
      "outputs": []
    },
    {
      "cell_type": "markdown",
      "source": [
        "**Global Variables**\n",
        "\n",
        "- Global variables are those that are produced outside of a function which is a general practice as seen in above examples.\n",
        "\n",
        "- Where everyone can utilise global variables, both inside and outside of functions."
      ],
      "metadata": {
        "id": "g2dodFOBl9Qd"
      }
    },
    {
      "cell_type": "markdown",
      "source": [
        "**Example to Create a variable inside a function, with the same name as the global variable**"
      ],
      "metadata": {
        "id": "eIxR24FZnGW-"
      }
    },
    {
      "cell_type": "code",
      "source": [
        "x = \"Programming\"\n",
        "def myfunc():\n",
        "  x = \"Programming\"\n",
        "  print(\"Python  \" + x)\n",
        "myfunc()\n",
        "print(\"Python \" + x)"
      ],
      "metadata": {
        "id": "6mYQAY-bmZnw"
      },
      "execution_count": null,
      "outputs": []
    },
    {
      "cell_type": "markdown",
      "source": [],
      "metadata": {
        "id": "gzBY71eSmu8O"
      }
    },
    {
      "cell_type": "markdown",
      "source": [],
      "metadata": {
        "id": "jTEHFEiTmu4v"
      }
    },
    {
      "cell_type": "markdown",
      "source": [],
      "metadata": {
        "id": "Yqs4gWj-mu2K"
      }
    },
    {
      "cell_type": "markdown",
      "source": [],
      "metadata": {
        "id": "fBTlA8XWmuyR"
      }
    },
    {
      "cell_type": "markdown",
      "source": [],
      "metadata": {
        "id": "cT53UyjWmuu3"
      }
    },
    {
      "cell_type": "markdown",
      "source": [
        "**3. Changing Class Members in Python**\n",
        "\n",
        "Python allows us to change class members in a variety of ways.\n",
        "\n",
        "**Here are a few typical methods:**\n",
        "\n"
      ],
      "metadata": {
        "id": "n8ndIhjinaMj"
      }
    },
    {
      "cell_type": "markdown",
      "source": [
        "**Changing class attributes:**\n",
        "\n",
        "- We can directly change class attributes by giving them new values.\n",
        "\n",
        "- Every instance of the class share the same class characteristics.\n",
        "\n",
        "**For Example**\n"
      ],
      "metadata": {
        "id": "tFSMoGJXw5nb"
      }
    },
    {
      "cell_type": "code",
      "source": [
        "class MyClass:\n",
        "    count = 0   # class attribute\n",
        "MyClass.count = 10   # modify class attribute"
      ],
      "metadata": {
        "id": "zKSr3nCwxQmD"
      },
      "execution_count": null,
      "outputs": []
    },
    {
      "cell_type": "markdown",
      "source": [
        "**In the above example, the count class attribute is modified by assigning a new value to it.**\n"
      ],
      "metadata": {
        "id": "6SxIeDqNxS8t"
      }
    },
    {
      "cell_type": "markdown",
      "source": [
        "**Modifying instance attributes:**\n",
        "\n",
        "We can modify instance attributes by accessing them through instances of the class. Instance attributes are unique to each instance of the class.\n",
        "\n",
        "**For example:**\n"
      ],
      "metadata": {
        "id": "40Wv4huTxm_l"
      }
    },
    {
      "cell_type": "code",
      "source": [
        "class MyClass:\n",
        "    def __init__(self):\n",
        "        self.value = 0   # instance attribute\n",
        "obj = MyClass()\n",
        "obj.value = 10   # modify instance attribute\n"
      ],
      "metadata": {
        "id": "rpX9OrSzx5Kg"
      },
      "execution_count": null,
      "outputs": []
    },
    {
      "cell_type": "markdown",
      "source": [
        "**In this example, the value instance attribute is modified by accessing it through an instance of the MyClass class.**\n"
      ],
      "metadata": {
        "id": "AyMJnL5RndQu"
      }
    },
    {
      "cell_type": "markdown",
      "source": [
        "**Modifying class methods:**\n",
        "\n",
        "We can modify class methods by redefining them in a subclass.\n",
        "\n",
        "**For example:**"
      ],
      "metadata": {
        "id": "JayLVP20yCG1"
      }
    },
    {
      "cell_type": "code",
      "source": [
        "class MyClass:\n",
        "    def my_method(self):\n",
        "        print(\"Hello, Everyone!\")\n",
        "class MySubclass(MyClass):\n",
        "    def my_method(self):\n",
        "        print(\"Thankyou!\")\n",
        "obj = MySubclass()\n",
        "obj.my_method()"
      ],
      "metadata": {
        "id": "ajgfRVNDyKQO"
      },
      "execution_count": null,
      "outputs": []
    },
    {
      "cell_type": "markdown",
      "source": [
        "**In this example, the my_method class method is redefined in the MySubclass subclass, which modifies its behavior.**\n"
      ],
      "metadata": {
        "id": "iI-Cptk9yU-e"
      }
    },
    {
      "cell_type": "markdown",
      "source": [
        "**Modifying instance methods:**\n",
        "\n",
        "We can modify instance methods by defining new instance methods and replacing the existing ones.\n",
        "\n",
        "**For example:**"
      ],
      "metadata": {
        "id": "h35Y22XwyZjg"
      }
    },
    {
      "cell_type": "code",
      "source": [
        "class MyClass:\n",
        "    def my_method(self):\n",
        "        print(\"Hello, Everyone!\")\n",
        "obj = MyClass()\n",
        "obj.my_method = lambda: print(\"Thankyou\")\n",
        "obj.my_method()\n"
      ],
      "metadata": {
        "id": "ibrMrI8tyYtr"
      },
      "execution_count": null,
      "outputs": []
    },
    {
      "cell_type": "markdown",
      "source": [
        "**In this example, the my_method instance method is modified by defining a new function using a lambda expression and assigning it to the my_method attribute of an instance of the MyClass class.**\n"
      ],
      "metadata": {
        "id": "h9ATV4c4yrRh"
      }
    },
    {
      "cell_type": "markdown",
      "source": [
        "**NOTE**\n",
        "- It's important to note that modifying class members in this way can affect all instances of the class or subclasses that inherit from it.\n",
        "\n",
        "- Careful consideration should be given before modifying class members, especially if the class is used in a large codebase."
      ],
      "metadata": {
        "id": "wKeSQ-r7y3LR"
      }
    },
    {
      "cell_type": "markdown",
      "source": [],
      "metadata": {
        "id": "bW35auzxm0n_"
      }
    },
    {
      "cell_type": "markdown",
      "source": [],
      "metadata": {
        "id": "w2n-KUykm0ka"
      }
    },
    {
      "cell_type": "markdown",
      "source": [],
      "metadata": {
        "id": "OMheLUgSm0h0"
      }
    },
    {
      "cell_type": "markdown",
      "source": [],
      "metadata": {
        "id": "SU4eN3tGm0fh"
      }
    },
    {
      "cell_type": "markdown",
      "source": [
        "**4. Basic concepts of OOPs:**\n",
        "   - Polymorphism\n",
        "   - Encapsulation\n",
        "   - Inheritance\n",
        "   - Data Abstraction"
      ],
      "metadata": {
        "id": "vywMFWgczGIJ"
      }
    },
    {
      "cell_type": "markdown",
      "source": [
        "**Polymorphism**\n",
        "\n",
        "- Polymorphism is taken from the Greek words Poly (many) and morphism (forms). It means that the same function name can be used for different types.\n",
        "\n",
        "- Python supports polymorphism through several mechanisms:\n",
        "   - Duck Typing\n",
        "   - Operator Overloading"
      ],
      "metadata": {
        "id": "esV2191RzLRx"
      }
    },
    {
      "cell_type": "markdown",
      "source": [
        "**Duck typing:**\n",
        "\n",
        "- Duck typing is a technique in which the type of an object is determined by its behavior rather than its type.\n",
        "\n",
        "- If an object supports the methods or attributes that are required by a function or method, it can be used in place of an object of a specific type.\n",
        "\n",
        "**For example:**"
      ],
      "metadata": {
        "id": "jfbDn8851yQM"
      }
    },
    {
      "cell_type": "code",
      "source": [
        "#Duck typing demonstration\n",
        "class sample:\n",
        "\tdef __len__(self):\n",
        "\t\treturn 30\n",
        "if __name__ == \"__main__\":\n",
        "\tstr = sample()\n",
        "\tprint(len(str))"
      ],
      "metadata": {
        "id": "JnLnTBfS19HQ"
      },
      "execution_count": null,
      "outputs": []
    },
    {
      "cell_type": "markdown",
      "source": [
        "In this instance, we call the function len(), which returns the result of the __len__ method. Here, the class sample's attribute is defined via the __len__ method.\n",
        "\n",
        "- We do not declare the parameter in method prototypes since the type of the object itself is not important in this.\n",
        "\n",
        "- This implies that type checking cannot be done by compilers.\n",
        "\n",
        "- So, whether an object has specific qualities at run time is what counts most. Dynamic languages thus implement duck typing.\n",
        "\n",
        "- However, several static languages, like Haskell, now support it as well. But, Java/C# do not yet have this capability.\n"
      ],
      "metadata": {
        "id": "bUS9BjKz2Bwf"
      }
    },
    {
      "cell_type": "markdown",
      "source": [
        "**Operator overloading:**\n",
        "\n",
        "- Operator overloading is a technique in which the behavior of an operator is defined for a class.\n",
        "\n",
        "- When the operator is used with objects of the class, the overloaded behavior is executed instead of the default behavior.\n",
        "\n",
        "**For example:**"
      ],
      "metadata": {
        "id": "lG6tx5YW2Ej-"
      }
    },
    {
      "cell_type": "code",
      "source": [
        "class Vector:\n",
        "    def __init__(self, x, y):\n",
        "        self.x = x\n",
        "        self.y = y\n",
        "    def __add__(self, other):\n",
        "        return Vector(self.x + other.x, self.y + other.y)\n",
        "v1 = Vector(1, 2)\n",
        "v2 = Vector(3, 4)\n",
        "v3 = v1 + v2\n",
        "print(v3.x, v3.y)\n"
      ],
      "metadata": {
        "id": "TU56e1Y-2QN3"
      },
      "execution_count": null,
      "outputs": []
    },
    {
      "cell_type": "markdown",
      "source": [
        "In this example, the Vector class overloads the addition operator (+) by defining the __add__() method. When the operator is used with instances of the Vector class, the overloaded behavior is executed, which adds the corresponding x and y values of the two vectors."
      ],
      "metadata": {
        "id": "hgO-fYIR2UgG"
      }
    },
    {
      "cell_type": "markdown",
      "source": [
        "- Polymorphism is a powerful technique that allows **code to be more flexible** **and reusable**.\n",
        "\n",
        "- By leveraging polymorphism, we can write code that works with objects of different types, without needing to know the exact type at runtime."
      ],
      "metadata": {
        "id": "jelctVvL2cjd"
      }
    },
    {
      "cell_type": "markdown",
      "source": [],
      "metadata": {
        "id": "KnneIEjWm47b"
      }
    },
    {
      "cell_type": "markdown",
      "source": [],
      "metadata": {
        "id": "ZkeWhW6xm44K"
      }
    },
    {
      "cell_type": "markdown",
      "source": [],
      "metadata": {
        "id": "3BuZNP9pm40v"
      }
    },
    {
      "cell_type": "markdown",
      "source": [],
      "metadata": {
        "id": "EQQHCTbqm4yT"
      }
    },
    {
      "cell_type": "markdown",
      "source": [
        "**Encapsulation**\n",
        "\n",
        "- Encapsulation in Python is a concept of object-oriented programming (OOP) that refers to **the process of hiding the implementation details of an object from the outside world**, while providing an interface to access the object's properties and methods.\n",
        "\n",
        "- In Python, encapsulation is achieved using access modifiers such as public, private, and protected. However, unlike other languages such as Java, **Python does not have strict rules for access modifiers**.\n",
        "\n",
        "- Instead, Python uses naming conventions to indicate the level of access to an object's attributes and methods.\n"
      ],
      "metadata": {
        "id": "3qcb26eN3ez2"
      }
    },
    {
      "cell_type": "markdown",
      "source": [
        "**Naming conventions of access specifiers:**\n",
        "\n",
        "**Private:**\n",
        "- The naming convention for private attributes and methods in Python is to prefix the attribute or method name with a double underscore (__).\n",
        "\n",
        "- This makes it harder to access the attribute or method from outside the object. However, it is still possible to access private attributes and methods using name **mangling**, which involves prefixing the attribute or method name with the class name and a single underscore (_).\n",
        "\n",
        "**Protected**\n",
        "\n",
        "- Protected attributes and methods in Python are indicated by prefixing the attribute or method name with a single underscore (_)\n",
        "\n",
        "- This convention indicates that the attribute or method is intended to be used only within the class and its subclasses, but it can still be accessed from outside the class.\n",
        "\n",
        "**Public**\n",
        "\n",
        "- Public attributes and methods in Python do not require any special naming convention.\n",
        "- They can be accessed from anywhere in the program."
      ],
      "metadata": {
        "id": "9mtOouQZ37bs"
      }
    },
    {
      "cell_type": "code",
      "source": [
        "class Person:\n",
        "    def __init__(self, name, age):\n",
        "        self.name = name\n",
        "        self.__age = age   # private attribute\n",
        "\n",
        "    def get_age(self):\n",
        "        return self.__age  # private method\n",
        "\n",
        "    def set_age(self, age):\n",
        "        if age > 0 and age < 120:\n",
        "            self.__age = age  # private method\n",
        "\n",
        "    def display(self):\n",
        "        print(f\"Name: {self.name}, Age: {self.__age}\")\n",
        "\n",
        "person = Person(\"John\", 30)\n",
        "person.display()\n",
        "person.set_age(35)\n",
        "person.display()\n",
        "print(person.get_age())\n"
      ],
      "metadata": {
        "id": "gabJBqLr4b6y"
      },
      "execution_count": null,
      "outputs": []
    },
    {
      "cell_type": "markdown",
      "source": [
        "In this example, the age attribute is marked as private by prefixing its name with a double underscore. The **get_age()** and **set_age()** methods are used to access and modify the age attribute, respectively. The display() method is used to display the object's name and age attributes.\n",
        "\n",
        "Note that even though the age attribute is marked as private, it can still be accessed and modified using the **get_age()** and **set_age()** methods. However, attempting to access the attribute directly using **person.__age** will result in an AttributeError."
      ],
      "metadata": {
        "id": "1l2HrF_F5EU0"
      }
    },
    {
      "cell_type": "markdown",
      "source": [],
      "metadata": {
        "id": "TeEwsC5ym9MT"
      }
    },
    {
      "cell_type": "markdown",
      "source": [],
      "metadata": {
        "id": "vK8C4v5tm9GF"
      }
    },
    {
      "cell_type": "markdown",
      "source": [],
      "metadata": {
        "id": "GtuQZtfJm9DF"
      }
    },
    {
      "cell_type": "markdown",
      "source": [],
      "metadata": {
        "id": "ItvHNxNbm7ZZ"
      }
    },
    {
      "cell_type": "markdown",
      "source": [
        "**Inheritance**\n",
        "- Inheritance allows a new class (the derived or child class) to be based on an existing class (the base or parent class).\n",
        "\n",
        "- In Python, inheritance is implemented using the class keyword and the name of the parent class in parentheses after the name of the child class.\n",
        "\n",
        "- The child class inherits all the attributes and methods of the parent class and can also add its own attributes and methods.\n",
        "\n",
        "- This makes code reuse and organization easier, as common functionality can be implemented in the parent class and specialized functionality can be added in the child class.\n",
        "\n",
        "**Here's an example of inheritance in Python:**\n"
      ],
      "metadata": {
        "id": "C4nRT2Rh5V5_"
      }
    },
    {
      "cell_type": "code",
      "source": [
        "class Parent:\n",
        "     def __init__(self , fname, year):\n",
        "          self.fname = fname\n",
        "          self.year = year\n",
        "     def view(self):\n",
        "         print(self.fname , self.year)\n",
        "class Child(Parent):\n",
        "     def __init__(self ,fname ,year):\n",
        "          Parent.__init__(self,fname,year)\n",
        "          self.inventorname = \"Guido van Rossum\"\n",
        "     def view(self):\n",
        "          print(self.fname ,\"was developed by\",self.inventorname, \"in\",self.year,\"s\")\n",
        "ob = Child(\"Python Programming\",'1980')\n",
        "ob.view()"
      ],
      "metadata": {
        "id": "qolRyG7_5xXT"
      },
      "execution_count": null,
      "outputs": []
    },
    {
      "cell_type": "markdown",
      "source": [],
      "metadata": {
        "id": "4TjxAuRTm_Ts"
      }
    },
    {
      "cell_type": "markdown",
      "source": [],
      "metadata": {
        "id": "7NzrBDC4m_QT"
      }
    },
    {
      "cell_type": "markdown",
      "source": [],
      "metadata": {
        "id": "qApd08DHm_N-"
      }
    },
    {
      "cell_type": "markdown",
      "source": [],
      "metadata": {
        "id": "RivTV48sm_La"
      }
    },
    {
      "cell_type": "markdown",
      "source": [
        "**Data Abstraction**\n",
        "\n",
        "- Data abstraction refers to the process of hiding the complexity of an object's implementation by exposing only the essential details to the user.\n",
        "\n",
        "- In Python, data abstraction is typically implemented using **abstract classes and interfaces.**\n"
      ],
      "metadata": {
        "id": "vfANFVLO5cAc"
      }
    },
    {
      "cell_type": "code",
      "source": [
        "# abstraction in python\n",
        "from abc import ABC,abstractmethod\n",
        "\n",
        "# abstract class\n",
        "class Subject(ABC):\n",
        "    @abstractmethod\n",
        "    def subject(self):\n",
        "        pass\n",
        "\n",
        "class History(Subject):\n",
        "    # override superclass method\n",
        "    def subject(self):\n",
        "        print(\"Subject is History\")\n",
        "\n",
        "class Civics(Subject):\n",
        "    # override superclass method\n",
        "    def subject(self):\n",
        "        print(\"Subject is Civics\")\n",
        "\n",
        "class Geography(Subject):\n",
        "    # override superclass method\n",
        "    def subject(self):\n",
        "        print(\"Subject is Geography\")\n",
        "\n",
        "class Economics(Subject):\n",
        "    # override superclass method\n",
        "    def subject(self):\n",
        "        print(\"Subject is Economics\")\n",
        "history=History()\n",
        "history.subject()\n",
        "civics=Civics()\n",
        "civics.subject()\n",
        "geography=Geography()\n",
        "geography.subject()\n",
        "economics=Economics()\n",
        "economics.subject()"
      ],
      "metadata": {
        "id": "vpgl-yp_9eKw"
      },
      "execution_count": null,
      "outputs": []
    },
    {
      "cell_type": "markdown",
      "source": [
        "- In the above python program, we created an abstract class Subject which extends Abstract Base Class (ABC).\n",
        "\n",
        "- We also defined an abstract method subject. We also created other classes like History,Civics,Geography and Economics which all extend an abstract class Subject thus all these classes are subclasses and the Subject is the superclass.\n",
        "\n",
        "- We provided different implementations for the subject method of all the subclasses."
      ],
      "metadata": {
        "id": "_ET1ZsI3BINn"
      }
    },
    {
      "cell_type": "markdown",
      "source": [],
      "metadata": {
        "id": "650R8H4GnAne"
      }
    },
    {
      "cell_type": "markdown",
      "source": [],
      "metadata": {
        "id": "5sQVusOHnAkD"
      }
    },
    {
      "cell_type": "markdown",
      "source": [],
      "metadata": {
        "id": "dGI3fQ7qnAhd"
      }
    },
    {
      "cell_type": "markdown",
      "source": [],
      "metadata": {
        "id": "BZ325J3EnAe3"
      }
    },
    {
      "cell_type": "markdown",
      "source": [
        "**5. Method Overriding and\n",
        "Overloading**\n"
      ],
      "metadata": {
        "id": "jRxqSExMCJCS"
      }
    },
    {
      "cell_type": "markdown",
      "source": [
        "**Method overriding:**\n",
        "\n",
        "- Method overriding is a technique in which a subclass provides a different implementation of a method that is already defined in its superclass.\n",
        "\n",
        "- When the method is called on an object of the subclass, the implementation in the subclass is executed instead of the implementation in the superclass.\n",
        "\n",
        "**For example:**"
      ],
      "metadata": {
        "id": "nAAPdfAX1fKw"
      }
    },
    {
      "cell_type": "code",
      "source": [
        "from math import pi\n",
        "class Shape:\n",
        "    def __init__(self, name):\n",
        "        self.name = name\n",
        "    def area(self):\n",
        "        pass\n",
        "    def fact(self):\n",
        "        return \"I am a two-dimensional shape.\"\n",
        "    def __str__(self):\n",
        "        return self.name\n",
        "class Square(Shape):\n",
        "    def __init__(self, length):\n",
        "        super().__init__(\"Square\")\n",
        "        self.length = length\n",
        "    def area(self):\n",
        "        return self.length**2\n",
        "    def fact(self):\n",
        "        return \"Squares have each angle equal to 90 degrees.\"\n",
        "class Circle(Shape):\n",
        "    def __init__(self, radius):\n",
        "        super().__init__(\"Circle\")\n",
        "        self.radius = radius\n",
        "    def area(self):\n",
        "        return pi*self.radius**2\n",
        "a = Square(2)\n",
        "b = Circle(3)\n",
        "print(b)\n",
        "print(b.fact())\n",
        "print(a.fact())\n",
        "print(b.area())\n"
      ],
      "metadata": {
        "id": "Swk3L_8rypId"
      },
      "execution_count": null,
      "outputs": []
    },
    {
      "cell_type": "markdown",
      "source": [
        "\n",
        "- The fact() method for object a (of the Square class) is overridden due to polymorphism, which the Python interpreter immediately detects. It thus makes use of the one specified in the child class.\n",
        "\n",
        "\n",
        "- The fact() function for object b, on the other hand, is called from the Parent Shape class because it isn't overridden."
      ],
      "metadata": {
        "id": "QyaOHI1q1vMk"
      }
    },
    {
      "cell_type": "markdown",
      "source": [],
      "metadata": {
        "id": "tuP9uRtXnB4l"
      }
    },
    {
      "cell_type": "markdown",
      "source": [],
      "metadata": {
        "id": "jiOeFUPjnB1K"
      }
    },
    {
      "cell_type": "markdown",
      "source": [],
      "metadata": {
        "id": "JOqSCg4QnByX"
      }
    },
    {
      "cell_type": "markdown",
      "source": [],
      "metadata": {
        "id": "BaQQSAsinBwQ"
      }
    },
    {
      "cell_type": "markdown",
      "source": [
        "**Method Overloading**\n",
        "\n",
        "- Method overloading is a concept in object-oriented programming where two or more methods in a class have the same name but different parameters.\n",
        "\n",
        "- In some programming languages, such as Java and C++, method overloading is supported natively.\n",
        "\n",
        "- However, in **Python, method overloading is not supported** natively, but it can be achieved using some workarounds.\n",
        "\n",
        "- In Python, a method is uniquely identified by its name, so it is not possible to have two methods with the same name and different parameters in the same class.\n",
        "\n",
        "- However, there are a few ways to simulate method overloading in Python, such as using default arguments or variable-length argument lists."
      ],
      "metadata": {
        "id": "I1BcJHkiCdHI"
      }
    },
    {
      "cell_type": "markdown",
      "source": [
        "**Here's an example of method overloading in Python using default arguments:**"
      ],
      "metadata": {
        "id": "SEKgYZ5aCzx7"
      }
    },
    {
      "cell_type": "code",
      "source": [
        "class MathOperations:\n",
        "    def add(self, a, b, c=0):\n",
        "        return a + b + c\n",
        "\n",
        "math_ops = MathOperations()\n",
        "\n",
        "print(math_ops.add(1, 2))       # Output: 3\n",
        "print(math_ops.add(1, 2, 3))    # Output: 6\n"
      ],
      "metadata": {
        "id": "Jj2_1SDkC1GD"
      },
      "execution_count": null,
      "outputs": []
    },
    {
      "cell_type": "markdown",
      "source": [
        "- In this example, the MathOperations class has a method called add() that takes two or three arguments.\n",
        "\n",
        "- The third argument c has a default value of 0. This means that if the method is called with only two arguments, the third argument will be 0 by default.\n",
        "\n",
        "- If the method is called with three arguments, the third argument will be the value provided by the caller."
      ],
      "metadata": {
        "id": "zcQmIojmC5Zt"
      }
    },
    {
      "cell_type": "markdown",
      "source": [
        "**Another way to simulate method overloading in Python is to use variable-length argument lists.**\n",
        "\n",
        "**Here's an example:**"
      ],
      "metadata": {
        "id": "G6WZ-ZiXC-uy"
      }
    },
    {
      "cell_type": "code",
      "source": [
        "class MathOperations:\n",
        "    def add(self, *args):\n",
        "        result = 0\n",
        "        for arg in args:\n",
        "            result += arg\n",
        "        return result\n",
        "\n",
        "math_ops = MathOperations()\n",
        "\n",
        "print(math_ops.add(1, 2))          # Output: 3\n",
        "print(math_ops.add(1, 2, 3))       # Output: 6\n",
        "print(math_ops.add(1, 2, 3, 4, 5)) # Output: 15\n"
      ],
      "metadata": {
        "id": "DXniBwAICF2-"
      },
      "execution_count": null,
      "outputs": []
    },
    {
      "cell_type": "markdown",
      "source": [
        "- In this example, the add() method takes a variable-length argument list using the *args syntax. The method then iterates over the arguments and adds them up to produce a result.\n"
      ],
      "metadata": {
        "id": "6g6IVSQxDc0w"
      }
    },
    {
      "cell_type": "markdown",
      "source": [],
      "metadata": {
        "id": "zu88iIWWnEHb"
      }
    },
    {
      "cell_type": "markdown",
      "source": [],
      "metadata": {
        "id": "P7Hy48gY1uM1"
      }
    },
    {
      "cell_type": "markdown",
      "source": [],
      "metadata": {
        "id": "-u8bi-ef1uFS"
      }
    },
    {
      "cell_type": "markdown",
      "source": [],
      "metadata": {
        "id": "ckUEvrLtnEDf"
      }
    },
    {
      "cell_type": "markdown",
      "source": [
        "**Summary**\n",
        "\n",
        "- An abstract class is a class that cannot be instantiated, i.e., it is only meant to be inherited by other classes.\n",
        "\n",
        "- In Python, variables are used to store data values. They can hold any type of data, including strings, integers, floating-point numbers, etc.\n",
        "\n",
        "- With a simple example we understood in Python, we can change the value of a class member (i.e., a class variable or class method) by simply accessing it using the class name and then assigning a new value to it.\n",
        "\n",
        "- We learned about basic concepts in OOPs like polymorphism, encapsulation, inheritance and data abstraction.\n",
        "\n",
        "- Method overriding is the process of redefining a method in a subclass that was already defined in the superclass.\n",
        "\n",
        "- Method overloading, on the other hand, is the ability to define multiple methods with the same name in a class.\n"
      ],
      "metadata": {
        "id": "FMgJlSEtnEBK"
      }
    }
  ]
}