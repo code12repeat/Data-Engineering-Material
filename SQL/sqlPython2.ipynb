{
 "cells": [
  {
   "cell_type": "code",
   "execution_count": 1,
   "id": "5d6a1d88-e8f4-480f-a658-ba42f4f3ba9c",
   "metadata": {},
   "outputs": [
    {
     "name": "stdout",
     "output_type": "stream",
     "text": [
      "38\n"
     ]
    }
   ],
   "source": [
    "import mysql.connector\n",
    "\n",
    "connection = mysql.connector.connect(host = 'localhost',\n",
    "                                    user = 'root',\n",
    "                                    password = '725@Mysql')\n",
    "\n",
    "print(connection.connection_id)"
   ]
  },
  {
   "cell_type": "code",
   "execution_count": 2,
   "id": "501c692c-aa65-4c30-b4da-36fbd6a6b190",
   "metadata": {},
   "outputs": [
    {
     "name": "stdout",
     "output_type": "stream",
     "text": [
      "('company',)\n",
      "('db',)\n",
      "('hr',)\n",
      "('hr_emp',)\n",
      "('information_schema',)\n",
      "('mysql',)\n",
      "('performance_schema',)\n",
      "('sakila',)\n",
      "('sys',)\n",
      "('world',)\n"
     ]
    }
   ],
   "source": [
    "cursor = connection.cursor()\n",
    "cursor.execute(\"show databases\")\n",
    "for dbs in cursor:\n",
    "    print(dbs)"
   ]
  },
  {
   "cell_type": "code",
   "execution_count": 3,
   "id": "6e11b70d-76c5-4cb0-b7bc-b4d6a7a07404",
   "metadata": {},
   "outputs": [],
   "source": [
    "query = \"create database mydb\"\n",
    "cursor.execute(query)"
   ]
  },
  {
   "cell_type": "code",
   "execution_count": 4,
   "id": "3e7aecde-1251-4f53-9e14-95e959d8fdff",
   "metadata": {},
   "outputs": [
    {
     "name": "stdout",
     "output_type": "stream",
     "text": [
      "('company',)\n",
      "('db',)\n",
      "('hr',)\n",
      "('hr_emp',)\n",
      "('information_schema',)\n",
      "('mydb',)\n",
      "('mysql',)\n",
      "('performance_schema',)\n",
      "('sakila',)\n",
      "('sys',)\n",
      "('world',)\n"
     ]
    }
   ],
   "source": [
    "cursor.execute(\"show databases\")\n",
    "for dbs in cursor:\n",
    "    print(dbs)"
   ]
  },
  {
   "cell_type": "markdown",
   "id": "82871ac4-b0fa-4cd0-a5ac-3a776d2cf0e5",
   "metadata": {},
   "source": [
    "**Connect with your database**"
   ]
  },
  {
   "cell_type": "code",
   "execution_count": 5,
   "id": "3786be15-2373-4caf-a223-eab5a945dc5e",
   "metadata": {},
   "outputs": [
    {
     "name": "stdout",
     "output_type": "stream",
     "text": [
      "39\n"
     ]
    }
   ],
   "source": [
    "connection = mysql.connector.connect(host = 'localhost',\n",
    "                                    user = 'root',\n",
    "                                    password = '725@Mysql',\n",
    "                                    database = 'mydb')\n",
    "\n",
    "print(connection.connection_id)"
   ]
  },
  {
   "cell_type": "code",
   "execution_count": 6,
   "id": "808a37a5-9281-4609-8163-8361ef7078bb",
   "metadata": {},
   "outputs": [
    {
     "name": "stdout",
     "output_type": "stream",
     "text": [
      "Data table is created to store book info\n"
     ]
    }
   ],
   "source": [
    "#Create a new data table\n",
    "cursor = connection.cursor()\n",
    "\n",
    "query = \"create table newbook(bookid int, title varchar(30), price float(5,2))\"\n",
    "cursor.execute(query)\n",
    "cursor.close()\n",
    "connection.commit()\n",
    "print(\"Data table is created to store book info\")"
   ]
  },
  {
   "cell_type": "code",
   "execution_count": 8,
   "id": "7b7f72c4-d36c-4312-b2b9-a2c8a99187ed",
   "metadata": {},
   "outputs": [
    {
     "name": "stdout",
     "output_type": "stream",
     "text": [
      "('bookid', 'int', 'YES', '', None, '')\n",
      "('title', 'varchar(30)', 'YES', '', None, '')\n",
      "('price', 'float(5,2)', 'YES', '', None, '')\n"
     ]
    }
   ],
   "source": [
    "#write and execute query to show data table schema\n",
    "cursor = connection.cursor()\n",
    "\n",
    "query = \"describe newbook\"\n",
    "\n",
    "cursor.execute(query)\n",
    "result = cursor.fetchall()\n",
    "cursor.close()\n",
    "\n",
    "for res in result:\n",
    "    print(res)"
   ]
  },
  {
   "cell_type": "code",
   "execution_count": 9,
   "id": "887788f9-c5c3-4e74-9b92-408fef66a318",
   "metadata": {},
   "outputs": [],
   "source": [
    "cursor = connection.cursor()\n",
    "query = \"insert into newbook (bookid,title,price) values (%s,%s,%s)\"\n",
    "value = (1,\"Learn Python\",230.5)\n",
    "cursor.execute(query,value)\n",
    "cursor.close()\n",
    "connection.commit()"
   ]
  },
  {
   "cell_type": "code",
   "execution_count": 15,
   "id": "2f6c5ebc-4d32-4c98-91cf-e856c48daa95",
   "metadata": {},
   "outputs": [
    {
     "name": "stdout",
     "output_type": "stream",
     "text": [
      "41\n"
     ]
    }
   ],
   "source": [
    "connection = mysql.connector.connect(host = 'localhost',\n",
    "                                    user = 'root',\n",
    "                                    password = '725@Mysql',\n",
    "                                    database = 'mydb')\n",
    "print(connection.connection_id)"
   ]
  },
  {
   "cell_type": "code",
   "execution_count": 16,
   "id": "447fdf31-878c-4664-b483-de4caff8f1b4",
   "metadata": {},
   "outputs": [
    {
     "name": "stdout",
     "output_type": "stream",
     "text": [
      "[(1, 'Learn Python', 230.5)]\n"
     ]
    }
   ],
   "source": [
    "cursor = connection.cursor()\n",
    "query = \"select * from newbook\"\n",
    "cursor.execute(query)\n",
    "result = cursor.fetchall()\n",
    "cursor.close()\n",
    "print(result)"
   ]
  },
  {
   "cell_type": "code",
   "execution_count": 17,
   "id": "4e977f3d-b4b9-4214-b84c-247c364b8460",
   "metadata": {},
   "outputs": [],
   "source": [
    "cursor = connection.cursor()\n",
    "query = \"insert into newbook (bookid,title,price) values (%s,%s,%s)\"\n",
    "value = [(2,\"Learn PHP\",210.5),(3,\"Learn Java\",200.00),(4,\"Learn R\",150.00)]\n",
    "cursor.executemany(query,value)\n",
    "cursor.close()\n",
    "connection.commit()"
   ]
  },
  {
   "cell_type": "code",
   "execution_count": 18,
   "id": "06f6d5e0-ee8b-4ae6-a3eb-e5fa535321ea",
   "metadata": {},
   "outputs": [
    {
     "name": "stdout",
     "output_type": "stream",
     "text": [
      "[(1, 'Learn Python', 230.5), (2, 'Learn PHP', 210.5), (3, 'Learn Java', 200.0), (4, 'Learn R', 150.0)]\n"
     ]
    }
   ],
   "source": [
    "cursor = connection.cursor()\n",
    "query = \"select * from newbook\"\n",
    "cursor.execute(query)\n",
    "result = cursor.fetchall()\n",
    "cursor.close()\n",
    "print(result)"
   ]
  },
  {
   "cell_type": "code",
   "execution_count": 19,
   "id": "cd46f39f-039a-42cf-83cf-5209bddcf52a",
   "metadata": {},
   "outputs": [],
   "source": [
    "# write a query and execute \n",
    "# To update price of book whose price is more then 200 => new price = currect price + 10\n",
    "cursor = connection.cursor()\n",
    "query = \"update newbook set price = price + 10 where price > 200\"\n",
    "cursor.execute(query)\n",
    "cursor.close()\n",
    "connection.commit()"
   ]
  },
  {
   "cell_type": "code",
   "execution_count": 20,
   "id": "e64d364d-3cd9-4a55-b38c-bd2d5587e4d9",
   "metadata": {},
   "outputs": [
    {
     "name": "stdout",
     "output_type": "stream",
     "text": [
      "[(1, 'Learn Python', 240.5), (2, 'Learn PHP', 220.5), (3, 'Learn Java', 200.0), (4, 'Learn R', 150.0)]\n"
     ]
    }
   ],
   "source": [
    "cursor = connection.cursor()\n",
    "query = \"select * from newbook\"\n",
    "cursor.execute(query)\n",
    "result = cursor.fetchall()\n",
    "cursor.close()\n",
    "print(result)"
   ]
  },
  {
   "cell_type": "code",
   "execution_count": 21,
   "id": "b9ec541a-fc36-40ee-b2b5-eda61c7c5725",
   "metadata": {},
   "outputs": [],
   "source": [
    "#delete data row of java book\n",
    "cursor = connection.cursor()\n",
    "query = \"delete from newbook where title = 'Learn Java'\"\n",
    "cursor.execute(query)\n",
    "cursor.close()\n",
    "connection.commit()"
   ]
  },
  {
   "cell_type": "code",
   "execution_count": 22,
   "id": "8978451b-95ab-4dd9-8b56-5214a7785d29",
   "metadata": {},
   "outputs": [
    {
     "name": "stdout",
     "output_type": "stream",
     "text": [
      "[(1, 'Learn Python', 240.5), (2, 'Learn PHP', 220.5), (4, 'Learn R', 150.0)]\n"
     ]
    }
   ],
   "source": [
    "cursor = connection.cursor()\n",
    "query = \"select * from newbook\"\n",
    "cursor.execute(query)\n",
    "result = cursor.fetchall()\n",
    "cursor.close()\n",
    "print(result)"
   ]
  },
  {
   "cell_type": "code",
   "execution_count": null,
   "id": "b5316138-fc6c-497b-9f5c-337a192906b0",
   "metadata": {},
   "outputs": [],
   "source": [
    "cursor = connection.cursor()\n",
    "\n",
    "query = \"alter table newbook add column quantity int\"\n",
    "\n",
    "cursor.execute(query)\n",
    "cursor.close()\n",
    "connection.commit()"
   ]
  },
  {
   "cell_type": "code",
   "execution_count": null,
   "id": "3f76eef3-4f3d-4f91-995d-8c2c87bfb8b3",
   "metadata": {},
   "outputs": [],
   "source": [
    "#write and execute query to show data table schema\n",
    "cursor = connection.cursor()\n",
    "\n",
    "query = \"describe newbook\"\n",
    "\n",
    "cursor.execute(query)\n",
    "result = cursor.fetchall()\n",
    "cursor.close()\n",
    "\n",
    "for res in result:\n",
    "    print(res)"
   ]
  },
  {
   "cell_type": "code",
   "execution_count": null,
   "id": "abb9a107-4edb-46d2-be1e-f4e96f1ceb94",
   "metadata": {},
   "outputs": [],
   "source": []
  }
 ],
 "metadata": {
  "kernelspec": {
   "display_name": "Python 3 (ipykernel)",
   "language": "python",
   "name": "python3"
  },
  "language_info": {
   "codemirror_mode": {
    "name": "ipython",
    "version": 3
   },
   "file_extension": ".py",
   "mimetype": "text/x-python",
   "name": "python",
   "nbconvert_exporter": "python",
   "pygments_lexer": "ipython3",
   "version": "3.10.0"
  }
 },
 "nbformat": 4,
 "nbformat_minor": 5
}
