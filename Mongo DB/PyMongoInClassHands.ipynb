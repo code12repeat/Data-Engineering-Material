{
 "cells": [
  {
   "cell_type": "code",
   "execution_count": null,
   "metadata": {},
   "outputs": [],
   "source": [
    "#pip install pymongo\n",
    "from pymongo import MongoClient\n",
    "# pprint library is used to make the output look more pretty\n",
    "from pprint import pprint\n",
    "from random import randint\n",
    "client = MongoClient(\"localhost:27017\")\n",
    "#let's connect to greatlearning database, and insert 1000 documents containing product name, company name and rating\n",
    "\n",
    "db = client['greatlearning']\n",
    "productcollection = db['product_feedback']\n",
    "\n",
    "#\n",
    "productlist = []\n",
    "product_name = ['Mobile','TV','Washing machine', 'Refrigerator', 'Microwave Oven','Induction cooker','AC']\n",
    "company_name = ['LG', 'Samsung', 'Bosch','Siemens','Whirlpool','Electrolux','Haier','Videocon']\n",
    "for x in range(1, 1001):\n",
    "    sale = {\n",
    "        'name' : product_name[randint(0, (len(product_name)-1))],\n",
    "        'rating' : randint(1, 5),\n",
    "        'brand' : company_name[randint(0, (len(company_name)-1))] \n",
    "    }\n",
    "    productlist.append(sale)\n",
    "    \n",
    "productcollection.insert_many(productlist)\n",
    "\n"
   ]
  },
  {
   "cell_type": "markdown",
   "metadata": {},
   "source": [
    "Once, we have inserted 1000 documents then we can peform different CRUD operations using PyMongo.\n",
    "Let say , we want to find those products which have recived 5/5 rating."
   ]
  },
  {
   "cell_type": "code",
   "execution_count": null,
   "metadata": {},
   "outputs": [],
   "source": [
    "rating5reviews= productcollection.find({\"rating\":5})\n",
    "for  review in rating5reviews:\n",
    "    print(review)"
   ]
  },
  {
   "cell_type": "markdown",
   "metadata": {},
   "source": [
    "Let's count how many of reviws feedback have given 5/5 of rating and which brand has maximum 5/5 of ratings"
   ]
  },
  {
   "cell_type": "code",
   "execution_count": null,
   "metadata": {},
   "outputs": [],
   "source": [
    "pprint(productcollection.count_documents({\"rating\":5}))\n",
    "\n",
    "#to findout which brand has got maximum 5/5 rating we need to use aggregation pipeline\n",
    "from bson.son import SON\n",
    "pipeline = [{\"$match\": {\"rating\": 5}},{\"$group\": {\"_id\": \"$brand\", \"count\": {\"$sum\": 1}}},{\"$sort\": SON([(\"count\", -1), (\"_id\", -1)])}]\n",
    "pprint(list(productcollection.aggregate(pipeline)))\n"
   ]
  },
  {
   "cell_type": "markdown",
   "metadata": {},
   "source": [
    "Now, same aggregation logic,we will implement using MapRedcue framework. Here we will define map and reduce functions to also count the number of 5rating received by a particular brand, across the entire collection.\n",
    "\n",
    "Our map function just emits a single (brand, 1) pair if rating is 5"
   ]
  },
  {
   "cell_type": "code",
   "execution_count": null,
   "metadata": {},
   "outputs": [],
   "source": [
    "from bson.code import Code\n",
    "mapper = Code(\"\"\"\n",
    "              function () {\n",
    "                   if(this.rating == 5)\n",
    "                     emit(this.brand, 1);\n",
    "                 \n",
    "               }\n",
    "               \"\"\")\n",
    "\n",
    "reducer = Code(\"\"\"\n",
    "                function (key, values) {\n",
    "                  var total = 0;\n",
    "                  for (var i = 0; i < values.length; i++) {\n",
    "                    total += values[i];\n",
    "                  }\n",
    "                  return total;\n",
    "                }\n",
    "                \"\"\")\n",
    "\n",
    "\n",
    "productcollection.map_reduce(mapper, reducer,\"myresults\")\n",
    "result = db['myresults'].find()\n",
    "for doc in result:\n",
    "   pprint(doc)"
   ]
  },
  {
   "cell_type": "markdown",
   "metadata": {},
   "source": [
    "let's update those records where product name is AC to \"Air conditioner\""
   ]
  },
  {
   "cell_type": "code",
   "execution_count": null,
   "metadata": {},
   "outputs": [],
   "source": [
    "productcollection.update_many({\"name\": \"AC\"},{\"$set\": {\"name\": \"Air conditioner\"} })\n",
    "for doc in productcollection.find({\"name\": \"Air conditioner\"}):\n",
    "   pprint(doc)"
   ]
  },
  {
   "cell_type": "code",
   "execution_count": null,
   "metadata": {},
   "outputs": [],
   "source": []
  }
 ],
 "metadata": {
  "kernelspec": {
   "display_name": "Python 3",
   "language": "python",
   "name": "python3"
  },
  "language_info": {
   "codemirror_mode": {
    "name": "ipython",
    "version": 3
   },
   "file_extension": ".py",
   "mimetype": "text/x-python",
   "name": "python",
   "nbconvert_exporter": "python",
   "pygments_lexer": "ipython3",
   "version": "3.7.4"
  }
 },
 "nbformat": 4,
 "nbformat_minor": 2
}
