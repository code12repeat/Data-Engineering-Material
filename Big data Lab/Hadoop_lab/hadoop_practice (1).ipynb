{
 "cells": [
  {
   "cell_type": "code",
   "execution_count": 1,
   "id": "34f600aa-d242-4bcc-9fbc-6b337ae88dd0",
   "metadata": {},
   "outputs": [
    {
     "name": "stdout",
     "output_type": "stream",
     "text": [
      "1 2 3 4 \n",
      "asjh sjkc wjc kdj "
     ]
    }
   ],
   "source": [
    "dt={1:\"asjh\",2:\"sjkc\",3:\"wjc\",4:\"kdj\"}\n",
    "for x in dt:\n",
    "    print(x,end=\" \")\n",
    "print()\n",
    "for x in dt:\n",
    "    print(dt[x],end=\" \")"
   ]
  },
  {
   "cell_type": "code",
   "execution_count": 2,
   "id": "cf528f8d-e84e-4ceb-ba49-d295a2e6073f",
   "metadata": {},
   "outputs": [
    {
     "data": {
      "text/plain": [
       "'/home/maneelcha49dgre'"
      ]
     },
     "execution_count": 2,
     "metadata": {},
     "output_type": "execute_result"
    }
   ],
   "source": [
    "import os\n",
    "os.getcwd()"
   ]
  },
  {
   "cell_type": "code",
   "execution_count": 3,
   "id": "a16c016b-a707-41f7-8b48-7db7bd6f2c04",
   "metadata": {},
   "outputs": [
    {
     "name": "stdout",
     "output_type": "stream",
     "text": [
      "Hadoop 3.3.0\n",
      "Source code repository https://gitbox.apache.org/repos/asf/hadoop.git -r aa96f1871bfd858f9bac59cf2a81ec470da649af\n",
      "Compiled by brahma on 2020-07-06T18:44Z\n",
      "Compiled with protoc 3.7.1\n",
      "From source with checksum 5dc29b802d6ccd77b262ef9d04d19c4\n",
      "This command was run using /opt/hadoop/share/hadoop/common/hadoop-common-3.3.0.jar\n"
     ]
    }
   ],
   "source": [
    "import os\n",
    "os.environ['HADOOP_HOME']='/opt/hadoop'\n",
    "os.environ['PATH']+=os.pathsep + os.path.join(os.environ['HADOOP_HOME'], 'bin')\n",
    "\n",
    "!hadoop version"
   ]
  },
  {
   "cell_type": "code",
   "execution_count": 11,
   "id": "785438c8-fe5f-4a15-b58b-c7c3392e2867",
   "metadata": {},
   "outputs": [],
   "source": [
    "!hdfs dfs -mkdir \"/user/maneelcha49dgre/review_file1/\""
   ]
  },
  {
   "cell_type": "code",
   "execution_count": 4,
   "id": "d6e0eaec-6971-4b2c-bb55-cb61fcc5517b",
   "metadata": {},
   "outputs": [
    {
     "name": "stdout",
     "output_type": "stream",
     "text": [
      "Found 5 items\n",
      "drwxr-xr-x   - maneelcha49dgre maneelcha49dgre          0 2024-08-30 10:41 .sparkStaging\n",
      "-rw-r--r--   3 maneelcha49dgre maneelcha49dgre       9322 2024-08-28 10:08 Person.json\n",
      "-rw-r--r--   3 maneelcha49dgre maneelcha49dgre    2370789 2024-08-27 16:40 apache_logs.txt\n",
      "-rw-r--r--   3 maneelcha49dgre maneelcha49dgre      37977 2024-08-28 10:12 gadgets.json\n",
      "drwxr-xr-x   - maneelcha49dgre maneelcha49dgre          0 2024-09-02 04:33 review_file1\n"
     ]
    }
   ],
   "source": [
    "!hdfs dfs -ls"
   ]
  },
  {
   "cell_type": "code",
   "execution_count": 5,
   "id": "e67467f4-9a39-40ea-9167-3a0272b80f9d",
   "metadata": {},
   "outputs": [
    {
     "name": "stdout",
     "output_type": "stream",
     "text": [
      "rmdir: `myfiles': No such file or directory\n"
     ]
    }
   ],
   "source": [
    "!hdfs dfs -rmdir myfiles"
   ]
  },
  {
   "cell_type": "code",
   "execution_count": 5,
   "id": "af357fcc-500a-40c2-bcec-6559670a3408",
   "metadata": {},
   "outputs": [
    {
     "name": "stdout",
     "output_type": "stream",
     "text": [
      "Found 5 items\n",
      "drwxr-xr-x   - maneelcha49dgre maneelcha49dgre          0 2024-08-30 10:41 .sparkStaging\n",
      "-rw-r--r--   3 maneelcha49dgre maneelcha49dgre       9322 2024-08-28 10:08 Person.json\n",
      "-rw-r--r--   3 maneelcha49dgre maneelcha49dgre    2370789 2024-08-27 16:40 apache_logs.txt\n",
      "-rw-r--r--   3 maneelcha49dgre maneelcha49dgre      37977 2024-08-28 10:12 gadgets.json\n",
      "drwxr-xr-x   - maneelcha49dgre maneelcha49dgre          0 2024-09-02 04:33 review_file1\n"
     ]
    }
   ],
   "source": [
    "!hdfs dfs -ls"
   ]
  },
  {
   "cell_type": "code",
   "execution_count": 6,
   "id": "15f2f960-2b07-4d76-bb95-b7eb0eff0fe2",
   "metadata": {},
   "outputs": [],
   "source": [
    "!hdfs dfs -mkdir folder_1"
   ]
  },
  {
   "cell_type": "code",
   "execution_count": 7,
   "id": "5f437309-2043-48fd-bf1d-dd0c8b4ba662",
   "metadata": {},
   "outputs": [
    {
     "name": "stdout",
     "output_type": "stream",
     "text": [
      "Found 6 items\n",
      "drwxr-xr-x   - maneelcha49dgre maneelcha49dgre          0 2024-08-30 10:41 .sparkStaging\n",
      "-rw-r--r--   3 maneelcha49dgre maneelcha49dgre       9322 2024-08-28 10:08 Person.json\n",
      "-rw-r--r--   3 maneelcha49dgre maneelcha49dgre    2370789 2024-08-27 16:40 apache_logs.txt\n",
      "drwxr-xr-x   - maneelcha49dgre maneelcha49dgre          0 2024-09-02 06:10 folder_1\n",
      "-rw-r--r--   3 maneelcha49dgre maneelcha49dgre      37977 2024-08-28 10:12 gadgets.json\n",
      "drwxr-xr-x   - maneelcha49dgre maneelcha49dgre          0 2024-09-02 04:33 review_file1\n"
     ]
    }
   ],
   "source": [
    "!hdfs dfs -ls"
   ]
  },
  {
   "cell_type": "code",
   "execution_count": 8,
   "id": "6e1e1bae-08fd-44a4-95b6-dbf0283cb9d5",
   "metadata": {},
   "outputs": [],
   "source": [
    "!hdfs dfs -rmdir folder_1"
   ]
  },
  {
   "cell_type": "code",
   "execution_count": 9,
   "id": "f12f3713-64a9-4ee4-902e-b659921e88da",
   "metadata": {},
   "outputs": [
    {
     "name": "stdout",
     "output_type": "stream",
     "text": [
      "Found 5 items\n",
      "drwxr-xr-x   - maneelcha49dgre maneelcha49dgre          0 2024-08-30 10:41 .sparkStaging\n",
      "-rw-r--r--   3 maneelcha49dgre maneelcha49dgre       9322 2024-08-28 10:08 Person.json\n",
      "-rw-r--r--   3 maneelcha49dgre maneelcha49dgre    2370789 2024-08-27 16:40 apache_logs.txt\n",
      "-rw-r--r--   3 maneelcha49dgre maneelcha49dgre      37977 2024-08-28 10:12 gadgets.json\n",
      "drwxr-xr-x   - maneelcha49dgre maneelcha49dgre          0 2024-09-02 04:33 review_file1\n"
     ]
    }
   ],
   "source": [
    "!hdfs dfs -ls"
   ]
  },
  {
   "cell_type": "code",
   "execution_count": 11,
   "id": "743fb621-a686-42f1-a880-61f6fb833294",
   "metadata": {},
   "outputs": [
    {
     "name": "stdout",
     "output_type": "stream",
     "text": [
      "put: `/user/maneelcha49dgre/review_file1/tv_shows.json': File exists\n"
     ]
    }
   ],
   "source": [
    "local_file=\"/home/maneelcha49dgre/myfiles/tv_shows.json\"\n",
    "hdfs_directory= \"/user/maneelcha49dgre/review_file1/\"\n",
    "\n",
    "#upload the file to HDFS\n",
    "!hdfs dfs -put {local_file} {hdfs_directory}"
   ]
  },
  {
   "cell_type": "code",
   "execution_count": 12,
   "id": "8e1e2aee-c7cd-4284-bae3-b9b9862587d5",
   "metadata": {},
   "outputs": [
    {
     "name": "stdout",
     "output_type": "stream",
     "text": [
      "[{\"ID\":1,\"showName\":\"Rectify\",\"showType\":\"Scripted\",\"language\":\"English\",\"genre\":\"Drama\",\"runningTime\":42,\"rating\":8.7},{\"ID\":2,\"showName\":\"The Larry Sanders Show\",\"showType\":\"Scripted\",\"language\":\"English\",\"genre\":\"Sitcom\",\"runningTime\":30,\"rating\":4.8},{\"ID\":3,\"showName\":\"Murder One\",\"showType\":\"Scripted\",\"language\":\"English\",\"genre\":\"Drama\",\"runningTime\":45,\"rating\":6.4},{\"ID\":4,\"showName\":\"The Amazing Race\",\"showType\":\"Reality\",\"language\":\"English\",\"genre\":\"Game Show\",\"runningTime\":60,\"rating\":5},{\"ID\":5,\"showName\":\"Breaking Bad\",\"showType\":\"Scripted\",\"language\":\"English\",\"genre\":\"Drama\",\"runningTime\":45,\"rating\":9.6},{\"ID\":6,\"showName\":\"The Office\",\"showType\":\"Scripted\",\"language\":\"English\",\"genre\":\"Sitcom\",\"runningTime\":30,\"rating\":8.5},{\"ID\":7,\"showName\":\"The Big Bang Theory\",\"showType\":\"Scripted\",\"language\":\"English\",\"genre\":\"Sitcom\",\"runningTime\":30,\"rating\":8.5},{\"ID\":8,\"showName\":\"Bo Burnham: Inside\",\"showType\":\"Scripted\",\"language\":\"English\",\"genre\":\"Comedy\",\"runningTime\":60,\"rating\":8.5},{\"ID\":9,\"showName\":\"The Leftovers\",\"showType\":\"Scripted\",\"language\":\"English\",\"genre\":\"Drama\",\"runningTime\":60,\"rating\":9.1},{\"ID\":10,\"showName\":\"The Wire\",\"showType\":\"Scripted\",\"language\":\"English\",\"genre\":\"Drama\",\"runningTime\":60,\"rating\":9.4},{\"ID\":11,\"showName\":\"Simpsons\",\"showType\":\"Scripted\",\"language\":\"English\",\"genre\":\"Sitcom\",\"runningTime\":25,\"rating\":9.5},{\"ID\":12,\"showName\":\"The Sopranos\",\"showType\":\"Scripted\",\"language\":\"English\",\"genre\":\"Drama\",\"runningTime\":45,\"rating\":9.3},{\"ID\":13,\"showName\":\"Peaky Blinders\",\"showType\":\"Scripted\",\"language\":\"English\",\"genre\":\"Drama\",\"runningTime\":60,\"rating\":8},{\"ID\":14,\"showName\":\"Planet Earth\",\"showType\":\"Scripted\",\"language\":\"English\",\"genre\":\"Documentary\",\"runningTime\":60,\"rating\":8.3},{\"ID\":15,\"showName\":\"Atlanta\",\"showType\":\"Scripted\",\"language\":\"English\",\"genre\":\"Comedy\",\"runningTime\":30,\"rating\":8.2},{\"ID\":16,\"showName\":\"Vikings\",\"showType\":\"Scripted\",\"language\":\"English\",\"genre\":\"Drama\",\"runningTime\":45,\"rating\":9.4},{\"ID\":18,\"showName\":\"America to Me\",\"showType\":\"Scripted\",\"language\":\"English\",\"genre\":\"Documentary\",\"runningTime\":60,\"rating\":5.6},{\"ID\":19,\"showName\":\"Homeland\",\"showType\":\"Scripted\",\"language\":\"English\",\"genre\":\"Thriller\",\"runningTime\":60,\"rating\":8.3},{\"ID\":20,\"showName\":\"Twin Peaks\",\"showType\":\"Scripted\",\"language\":\"English\",\"genre\":\"Mystery\",\"runningTime\":60,\"rating\":9.3},{\"ID\":21,\"showName\":\"O.J: Made in America\",\"showType\":\"Scripted\",\"language\":\"English\",\"genre\":\"Documentary\",\"runningTime\":60,\"rating\":8},{\"ID\":22,\"showName\":\"What We Do in the Shadows\",\"showType\":\"Scripted\",\"language\":\"English\",\"genre\":\"Horror\",\"runningTime\":30,\"rating\":8.1},{\"ID\":23,\"showName\":\"Better Call Saul\",\"showType\":\"Scripted\",\"language\":\"English\",\"genre\":\"Drama\",\"runningTime\":45,\"rating\":9.5},{\"ID\":24,\"showName\":\"Big Brother\",\"showType\":\"Reality\",\"language\":\"English\",\"genre\":\"Reality\",\"runningTime\":30,\"rating\":4},{\"ID\":25,\"showName\":\"One Punch Man\",\"showType\":\"Animation\",\"language\":\"Japanese\",\"genre\":\"Action\",\"runningTime\":30,\"rating\":7.3},{\"ID\":26,\"showName\":\"Attack on Titan\",\"showType\":\"Animation\",\"language\":\"Japanese\",\"genre\":\"Action\",\"runningTime\":30,\"rating\":8.8},{\"ID\":27,\"showName\":\"Death Note\",\"showType\":\"Animation\",\"language\":\"Japanese\",\"genre\":\"Mystery\",\"runningTime\":30,\"rating\":9.2},{\"ID\":28,\"showName\":\"Two and a half men\",\"showType\":\"Scripted\",\"language\":\"English\",\"genre\":\"Sitcom\",\"runningTime\":30,\"rating\":9.4},{\"ID\":29,\"showName\":\"Catastrophe\",\"showType\":\"Scripted\",\"language\":\"English\",\"genre\":\"Sitcom\",\"runningTime\":25,\"rating\":8.1},{\"ID\":30,\"showName\":\"Enlightened\",\"showType\":\"Scripted\",\"language\":\"English\",\"genre\":\"Drama\",\"runningTime\":30,\"rating\":7.6}]"
     ]
    }
   ],
   "source": [
    "hdfs_file=f\"{hdfs_directory}tv_shows.json\"\n",
    "#read the file from hdfs and print its content\n",
    "!hdfs dfs -cat {hdfs_file}"
   ]
  },
  {
   "cell_type": "code",
   "execution_count": 13,
   "id": "4d7810af-6df5-4ce0-97ca-87ac97a01c08",
   "metadata": {},
   "outputs": [
    {
     "name": "stderr",
     "output_type": "stream",
     "text": [
      "/tmp/ipykernel_6901/3850843365.py:5: FutureWarning: pyarrow.hdfs.connect is deprecated as of 2.0.0, please use pyarrow.fs.HadoopFileSystem instead.\n",
      "  hdfs_client=hdfs.connect()\n",
      "find: ‘/opt/hadoop/logs/userlogs/application_1676952157749_0008/container_1676952157749_0008_01_000001’: Permission denied\n",
      "find: ‘/opt/hadoop/logs/userlogs/application_1676952157749_0008/container_1676952157749_0008_02_000001’: Permission denied\n",
      "2024-09-02 06:11:04,964 WARN util.NativeCodeLoader: Unable to load native-hadoop library for your platform... using builtin-java classes where applicable\n"
     ]
    },
    {
     "name": "stdout",
     "output_type": "stream",
     "text": [
      "   ID                showName  showType language      genre  runningTime  \\\n",
      "0   1                 Rectify  Scripted  English      Drama           42   \n",
      "1   2  The Larry Sanders Show  Scripted  English     Sitcom           30   \n",
      "2   3              Murder One  Scripted  English      Drama           45   \n",
      "3   4        The Amazing Race   Reality  English  Game Show           60   \n",
      "4   5            Breaking Bad  Scripted  English      Drama           45   \n",
      "\n",
      "   rating  \n",
      "0     8.7  \n",
      "1     4.8  \n",
      "2     6.4  \n",
      "3     5.0  \n",
      "4     9.6  \n"
     ]
    }
   ],
   "source": [
    "import pyarrow as pa\n",
    "import pyarrow.hdfs as hdfs\n",
    "\n",
    "#connect to HDFS\n",
    "hdfs_client=hdfs.connect()\n",
    "\n",
    "#read a file from HDFS\n",
    "with hdfs_client.open(hdfs_file) as f:\n",
    "    content=f.read()\n",
    "\n",
    "import pandas as pd\n",
    "from io import StringIO\n",
    "\n",
    "df=pd.read_json(StringIO(content.decode('utf-8')))\n",
    "print(df.head())"
   ]
  },
  {
   "cell_type": "code",
   "execution_count": 14,
   "id": "1ccb72bd-747c-4c10-8351-763ec55da014",
   "metadata": {},
   "outputs": [
    {
     "name": "stdout",
     "output_type": "stream",
     "text": [
      "csv file written in HDFS\n"
     ]
    },
    {
     "name": "stderr",
     "output_type": "stream",
     "text": [
      "/tmp/ipykernel_6901/3508022717.py:12: FutureWarning: pyarrow.hdfs.connect is deprecated as of 2.0.0, please use pyarrow.fs.HadoopFileSystem instead.\n",
      "  hdfs_client=hdfs.connect()\n"
     ]
    }
   ],
   "source": [
    "import pyarrow.hdfs as hdfs\n",
    "import pandas as pd\n",
    "\n",
    "#smaple dataframe\n",
    "data={'column1':[1,2,3],'column2':['A','B','C']}\n",
    "df=pd.DataFrame(data)\n",
    "\n",
    "#convert dataframe to csv formate\n",
    "csv_data=df.to_csv(index=False)\n",
    "\n",
    "#Define the HDFS file system\n",
    "hdfs_client=hdfs.connect()\n",
    "#path to write the parquet file in HDFS\n",
    "hdfs_path = \"/user/maneelcha49dgre/review_file1/file.csv\"\n",
    "#write the pyarrow table to parquet file in HDFS\n",
    "with hdfs_client.open(hdfs_path,'wb') as f:\n",
    "    f.write(csv_data.encode('utf-8'))\n",
    "print(\"csv file written in HDFS\")"
   ]
  },
  {
   "cell_type": "code",
   "execution_count": 41,
   "id": "6c8c9ce9-0677-4bbf-9094-43d5bd204c61",
   "metadata": {},
   "outputs": [
    {
     "name": "stdout",
     "output_type": "stream",
     "text": [
      "Found 3 items\n",
      "drwxr-xr-x   - maneelcha49dgre maneelcha49dgre          0 2024-08-21 15:59 inputDir\n",
      "drwxr-xr-x   - maneelcha49dgre maneelcha49dgre          0 2024-08-21 16:00 outputDir\n",
      "drwxr-xr-x   - maneelcha49dgre maneelcha49dgre          0 2024-08-22 10:28 review_file1\n"
     ]
    }
   ],
   "source": [
    "!hdfs dfs -ls"
   ]
  },
  {
   "cell_type": "code",
   "execution_count": null,
   "id": "86a79008-4d5a-48bf-84d3-5baeef59c09f",
   "metadata": {},
   "outputs": [],
   "source": []
  }
 ],
 "metadata": {
  "kernelspec": {
   "display_name": "Python 3 (ipykernel)",
   "language": "python",
   "name": "python3"
  },
  "language_info": {
   "codemirror_mode": {
    "name": "ipython",
    "version": 3
   },
   "file_extension": ".py",
   "mimetype": "text/x-python",
   "name": "python",
   "nbconvert_exporter": "python",
   "pygments_lexer": "ipython3",
   "version": "3.9.13"
  }
 },
 "nbformat": 4,
 "nbformat_minor": 5
}
