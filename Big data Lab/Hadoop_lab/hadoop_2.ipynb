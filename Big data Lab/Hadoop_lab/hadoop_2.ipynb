{
 "cells": [
  {
   "cell_type": "code",
   "execution_count": 1,
   "id": "280c08d8-5f0b-4fb2-9e36-9afc4e43e10f",
   "metadata": {},
   "outputs": [],
   "source": [
    "import os"
   ]
  },
  {
   "cell_type": "code",
   "execution_count": null,
   "id": "451b9470-2dc2-43a6-9f92-c0fda6684218",
   "metadata": {},
   "outputs": [
    {
     "name": "stdout",
     "output_type": "stream",
     "text": [
      "/bin/bash: line 0: export: `=': not a valid identifier\n",
      "/bin/bash: line 0: export: `/opt/hadoop/lib/native:': not a valid identifier\n",
      "Hadoop 3.3.0\n",
      "Source code repository https://gitbox.apache.org/repos/asf/hadoop.git -r aa96f1871bfd858f9bac59cf2a81ec470da649af\n",
      "Compiled by brahma on 2020-07-06T18:44Z\n",
      "Compiled with protoc 3.7.1\n",
      "From source with checksum 5dc29b802d6ccd77b262ef9d04d19c4\n",
      "This command was run using /opt/hadoop/share/hadoop/common/hadoop-common-3.3.0.jar\n",
      "master\n"
     ]
    }
   ],
   "source": [
    "os.environ['HADOOP_HOME'] = '/opt/hadoop'\n",
    "!export LD_LIBRARY_PATH = $HADOOP_HOME/lib/native:$LD_LIBRARY_PATH\n",
    "os.environ['PATH'] += os.pathsep + os.path.join(os.environ['HADOOP_HOME'], 'bin')\n",
    "os.environ['PATH'] += os.pathsep + os.path.join(os.environ['HADOOP_HOME'], 'lib/native')\n",
    "os.environ['ARROW_LIBHDFS_DIR'] = 'opt/hadoop/lib/native'\n",
    "!hadoop version\n",
    "!hdfs getconf -namenodes\n",
    " \n",
    "import pyarrow.hdfs as hdfs\n",
    " \n",
    "hdfs_client=hdfs.connect(host=\"master\",port=8020,user=\"maneelcha49dgre\")"
   ]
  },
  {
   "cell_type": "code",
   "execution_count": null,
   "id": "11160350-883b-4a33-96a1-5e4e6258df83",
   "metadata": {},
   "outputs": [],
   "source": []
  }
 ],
 "metadata": {
  "kernelspec": {
   "display_name": "Python 3 (ipykernel)",
   "language": "python",
   "name": "python3"
  },
  "language_info": {
   "codemirror_mode": {
    "name": "ipython",
    "version": 3
   },
   "file_extension": ".py",
   "mimetype": "text/x-python",
   "name": "python",
   "nbconvert_exporter": "python",
   "pygments_lexer": "ipython3",
   "version": "3.9.13"
  }
 },
 "nbformat": 4,
 "nbformat_minor": 5
}
