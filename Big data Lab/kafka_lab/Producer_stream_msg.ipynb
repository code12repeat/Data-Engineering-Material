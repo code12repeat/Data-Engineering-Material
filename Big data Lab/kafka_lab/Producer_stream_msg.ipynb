{
 "cells": [
  {
   "cell_type": "code",
   "execution_count": 1,
   "id": "db0e3d05-d3ac-47ab-ae5d-fe8a4028c3aa",
   "metadata": {},
   "outputs": [
    {
     "name": "stdout",
     "output_type": "stream",
     "text": [
      "Defaulting to user installation because normal site-packages is not writeable\n",
      "Requirement already satisfied: kafka-python in /home/maneelcha49dgre/.local/lib/python3.9/site-packages (2.0.2)\n"
     ]
    }
   ],
   "source": [
    "!pip install kafka-python"
   ]
  },
  {
   "cell_type": "code",
   "execution_count": 5,
   "id": "d70ce97a-c386-48b7-a3f2-3eba62cbf33d",
   "metadata": {},
   "outputs": [],
   "source": [
    "from kafka import KafkaProducer\n",
    "import csv\n",
    "import json"
   ]
  },
  {
   "cell_type": "code",
   "execution_count": null,
   "id": "d8ff1672-da65-4a5b-9fc5-319b0f43566b",
   "metadata": {},
   "outputs": [
    {
     "name": "stdin",
     "output_type": "stream",
     "text": [
      "Enter your message hello guys\n"
     ]
    },
    {
     "name": "stdout",
     "output_type": "stream",
     "text": [
      "Message sent: hello guys\n"
     ]
    },
    {
     "name": "stdin",
     "output_type": "stream",
     "text": [
      "Enter your message hi Ravish\n"
     ]
    },
    {
     "name": "stdout",
     "output_type": "stream",
     "text": [
      "Message sent: hi Ravish\n"
     ]
    },
    {
     "name": "stdin",
     "output_type": "stream",
     "text": [
      "Enter your message hello\n"
     ]
    },
    {
     "name": "stdout",
     "output_type": "stream",
     "text": [
      "Message sent: hello\n"
     ]
    }
   ],
   "source": [
    "def kafka_producer():\n",
    "    #initialize the producer\n",
    "    producer=KafkaProducer(\n",
    "        bootstrap_servers=['master:9092'],\n",
    "        value_serializer=lambda x:json.dumps(x).encode('utf-8')\n",
    "    )\n",
    "    #send message\n",
    "    while(True):\n",
    "        topic_name=\"num_topic\"\n",
    "        message=input(\"Enter your message\")\n",
    "        if(message=='stop'):\n",
    "            break\n",
    "        producer.send(topic_name,message)\n",
    "        print(f\"Message sent: {message}\")\n",
    "        producer.flush()\n",
    "    producer.close()\n",
    "    \n",
    "if __name__==\"__main__\":\n",
    "    kafka_producer()"
   ]
  },
  {
   "cell_type": "code",
   "execution_count": 21,
   "id": "2759058f-c3ed-4678-959c-87ef6c7aaf9b",
   "metadata": {},
   "outputs": [],
   "source": [
    "def kafka_producer():\n",
    "    #initialize the producer\n",
    "    producer=KafkaProducer(\n",
    "        bootstrap_servers=['master:9092'],\n",
    "        value_serializer=lambda x:json.dumps(x).encode('utf-8')\n",
    "    )\n",
    "    i=1\n",
    "    while(i<101):\n",
    "        topic_name=\"num_topic\"\n",
    "        message=int(i)\n",
    "        producer.send(topic_name,message)\n",
    "        i+=1\n",
    "        producer.flush()\n",
    "    producer.close()\n",
    "    \n",
    "if __name__==\"__main__\":\n",
    "    kafka_producer()"
   ]
  },
  {
   "cell_type": "code",
   "execution_count": 20,
   "id": "940bd85a-b5fa-48c7-8dce-fdde2ce5df2f",
   "metadata": {},
   "outputs": [],
   "source": [
    "def kafka_producer():\n",
    "    #initialize the producer\n",
    "    producer=KafkaProducer(\n",
    "        bootstrap_servers=['master:9092'],\n",
    "        value_serializer=lambda x:json.dumps(x).encode('utf-8')\n",
    "    )\n",
    "    i=1\n",
    "    ls=[]\n",
    "    while(i<101):\n",
    "        ls.append(i)\n",
    "        i+=1\n",
    "    topic_name=\"num_topi\"\n",
    "    message=int(i)\n",
    "    producer.send(topic_name,message)\n",
    "    producer.flush()\n",
    "    producer.close()\n",
    "    \n",
    "if __name__==\"__main__\":\n",
    "    kafka_producer()"
   ]
  }
 ],
 "metadata": {
  "kernelspec": {
   "display_name": "Python 3 (ipykernel)",
   "language": "python",
   "name": "python3"
  },
  "language_info": {
   "codemirror_mode": {
    "name": "ipython",
    "version": 3
   },
   "file_extension": ".py",
   "mimetype": "text/x-python",
   "name": "python",
   "nbconvert_exporter": "python",
   "pygments_lexer": "ipython3",
   "version": "3.9.13"
  }
 },
 "nbformat": 4,
 "nbformat_minor": 5
}
