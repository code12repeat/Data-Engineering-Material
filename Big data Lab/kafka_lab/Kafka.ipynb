{
 "cells": [
  {
   "cell_type": "code",
   "execution_count": 1,
   "id": "19710e4b-286e-415d-848f-ad54231d6d9c",
   "metadata": {},
   "outputs": [
    {
     "name": "stdout",
     "output_type": "stream",
     "text": [
      ":: loading settings :: url = jar:file:/opt/anaconda3/lib/python3.9/site-packages/pyspark/jars/ivy-2.4.0.jar!/org/apache/ivy/core/settings/ivysettings.xml\n"
     ]
    },
    {
     "name": "stderr",
     "output_type": "stream",
     "text": [
      "Ivy Default Cache set to: /home/maneelcha49dgre/.ivy2/cache\n",
      "The jars for the packages stored in: /home/maneelcha49dgre/.ivy2/jars\n",
      "org.apache.spark#spark-sql-kafka-0-10_2.12 added as a dependency\n",
      ":: resolving dependencies :: org.apache.spark#spark-submit-parent-9dff41e0-1497-4628-b173-c5aaae5f8b82;1.0\n",
      "\tconfs: [default]\n",
      "\tfound org.apache.spark#spark-sql-kafka-0-10_2.12;3.1.2 in central\n",
      "\tfound org.apache.spark#spark-token-provider-kafka-0-10_2.12;3.1.2 in central\n",
      "\tfound org.apache.kafka#kafka-clients;2.6.0 in central\n",
      "\tfound com.github.luben#zstd-jni;1.4.8-1 in central\n",
      "\tfound org.lz4#lz4-java;1.7.1 in central\n",
      "\tfound org.xerial.snappy#snappy-java;1.1.8.2 in central\n",
      "\tfound org.slf4j#slf4j-api;1.7.30 in central\n",
      "\tfound org.spark-project.spark#unused;1.0.0 in central\n",
      "\tfound org.apache.commons#commons-pool2;2.6.2 in central\n",
      ":: resolution report :: resolve 512ms :: artifacts dl 46ms\n",
      "\t:: modules in use:\n",
      "\tcom.github.luben#zstd-jni;1.4.8-1 from central in [default]\n",
      "\torg.apache.commons#commons-pool2;2.6.2 from central in [default]\n",
      "\torg.apache.kafka#kafka-clients;2.6.0 from central in [default]\n",
      "\torg.apache.spark#spark-sql-kafka-0-10_2.12;3.1.2 from central in [default]\n",
      "\torg.apache.spark#spark-token-provider-kafka-0-10_2.12;3.1.2 from central in [default]\n",
      "\torg.lz4#lz4-java;1.7.1 from central in [default]\n",
      "\torg.slf4j#slf4j-api;1.7.30 from central in [default]\n",
      "\torg.spark-project.spark#unused;1.0.0 from central in [default]\n",
      "\torg.xerial.snappy#snappy-java;1.1.8.2 from central in [default]\n",
      "\t---------------------------------------------------------------------\n",
      "\t|                  |            modules            ||   artifacts   |\n",
      "\t|       conf       | number| search|dwnlded|evicted|| number|dwnlded|\n",
      "\t---------------------------------------------------------------------\n",
      "\t|      default     |   9   |   0   |   0   |   0   ||   9   |   0   |\n",
      "\t---------------------------------------------------------------------\n",
      ":: retrieving :: org.apache.spark#spark-submit-parent-9dff41e0-1497-4628-b173-c5aaae5f8b82\n",
      "\tconfs: [default]\n",
      "\t0 artifacts copied, 9 already retrieved (0kB/12ms)\n",
      "2024-08-30 10:31:02,451 WARN util.NativeCodeLoader: Unable to load native-hadoop library for your platform... using builtin-java classes where applicable\n",
      "Setting default log level to \"WARN\".\n",
      "To adjust logging level use sc.setLogLevel(newLevel). For SparkR, use setLogLevel(newLevel).\n",
      "2024-08-30 10:31:03,362 WARN util.Utils: Service 'SparkUI' could not bind on port 4040. Attempting port 4041.\n",
      "2024-08-30 10:31:03,363 WARN util.Utils: Service 'SparkUI' could not bind on port 4041. Attempting port 4042.\n",
      "2024-08-30 10:31:03,363 WARN util.Utils: Service 'SparkUI' could not bind on port 4042. Attempting port 4043.\n",
      "2024-08-30 10:31:06,665 WARN yarn.Client: Same path resource file:///home/maneelcha49dgre/.ivy2/jars/org.apache.spark_spark-sql-kafka-0-10_2.12-3.1.2.jar added multiple times to distributed cache.\n",
      "2024-08-30 10:31:06,665 WARN yarn.Client: Same path resource file:///home/maneelcha49dgre/.ivy2/jars/org.apache.spark_spark-token-provider-kafka-0-10_2.12-3.1.2.jar added multiple times to distributed cache.\n",
      "2024-08-30 10:31:06,665 WARN yarn.Client: Same path resource file:///home/maneelcha49dgre/.ivy2/jars/org.apache.kafka_kafka-clients-2.6.0.jar added multiple times to distributed cache.\n",
      "2024-08-30 10:31:06,665 WARN yarn.Client: Same path resource file:///home/maneelcha49dgre/.ivy2/jars/org.apache.commons_commons-pool2-2.6.2.jar added multiple times to distributed cache.\n",
      "2024-08-30 10:31:06,665 WARN yarn.Client: Same path resource file:///home/maneelcha49dgre/.ivy2/jars/org.spark-project.spark_unused-1.0.0.jar added multiple times to distributed cache.\n",
      "2024-08-30 10:31:06,665 WARN yarn.Client: Same path resource file:///home/maneelcha49dgre/.ivy2/jars/com.github.luben_zstd-jni-1.4.8-1.jar added multiple times to distributed cache.\n",
      "2024-08-30 10:31:06,665 WARN yarn.Client: Same path resource file:///home/maneelcha49dgre/.ivy2/jars/org.lz4_lz4-java-1.7.1.jar added multiple times to distributed cache.\n",
      "2024-08-30 10:31:06,665 WARN yarn.Client: Same path resource file:///home/maneelcha49dgre/.ivy2/jars/org.xerial.snappy_snappy-java-1.1.8.2.jar added multiple times to distributed cache.\n",
      "2024-08-30 10:31:06,665 WARN yarn.Client: Same path resource file:///home/maneelcha49dgre/.ivy2/jars/org.slf4j_slf4j-api-1.7.30.jar added multiple times to distributed cache.\n",
      "2024-08-30 10:31:16,340 WARN streaming.StreamingQueryManager: Temporary checkpoint location created which is deleted normally when the query didn't fail: /tmp/temporary-f436f2a4-4b3f-43a2-b5c4-1c566f641e1a. If it's required to delete it under any circumstances, please set spark.sql.streaming.forceDeleteTempCheckpointLocation to true. Important to know deleting temp checkpoint folder is best effort.\n"
     ]
    },
    {
     "name": "stdout",
     "output_type": "stream",
     "text": [
      "-------------------------------------------\n",
      "Batch: 0\n",
      "-------------------------------------------\n",
      "+-----+\n",
      "|value|\n",
      "+-----+\n",
      "+-----+\n",
      "\n"
     ]
    },
    {
     "name": "stderr",
     "output_type": "stream",
     "text": [
      "[Stage 1:>                                                          (0 + 1) / 1]\r"
     ]
    },
    {
     "name": "stdout",
     "output_type": "stream",
     "text": [
      "-------------------------------------------\n",
      "Batch: 1\n",
      "-------------------------------------------\n",
      "+----------+\n",
      "|     value|\n",
      "+----------+\n",
      "|{\"key\": 0}|\n",
      "|{\"key\": 1}|\n",
      "|{\"key\": 2}|\n",
      "|{\"key\": 3}|\n",
      "+----------+\n",
      "\n"
     ]
    },
    {
     "name": "stderr",
     "output_type": "stream",
     "text": [
      "                                                                                \r"
     ]
    },
    {
     "name": "stdout",
     "output_type": "stream",
     "text": [
      "-------------------------------------------\n",
      "Batch: 2\n",
      "-------------------------------------------\n",
      "+----------+\n",
      "|     value|\n",
      "+----------+\n",
      "|{\"key\": 4}|\n",
      "|{\"key\": 5}|\n",
      "|{\"key\": 6}|\n",
      "|{\"key\": 7}|\n",
      "|{\"key\": 8}|\n",
      "|{\"key\": 9}|\n",
      "+----------+\n",
      "\n"
     ]
    },
    {
     "name": "stderr",
     "output_type": "stream",
     "text": [
      "[Stage 3:>                                                          (0 + 1) / 1]\r"
     ]
    },
    {
     "data": {
      "text/plain": [
       "False"
      ]
     },
     "execution_count": 1,
     "metadata": {},
     "output_type": "execute_result"
    }
   ],
   "source": [
    "from pyspark.sql import SparkSession\n",
    "from pyspark.sql.functions import expr\n",
    "\n",
    "# Initialize SparkSession with Kafka dependencies\n",
    "spark = SparkSession.builder \\\n",
    "    .appName(\"KafkaStructuredStreamingExample\") \\\n",
    "    .config(\"spark.jars.packages\", \"org.apache.spark:spark-sql-kafka-0-10_2.12:3.1.2\") \\\n",
    "    .config(\"spark.yarn.jars\", \"hdfs:///opt/spark/*.jar\") \\\n",
    "    .getOrCreate()\n",
    "\n",
    "# Kafka configuration details\n",
    "kafka_bootstrap_servers = \"master:9092\"  # Replace with your Kafka broker address\n",
    "kafka_topic = \"sub_1\"  # Replace with your Kafka topic\n",
    "\n",
    "# Read data from Kafka\n",
    "df = spark.readStream \\\n",
    "    .format(\"kafka\") \\\n",
    "    .option(\"kafka.bootstrap.servers\", kafka_bootstrap_servers) \\\n",
    "    .option(\"subscribe\", kafka_topic) \\\n",
    "    .load()\n",
    "\n",
    "# Extract the 'value' column from the Kafka message and cast it to a string\n",
    "kafka_df = df.selectExpr(\"CAST(value AS STRING)\")\n",
    "\n",
    "# Write the output to the console (this works in notebook output)\n",
    "query = kafka_df.writeStream \\\n",
    "    .outputMode(\"append\") \\\n",
    "    .format(\"console\") \\\n",
    "    .start()\n",
    "\n",
    "# Await termination (in a notebook, you might want to limit this or use a specific timeout)\n",
    "# In a Jupyter notebook, we use a short timeout to avoid blocking the notebook for too long\n",
    "query.awaitTermination(60)\n"
   ]
  }
 ],
 "metadata": {
  "kernelspec": {
   "display_name": "Python 3 (ipykernel)",
   "language": "python",
   "name": "python3"
  },
  "language_info": {
   "codemirror_mode": {
    "name": "ipython",
    "version": 3
   },
   "file_extension": ".py",
   "mimetype": "text/x-python",
   "name": "python",
   "nbconvert_exporter": "python",
   "pygments_lexer": "ipython3",
   "version": "3.9.13"
  }
 },
 "nbformat": 4,
 "nbformat_minor": 5
}
