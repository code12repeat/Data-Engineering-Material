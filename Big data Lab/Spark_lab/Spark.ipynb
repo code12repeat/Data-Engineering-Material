{
 "cells": [
  {
   "cell_type": "code",
   "execution_count": 1,
   "id": "8d6c012c-bfa0-44a2-b6f0-35ffdc16b7ba",
   "metadata": {},
   "outputs": [],
   "source": [
    "#SparkContext is for RDDs\n",
    "from pyspark import SparkContext"
   ]
  },
  {
   "cell_type": "code",
   "execution_count": 2,
   "id": "6dfdec88-03e8-4667-869b-eea02640d15e",
   "metadata": {},
   "outputs": [
    {
     "name": "stderr",
     "output_type": "stream",
     "text": [
      "2024-08-28 03:57:12,946 WARN util.NativeCodeLoader: Unable to load native-hadoop library for your platform... using builtin-java classes where applicable\n",
      "Setting default log level to \"WARN\".\n",
      "To adjust logging level use sc.setLogLevel(newLevel). For SparkR, use setLogLevel(newLevel).\n",
      "2024-08-28 03:57:14,919 WARN util.Utils: Service 'SparkUI' could not bind on port 4040. Attempting port 4041.\n",
      "2024-08-28 03:57:14,923 WARN util.Utils: Service 'SparkUI' could not bind on port 4041. Attempting port 4042.\n",
      "2024-08-28 03:57:14,924 WARN util.Utils: Service 'SparkUI' could not bind on port 4042. Attempting port 4043.\n",
      "2024-08-28 03:57:14,924 WARN util.Utils: Service 'SparkUI' could not bind on port 4043. Attempting port 4044.\n",
      "2024-08-28 03:57:14,925 WARN util.Utils: Service 'SparkUI' could not bind on port 4044. Attempting port 4045.\n",
      "2024-08-28 03:57:14,925 WARN util.Utils: Service 'SparkUI' could not bind on port 4045. Attempting port 4046.\n",
      "2024-08-28 03:57:14,926 WARN util.Utils: Service 'SparkUI' could not bind on port 4046. Attempting port 4047.\n",
      "2024-08-28 03:57:14,926 WARN util.Utils: Service 'SparkUI' could not bind on port 4047. Attempting port 4048.\n"
     ]
    }
   ],
   "source": [
    "#initialize sparkcontext\n",
    "sc=SparkContext('local','wordCount')\n",
    "data=[\n",
    "    'Hello World',\n",
    "    'Hello Spark',\n",
    "    'Hello pySpark',\n",
    "    'Spark is fast',\n",
    "    'Spark is awesome'\n",
    "]"
   ]
  },
  {
   "cell_type": "code",
   "execution_count": 3,
   "id": "e6f29983-f457-4936-b867-8a8b084663a1",
   "metadata": {},
   "outputs": [
    {
     "name": "stdout",
     "output_type": "stream",
     "text": [
      "b'(1) ParallelCollectionRDD[0] at readRDDFromFile at PythonRDD.scala:274 []'\n"
     ]
    },
    {
     "name": "stderr",
     "output_type": "stream",
     "text": [
      "                                                                                \r"
     ]
    }
   ],
   "source": [
    "#create a RDD from data samole\n",
    "rdd=sc.parallelize(data)\n",
    "rdd.collect()\n",
    "# tells how many RDDs are created\n",
    "print(rdd.toDebugString())"
   ]
  },
  {
   "cell_type": "code",
   "execution_count": 4,
   "id": "01244a10-a086-4fb7-9339-ce480c4b97bc",
   "metadata": {},
   "outputs": [
    {
     "name": "stderr",
     "output_type": "stream",
     "text": [
      "                                                                                \r"
     ]
    },
    {
     "data": {
      "text/plain": [
       "['Hello',\n",
       " 'World',\n",
       " 'Hello',\n",
       " 'Spark',\n",
       " 'Hello',\n",
       " 'pySpark',\n",
       " 'Spark',\n",
       " 'is',\n",
       " 'fast',\n",
       " 'Spark',\n",
       " 'is',\n",
       " 'awesome']"
      ]
     },
     "execution_count": 4,
     "metadata": {},
     "output_type": "execute_result"
    }
   ],
   "source": [
    "#apply transformation\n",
    "#1. flatMap():split each line into word\n",
    "words=rdd.flatMap(lambda line:line.split(\" \"))\n",
    "words.collect()"
   ]
  },
  {
   "cell_type": "code",
   "execution_count": 5,
   "id": "c4f0461b-3fcd-466a-9374-15fbfc695983",
   "metadata": {},
   "outputs": [
    {
     "data": {
      "text/plain": [
       "[['Hello', 'World'],\n",
       " ['Hello', 'Spark'],\n",
       " ['Hello', 'pySpark'],\n",
       " ['Spark', 'is', 'fast'],\n",
       " ['Spark', 'is', 'awesome']]"
      ]
     },
     "execution_count": 5,
     "metadata": {},
     "output_type": "execute_result"
    }
   ],
   "source": [
    "#2. map():makes list of list\n",
    "words_2=rdd.map(lambda line:line.split(\" \"))\n",
    "words_2.collect()"
   ]
  },
  {
   "cell_type": "code",
   "execution_count": 6,
   "id": "bff2a5c5-1bd1-4614-8eb8-a7e4b9cade07",
   "metadata": {},
   "outputs": [
    {
     "data": {
      "text/plain": [
       "[('Hello', 1),\n",
       " ('World', 1),\n",
       " ('Hello', 1),\n",
       " ('Spark', 1),\n",
       " ('Hello', 1),\n",
       " ('pySpark', 1),\n",
       " ('Spark', 1),\n",
       " ('is', 1),\n",
       " ('fast', 1),\n",
       " ('Spark', 1),\n",
       " ('is', 1),\n",
       " ('awesome', 1)]"
      ]
     },
     "execution_count": 6,
     "metadata": {},
     "output_type": "execute_result"
    }
   ],
   "source": [
    "#3. map: create a pair rdd (word,1) fro each word\n",
    "word_pair=words.map(lambda word:(word,1))\n",
    "word_pair.collect()"
   ]
  },
  {
   "cell_type": "code",
   "execution_count": 7,
   "id": "c3ecb27a-e8e4-4a8f-a22a-59299af0e60c",
   "metadata": {},
   "outputs": [
    {
     "name": "stderr",
     "output_type": "stream",
     "text": [
      "                                                                                \r"
     ]
    },
    {
     "data": {
      "text/plain": [
       "[('Hello', 3),\n",
       " ('World', 1),\n",
       " ('Spark', 3),\n",
       " ('pySpark', 1),\n",
       " ('is', 2),\n",
       " ('fast', 1),\n",
       " ('awesome', 1)]"
      ]
     },
     "execution_count": 7,
     "metadata": {},
     "output_type": "execute_result"
    }
   ],
   "source": [
    "#4. ReduceByKey: count the occurrence of each words\n",
    "word_counts=word_pair.reduceByKey(lambda a,b:a+b)\n",
    "word_counts.collect()"
   ]
  },
  {
   "cell_type": "code",
   "execution_count": 8,
   "id": "09dab09e-7037-47e3-bd85-b4d8a07ebcd2",
   "metadata": {},
   "outputs": [
    {
     "name": "stdout",
     "output_type": "stream",
     "text": [
      "Hello:3\n",
      "World:1\n",
      "Spark:3\n",
      "pySpark:1\n",
      "is:2\n",
      "fast:1\n",
      "awesome:1\n"
     ]
    }
   ],
   "source": [
    "#collect the resukt and print\n",
    "results=word_counts.collect()\n",
    "\n",
    "for word, count in results:\n",
    "    print(f\"{word}:{count}\")\n",
    "#stop the SparkContext\n",
    "# sc.stop()"
   ]
  },
  {
   "cell_type": "markdown",
   "id": "3f53e7e0-e40a-42ab-adef-5950797e5f65",
   "metadata": {},
   "source": [
    "### Filter Even numbers from sample data"
   ]
  },
  {
   "cell_type": "code",
   "execution_count": 9,
   "id": "3c1eec25-51fe-426a-b3a0-f48a6c37916c",
   "metadata": {},
   "outputs": [
    {
     "name": "stdout",
     "output_type": "stream",
     "text": [
      "[1, 2, 3, 4, 5, 6, 7, 8, 9, 10]\n",
      "Even Numbers: [2, 4, 6, 8, 10]\n"
     ]
    }
   ],
   "source": [
    "#sample data\n",
    "numbers=[1,2,3,4,5,6,7,8,9,10]\n",
    "\n",
    "#create an rdd from sample data\n",
    "rdd_1=sc.parallelize(numbers)\n",
    "print(rdd_1.collect())\n",
    "\n",
    "#filter even numbers\n",
    "even_numbers=rdd_1.filter(lambda x:x%2==0)\n",
    "\n",
    "#collect the results and print\n",
    "result=even_numbers.collect()\n",
    "print(\"Even Numbers:\",result)"
   ]
  },
  {
   "cell_type": "markdown",
   "id": "3149e6fb-b22d-4b46-8cbf-5b3c55b8253a",
   "metadata": {},
   "source": [
    "### filter words which starts with 'S'"
   ]
  },
  {
   "cell_type": "code",
   "execution_count": 12,
   "id": "d8be75b6-0566-428e-80c6-e1eb23b52ec5",
   "metadata": {},
   "outputs": [
    {
     "name": "stdout",
     "output_type": "stream",
     "text": [
      "No. of words starting with s: 3\n"
     ]
    }
   ],
   "source": [
    "sentences=[\n",
    "    'Hello World',\n",
    "    'Hello Spark',\n",
    "    'Hello pySpark',\n",
    "    'Spark is fast',\n",
    "    'Spark is awesome'\n",
    "]\n",
    "\n",
    "#create a RDD from data samole\n",
    "rdd_3=sc.parallelize(sentences)\n",
    "\n",
    "#1. flatMap():split each line into word\n",
    "word_3=rdd_3.flatMap(lambda line:line.split(\" \"))\n",
    "# print(word_3.collect())\n",
    "# filter words which starts with 'S'\n",
    "words_starts_with_s=word_3.filter(lambda w:w.startswith(\"H\"))\n",
    "#count the words\n",
    "ans=words_starts_with_s.count()\n",
    "print(\"No. of words starting with s:\",ans)"
   ]
  },
  {
   "cell_type": "code",
   "execution_count": 13,
   "id": "ac9153da-fcf0-4c7b-ba97-86d5a53094d2",
   "metadata": {},
   "outputs": [
    {
     "data": {
      "text/plain": [
       "b'(1) PythonRDD[13] at RDD at PythonRDD.scala:53 []\\n |  ParallelCollectionRDD[11] at readRDDFromFile at PythonRDD.scala:274 []'"
      ]
     },
     "execution_count": 13,
     "metadata": {},
     "output_type": "execute_result"
    }
   ],
   "source": [
    "#It shows the lineage\n",
    "words_starts_with_s.toDebugString()"
   ]
  },
  {
   "cell_type": "code",
   "execution_count": 14,
   "id": "ad5bbd42-1e97-470e-9a23-c657efe57a5a",
   "metadata": {},
   "outputs": [
    {
     "name": "stdout",
     "output_type": "stream",
     "text": [
      "1\n"
     ]
    }
   ],
   "source": [
    "#to get no. of partitions\n",
    "print(rdd_3.getNumPartitions())"
   ]
  },
  {
   "cell_type": "code",
   "execution_count": null,
   "id": "10a80f0f-02e7-40e1-843f-faa78af64b57",
   "metadata": {},
   "outputs": [],
   "source": []
  }
 ],
 "metadata": {
  "kernelspec": {
   "display_name": "Python 3 (ipykernel)",
   "language": "python",
   "name": "python3"
  },
  "language_info": {
   "codemirror_mode": {
    "name": "ipython",
    "version": 3
   },
   "file_extension": ".py",
   "mimetype": "text/x-python",
   "name": "python",
   "nbconvert_exporter": "python",
   "pygments_lexer": "ipython3",
   "version": "3.9.13"
  }
 },
 "nbformat": 4,
 "nbformat_minor": 5
}
