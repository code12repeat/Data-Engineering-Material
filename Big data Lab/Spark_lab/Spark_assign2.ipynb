{
 "cells": [
  {
   "cell_type": "code",
   "execution_count": 1,
   "id": "d9ec347b-14cb-4895-8093-a5c95a29f3e6",
   "metadata": {},
   "outputs": [],
   "source": [
    "from pyspark.sql import SparkSession\n",
    "import pandas as pd"
   ]
  },
  {
   "cell_type": "code",
   "execution_count": 2,
   "id": "bdff534d-1515-4d23-9d9e-39976bf98cb6",
   "metadata": {},
   "outputs": [
    {
     "name": "stderr",
     "output_type": "stream",
     "text": [
      "2024-09-03 04:14:42,735 WARN util.NativeCodeLoader: Unable to load native-hadoop library for your platform... using builtin-java classes where applicable\n",
      "Setting default log level to \"WARN\".\n",
      "To adjust logging level use sc.setLogLevel(newLevel). For SparkR, use setLogLevel(newLevel).\n",
      "2024-09-03 04:14:43,425 WARN util.Utils: Service 'SparkUI' could not bind on port 4040. Attempting port 4041.\n",
      "2024-09-03 04:14:43,426 WARN util.Utils: Service 'SparkUI' could not bind on port 4041. Attempting port 4042.\n",
      "2024-09-03 04:14:44,071 WARN yarn.Client: Neither spark.yarn.jars nor spark.yarn.archive is set, falling back to uploading libraries under SPARK_HOME.\n"
     ]
    }
   ],
   "source": [
    "spark = SparkSession.builder.appName(\"DataFrameExample\").getOrCreate()"
   ]
  },
  {
   "cell_type": "code",
   "execution_count": 6,
   "id": "897bc4ed-72c2-41f5-81be-4c7bcfa4de01",
   "metadata": {},
   "outputs": [
    {
     "data": {
      "text/html": [
       "<div>\n",
       "<style scoped>\n",
       "    .dataframe tbody tr th:only-of-type {\n",
       "        vertical-align: middle;\n",
       "    }\n",
       "\n",
       "    .dataframe tbody tr th {\n",
       "        vertical-align: top;\n",
       "    }\n",
       "\n",
       "    .dataframe thead th {\n",
       "        text-align: right;\n",
       "    }\n",
       "</style>\n",
       "<table border=\"1\" class=\"dataframe\">\n",
       "  <thead>\n",
       "    <tr style=\"text-align: right;\">\n",
       "      <th></th>\n",
       "      <th>movie_id</th>\n",
       "      <th>title</th>\n",
       "      <th>director</th>\n",
       "      <th>genre</th>\n",
       "      <th>release_year</th>\n",
       "      <th>rental_status</th>\n",
       "    </tr>\n",
       "  </thead>\n",
       "  <tbody>\n",
       "    <tr>\n",
       "      <th>0</th>\n",
       "      <td>1</td>\n",
       "      <td>Inception</td>\n",
       "      <td>Christopher Nolan</td>\n",
       "      <td>Sci-Fi</td>\n",
       "      <td>2010</td>\n",
       "      <td>available</td>\n",
       "    </tr>\n",
       "    <tr>\n",
       "      <th>1</th>\n",
       "      <td>2</td>\n",
       "      <td>The Dark Knight</td>\n",
       "      <td>Christopher Nolan</td>\n",
       "      <td>Action</td>\n",
       "      <td>2008</td>\n",
       "      <td>rented</td>\n",
       "    </tr>\n",
       "    <tr>\n",
       "      <th>2</th>\n",
       "      <td>3</td>\n",
       "      <td>Interstellar</td>\n",
       "      <td>Christopher Nolan</td>\n",
       "      <td>Sci-Fi</td>\n",
       "      <td>2014</td>\n",
       "      <td>available</td>\n",
       "    </tr>\n",
       "    <tr>\n",
       "      <th>3</th>\n",
       "      <td>4</td>\n",
       "      <td>The Matrix</td>\n",
       "      <td>Lana Wachowski</td>\n",
       "      <td>Sci-Fi</td>\n",
       "      <td>1999</td>\n",
       "      <td>available</td>\n",
       "    </tr>\n",
       "    <tr>\n",
       "      <th>4</th>\n",
       "      <td>5</td>\n",
       "      <td>The Godfather</td>\n",
       "      <td>Francis Ford Coppola</td>\n",
       "      <td>Crime</td>\n",
       "      <td>1972</td>\n",
       "      <td>rented</td>\n",
       "    </tr>\n",
       "    <tr>\n",
       "      <th>5</th>\n",
       "      <td>6</td>\n",
       "      <td>Pulp Fiction</td>\n",
       "      <td>Quentin Tarantino</td>\n",
       "      <td>Crime</td>\n",
       "      <td>1994</td>\n",
       "      <td>available</td>\n",
       "    </tr>\n",
       "    <tr>\n",
       "      <th>6</th>\n",
       "      <td>7</td>\n",
       "      <td>The Shawshank Redemption</td>\n",
       "      <td>Frank Darabont</td>\n",
       "      <td>Drama</td>\n",
       "      <td>1994</td>\n",
       "      <td>rented</td>\n",
       "    </tr>\n",
       "    <tr>\n",
       "      <th>7</th>\n",
       "      <td>8</td>\n",
       "      <td>The Social Network</td>\n",
       "      <td>David Fincher</td>\n",
       "      <td>Biography</td>\n",
       "      <td>2010</td>\n",
       "      <td>available</td>\n",
       "    </tr>\n",
       "    <tr>\n",
       "      <th>8</th>\n",
       "      <td>9</td>\n",
       "      <td>Fight Club</td>\n",
       "      <td>David Fincher</td>\n",
       "      <td>Drama</td>\n",
       "      <td>1999</td>\n",
       "      <td>rented</td>\n",
       "    </tr>\n",
       "    <tr>\n",
       "      <th>9</th>\n",
       "      <td>10</td>\n",
       "      <td>Django Unchained</td>\n",
       "      <td>Quentin Tarantino</td>\n",
       "      <td>Western</td>\n",
       "      <td>2012</td>\n",
       "      <td>available</td>\n",
       "    </tr>\n",
       "  </tbody>\n",
       "</table>\n",
       "</div>"
      ],
      "text/plain": [
       "   movie_id                     title              director      genre  \\\n",
       "0         1                 Inception     Christopher Nolan     Sci-Fi   \n",
       "1         2           The Dark Knight     Christopher Nolan     Action   \n",
       "2         3              Interstellar     Christopher Nolan     Sci-Fi   \n",
       "3         4                The Matrix        Lana Wachowski     Sci-Fi   \n",
       "4         5             The Godfather  Francis Ford Coppola      Crime   \n",
       "5         6              Pulp Fiction     Quentin Tarantino      Crime   \n",
       "6         7  The Shawshank Redemption        Frank Darabont      Drama   \n",
       "7         8        The Social Network         David Fincher  Biography   \n",
       "8         9                Fight Club         David Fincher      Drama   \n",
       "9        10          Django Unchained     Quentin Tarantino    Western   \n",
       "\n",
       "   release_year rental_status  \n",
       "0          2010     available  \n",
       "1          2008        rented  \n",
       "2          2014     available  \n",
       "3          1999     available  \n",
       "4          1972        rented  \n",
       "5          1994     available  \n",
       "6          1994        rented  \n",
       "7          2010     available  \n",
       "8          1999        rented  \n",
       "9          2012     available  "
      ]
     },
     "execution_count": 6,
     "metadata": {},
     "output_type": "execute_result"
    }
   ],
   "source": [
    "df=pd.read_csv('movies.csv')\n",
    "df"
   ]
  },
  {
   "cell_type": "code",
   "execution_count": 10,
   "id": "91fe96c9-8123-4405-919f-4b3cf4f54869",
   "metadata": {},
   "outputs": [
    {
     "name": "stdout",
     "output_type": "stream",
     "text": [
      "+--------+--------------------+--------------------+---------+------------+-------------+\n",
      "|movie_id|               title|            director|    genre|release_year|rental_status|\n",
      "+--------+--------------------+--------------------+---------+------------+-------------+\n",
      "|       1|           Inception|   Christopher Nolan|   Sci-Fi|        2010|    available|\n",
      "|       2|     The Dark Knight|   Christopher Nolan|   Action|        2008|       rented|\n",
      "|       3|        Interstellar|   Christopher Nolan|   Sci-Fi|        2014|    available|\n",
      "|       4|          The Matrix|      Lana Wachowski|   Sci-Fi|        1999|    available|\n",
      "|       5|       The Godfather|Francis Ford Coppola|    Crime|        1972|       rented|\n",
      "|       6|        Pulp Fiction|   Quentin Tarantino|    Crime|        1994|    available|\n",
      "|       7|The Shawshank Red...|      Frank Darabont|    Drama|        1994|       rented|\n",
      "|       8|  The Social Network|       David Fincher|Biography|        2010|    available|\n",
      "|       9|          Fight Club|       David Fincher|    Drama|        1999|       rented|\n",
      "|      10|    Django Unchained|   Quentin Tarantino|  Western|        2012|    available|\n",
      "+--------+--------------------+--------------------+---------+------------+-------------+\n",
      "\n"
     ]
    }
   ],
   "source": [
    "spark_df=spark.createDataFrame(df)##it will create pandas df into spark df\n",
    "spark_df.show()"
   ]
  },
  {
   "cell_type": "markdown",
   "id": "df8dc05d-daf5-489b-92e0-57b4a80201ee",
   "metadata": {},
   "source": [
    "#### Count Total Movies:"
   ]
  },
  {
   "cell_type": "code",
   "execution_count": 8,
   "id": "de4fb1cf-b568-4c0a-aede-093513fab5e4",
   "metadata": {},
   "outputs": [
    {
     "name": "stderr",
     "output_type": "stream",
     "text": [
      "[Stage 0:>                                                          (0 + 8) / 8]\r"
     ]
    },
    {
     "name": "stdout",
     "output_type": "stream",
     "text": [
      "10\n"
     ]
    },
    {
     "name": "stderr",
     "output_type": "stream",
     "text": [
      "                                                                                \r"
     ]
    }
   ],
   "source": [
    "movies_count=spark_df.count()\n",
    "print(movies_count)"
   ]
  },
  {
   "cell_type": "markdown",
   "id": "68fd2d78-ea75-49e6-b31c-27ab524f68dd",
   "metadata": {},
   "source": [
    "#### Search Movies by Director:"
   ]
  },
  {
   "cell_type": "code",
   "execution_count": 11,
   "id": "8fc97eb6-af3e-4516-897d-e3ca7c6d98df",
   "metadata": {},
   "outputs": [
    {
     "name": "stdout",
     "output_type": "stream",
     "text": [
      "+--------+---------------+-----------------+------+------------+-------------+\n",
      "|movie_id|          title|         director| genre|release_year|rental_status|\n",
      "+--------+---------------+-----------------+------+------------+-------------+\n",
      "|       1|      Inception|Christopher Nolan|Sci-Fi|        2010|    available|\n",
      "|       2|The Dark Knight|Christopher Nolan|Action|        2008|       rented|\n",
      "|       3|   Interstellar|Christopher Nolan|Sci-Fi|        2014|    available|\n",
      "+--------+---------------+-----------------+------+------------+-------------+\n",
      "\n"
     ]
    }
   ],
   "source": [
    "movie_by_dir=spark_df.filter(spark_df.director=='Christopher Nolan')\n",
    "movie_by_dir.show()"
   ]
  },
  {
   "cell_type": "markdown",
   "id": "56bfe5fa-60c8-4141-bf93-a02bc6abeab2",
   "metadata": {},
   "source": [
    "#### Write a function to update the rental_status of a specific movie by its movie_id.\n"
   ]
  },
  {
   "cell_type": "code",
   "execution_count": 12,
   "id": "210dabd2-6ed2-45a0-b75b-cc4ccad61bda",
   "metadata": {},
   "outputs": [
    {
     "name": "stdout",
     "output_type": "stream",
     "text": [
      "+--------+--------------------+--------------------+---------+------------+-------------+\n",
      "|movie_id|               title|            director|    genre|release_year|rental_status|\n",
      "+--------+--------------------+--------------------+---------+------------+-------------+\n",
      "|       1|           Inception|   Christopher Nolan|   Sci-Fi|        2010|    available|\n",
      "|       2|     The Dark Knight|   Christopher Nolan|   Action|        2008| not released|\n",
      "|       3|        Interstellar|   Christopher Nolan|   Sci-Fi|        2014|    available|\n",
      "|       4|          The Matrix|      Lana Wachowski|   Sci-Fi|        1999|    available|\n",
      "|       5|       The Godfather|Francis Ford Coppola|    Crime|        1972|       rented|\n",
      "|       6|        Pulp Fiction|   Quentin Tarantino|    Crime|        1994|    available|\n",
      "|       7|The Shawshank Red...|      Frank Darabont|    Drama|        1994|       rented|\n",
      "|       8|  The Social Network|       David Fincher|Biography|        2010|    available|\n",
      "|       9|          Fight Club|       David Fincher|    Drama|        1999|       rented|\n",
      "|      10|    Django Unchained|   Quentin Tarantino|  Western|        2012|    available|\n",
      "+--------+--------------------+--------------------+---------+------------+-------------+\n",
      "\n"
     ]
    }
   ],
   "source": [
    "from pyspark.sql.functions import when\n",
    "df_updated = spark_df.withColumn(\n",
    "    \"rental_status\",\n",
    "    when(spark_df[\"movie_id\"] == 2, \"not released\").otherwise(spark_df[\"rental_status\"])\n",
    ")\n",
    "df_updated.show()"
   ]
  },
  {
   "cell_type": "markdown",
   "id": "26731848-5336-4f46-9eb8-4efd0c44c520",
   "metadata": {},
   "source": [
    "#### Write a function to list all movies released in a specified year."
   ]
  },
  {
   "cell_type": "code",
   "execution_count": 13,
   "id": "2496161e-8172-4570-8cb7-a79ad4e11301",
   "metadata": {},
   "outputs": [
    {
     "name": "stdout",
     "output_type": "stream",
     "text": [
      "+--------+--------------------+-----------------+-----+------------+-------------+\n",
      "|movie_id|               title|         director|genre|release_year|rental_status|\n",
      "+--------+--------------------+-----------------+-----+------------+-------------+\n",
      "|       6|        Pulp Fiction|Quentin Tarantino|Crime|        1994|    available|\n",
      "|       7|The Shawshank Red...|   Frank Darabont|Drama|        1994|       rented|\n",
      "+--------+--------------------+-----------------+-----+------------+-------------+\n",
      "\n"
     ]
    }
   ],
   "source": [
    "movie_filtered=spark_df.filter(spark_df.release_year==1994)\n",
    "movie_filtered.show()"
   ]
  },
  {
   "cell_type": "code",
   "execution_count": null,
   "id": "35419a13-99f6-44e8-80f5-52ef66f2d2fa",
   "metadata": {},
   "outputs": [],
   "source": [
    "spark_df.write.mode('append').saveAsTable('spark_table')"
   ]
  },
  {
   "cell_type": "code",
   "execution_count": 15,
   "id": "c2b514f6-ce50-4f39-bc37-8c394023cc6d",
   "metadata": {},
   "outputs": [
    {
     "ename": "AttributeError",
     "evalue": "'SparkSession' object has no attribute 'close'",
     "output_type": "error",
     "traceback": [
      "\u001b[0;31m---------------------------------------------------------------------------\u001b[0m",
      "\u001b[0;31mAttributeError\u001b[0m                            Traceback (most recent call last)",
      "\u001b[0;32m/tmp/ipykernel_169967/3202606353.py\u001b[0m in \u001b[0;36m<module>\u001b[0;34m\u001b[0m\n\u001b[0;32m----> 1\u001b[0;31m \u001b[0mspark\u001b[0m\u001b[0;34m.\u001b[0m\u001b[0mclose\u001b[0m\u001b[0;34m(\u001b[0m\u001b[0;34m)\u001b[0m\u001b[0;34m\u001b[0m\u001b[0;34m\u001b[0m\u001b[0m\n\u001b[0m",
      "\u001b[0;31mAttributeError\u001b[0m: 'SparkSession' object has no attribute 'close'"
     ]
    }
   ],
   "source": [
    "spark.close()"
   ]
  },
  {
   "cell_type": "code",
   "execution_count": null,
   "id": "01ededa6-d69f-4872-b583-df88e3c25638",
   "metadata": {},
   "outputs": [],
   "source": []
  }
 ],
 "metadata": {
  "kernelspec": {
   "display_name": "Python 3 (ipykernel)",
   "language": "python",
   "name": "python3"
  },
  "language_info": {
   "codemirror_mode": {
    "name": "ipython",
    "version": 3
   },
   "file_extension": ".py",
   "mimetype": "text/x-python",
   "name": "python",
   "nbconvert_exporter": "python",
   "pygments_lexer": "ipython3",
   "version": "3.9.13"
  }
 },
 "nbformat": 4,
 "nbformat_minor": 5
}
