{
 "cells": [
  {
   "cell_type": "code",
   "execution_count": 1,
   "id": "ef429ae5-d21b-4052-9d2c-f7d5c393a2c5",
   "metadata": {},
   "outputs": [],
   "source": [
    "from pyspark.sql import SparkSession"
   ]
  },
  {
   "cell_type": "code",
   "execution_count": null,
   "id": "33de4bf5-1112-42b1-a4fb-f1f40bd0d3f2",
   "metadata": {},
   "outputs": [],
   "source": [
    "spark = SparkSession.builder \\\n",
    "    .appName(\"HiveConnectionCheck\") \\\n",
    "    .config(\"spark.sql.catalogImplementation\",\"hive\") \\\n",
    "    .enableHiveSupport() \\\n",
    "    .getOrCreate()"
   ]
  },
  {
   "cell_type": "code",
   "execution_count": null,
   "id": "60e48853-d792-494f-ba9f-91287ace0f33",
   "metadata": {},
   "outputs": [],
   "source": [
    "#show all tables in the default databases\n",
    "spark.sql(\"SHOW DATABASES\").show()"
   ]
  },
  {
   "cell_type": "code",
   "execution_count": 36,
   "id": "3cf891a4-83d3-4a9e-be05-33c87bb72b89",
   "metadata": {},
   "outputs": [
    {
     "name": "stdout",
     "output_type": "stream",
     "text": [
      "+--------+---------+-----------+\n",
      "|database|tableName|isTemporary|\n",
      "+--------+---------+-----------+\n",
      "+--------+---------+-----------+\n",
      "\n"
     ]
    }
   ],
   "source": [
    "spark.sql(\"SHOW TABLES\").show()"
   ]
  },
  {
   "cell_type": "markdown",
   "id": "d08ebf57-d57b-42e9-9287-ff25c6e6dd84",
   "metadata": {},
   "source": [
    "### creating pandas dataframe then spark datafram -> store table into hive -> perform spark sql"
   ]
  },
  {
   "cell_type": "code",
   "execution_count": 37,
   "id": "e44b0abf-eecb-4056-9423-e6a3b54901a3",
   "metadata": {},
   "outputs": [
    {
     "name": "stdout",
     "output_type": "stream",
     "text": [
      "+---------+\n",
      "|namespace|\n",
      "+---------+\n",
      "|  db_1234|\n",
      "|  db_9044|\n",
      "|  default|\n",
      "+---------+\n",
      "\n"
     ]
    }
   ],
   "source": [
    "#create database\n",
    "# spark.sql(\"CREATE DATABASE db_9044\")\n",
    "spark.sql(\"SHOW DATABASES\").show()"
   ]
  },
  {
   "cell_type": "code",
   "execution_count": null,
   "id": "981f6921-b49b-4022-bf76-949d5cf78158",
   "metadata": {},
   "outputs": [],
   "source": [
    "\n",
    "spark.sql(\"\"\" CREATE TABLE db_9044.emp_9044(name STRING,\n",
    "age INT,\n",
    "salary DOUBLE)\n",
    "USING parquet\n",
    "\"\"\")\n",
    "spark.sql(\"DESCRIBE FORMATTED db_9044.emp_9044\").show(truncate=False)"
   ]
  },
  {
   "cell_type": "code",
   "execution_count": 38,
   "id": "575b8b6b-4b39-4fdb-8aab-cd0aebfd557c",
   "metadata": {},
   "outputs": [
    {
     "name": "stdout",
     "output_type": "stream",
     "text": [
      "+----+---+------+\n",
      "|name|age|salary|\n",
      "+----+---+------+\n",
      "+----+---+------+\n",
      "\n"
     ]
    }
   ],
   "source": [
    "spark.sql('select * from db_9044.emp_9044').show()"
   ]
  },
  {
   "cell_type": "code",
   "execution_count": 39,
   "id": "b33109f7-d75f-4f72-a1af-6b1c0b2f5331",
   "metadata": {},
   "outputs": [
    {
     "name": "stdout",
     "output_type": "stream",
     "text": [
      "+---+-----+---+\n",
      "| id| name|age|\n",
      "+---+-----+---+\n",
      "|  1|  ram| 21|\n",
      "|  2|arjun| 23|\n",
      "|  3| john| 34|\n",
      "|  4|  doe| 15|\n",
      "+---+-----+---+\n",
      "\n"
     ]
    }
   ],
   "source": [
    "import pandas as pd\n",
    "data={\n",
    "    'id':[1,2,3,4],\n",
    "    'name':[\"ram\",\"arjun\",\"john\",\"doe\"],\n",
    "    'age':[21,23,34,15]\n",
    "}\n",
    "df=pd.DataFrame(data)\n",
    "spark_df=spark.createDataFrame(df)\n",
    "spark_df.show()\n"
   ]
  },
  {
   "cell_type": "code",
   "execution_count": 40,
   "id": "c650b453-6cc6-4e2e-b49e-1b323b299abe",
   "metadata": {},
   "outputs": [],
   "source": [
    "#create table into hive\n",
    "spark_df.write.mode('overwrite').saveAsTable('db_9044.table_9044')"
   ]
  },
  {
   "cell_type": "code",
   "execution_count": 41,
   "id": "64f0ddf3-c8c2-482c-bd49-6f49ee1848f4",
   "metadata": {},
   "outputs": [
    {
     "name": "stdout",
     "output_type": "stream",
     "text": [
      "+---+-----+---+\n",
      "| id| name|age|\n",
      "+---+-----+---+\n",
      "|  2|arjun| 23|\n",
      "|  3| john| 34|\n",
      "|  4|  doe| 15|\n",
      "|  1|  ram| 21|\n",
      "+---+-----+---+\n",
      "\n"
     ]
    }
   ],
   "source": [
    "spark.sql('select * from db_9044.table_9044').show()"
   ]
  },
  {
   "cell_type": "code",
   "execution_count": 42,
   "id": "d2d76251-7c6c-4d74-b965-7eaf05d8ae11",
   "metadata": {},
   "outputs": [
    {
     "name": "stdout",
     "output_type": "stream",
     "text": [
      "+---+-----+---+\n",
      "| id| name|age|\n",
      "+---+-----+---+\n",
      "|  2|arjun| 23|\n",
      "|  4|  doe| 15|\n",
      "+---+-----+---+\n",
      "\n"
     ]
    }
   ],
   "source": [
    "spark.sql('select * from db_9044.table_9044 where id%2=0').show()"
   ]
  },
  {
   "cell_type": "code",
   "execution_count": 43,
   "id": "cf858404-f0c9-49b8-a0f6-bcbb9bf5356f",
   "metadata": {},
   "outputs": [
    {
     "name": "stdout",
     "output_type": "stream",
     "text": [
      "+---+----+---+\n",
      "| id|name|age|\n",
      "+---+----+---+\n",
      "|  3|john| 34|\n",
      "|  1| ram| 21|\n",
      "+---+----+---+\n",
      "\n"
     ]
    }
   ],
   "source": [
    "spark.sql('select *from db_9044.table_9044 where id%2=1').show()"
   ]
  },
  {
   "cell_type": "code",
   "execution_count": 44,
   "id": "46e620c1-a236-4bc2-b972-a12721b3eb6f",
   "metadata": {},
   "outputs": [
    {
     "name": "stdout",
     "output_type": "stream",
     "text": [
      "+---------+-------+----+-----------+------------+\n",
      "|hard disk|  model| ram|screen size|        type|\n",
      "+---------+-------+----+-----------+------------+\n",
      "|     null|platina|null|        5.6|mobile phone|\n",
      "|     null|   bn20|null|        6.2|mobile phone|\n",
      "|     null|     cz|null|        6.6|mobile phone|\n",
      "|     null|   xm23|null|        6.5|mobile phone|\n",
      "|     null|     c3|null|        5.5|mobile phone|\n",
      "|     null|    pk2|null|        6.5|mobile phone|\n",
      "|     null|platina|null|        5.0|mobile phone|\n",
      "|     null|   xm23|null|        5.0|mobile phone|\n",
      "|     null|     k9|null|        6.5|mobile phone|\n",
      "|     null|    c12|null|        6.5|mobile phone|\n",
      "|     null|     k9|null|        5.0|mobile phone|\n",
      "|     null|platina|null|        6.5|mobile phone|\n",
      "|     null|   xm23|null|        5.5|mobile phone|\n",
      "|     null|   bn20|null|        6.5|mobile phone|\n",
      "|     null|    pk2|null|        6.1|mobile phone|\n",
      "|     null|     c3|null|        6.0|mobile phone|\n",
      "|     null|   bn20|null|        6.0|mobile phone|\n",
      "|     null|    pk2|null|        6.5|mobile phone|\n",
      "|     null|    c12|null|        6.0|mobile phone|\n",
      "|     null|     k9|null|        5.3|mobile phone|\n",
      "+---------+-------+----+-----------+------------+\n",
      "only showing top 20 rows\n",
      "\n"
     ]
    }
   ],
   "source": [
    "#create data frame of Person.json\n",
    "p_df=spark.read.json('gadgets.json')\n",
    "p_df.show()"
   ]
  },
  {
   "cell_type": "code",
   "execution_count": 46,
   "id": "c31ab015-b533-4b0b-b1a8-fc3492fe66dd",
   "metadata": {},
   "outputs": [
    {
     "name": "stdout",
     "output_type": "stream",
     "text": [
      "root\n",
      " |-- age: long (nullable = true)\n",
      " |-- company: struct (nullable = true)\n",
      " |    |-- email: string (nullable = true)\n",
      " |    |-- location: struct (nullable = true)\n",
      " |    |    |-- address: string (nullable = true)\n",
      " |    |    |-- country: string (nullable = true)\n",
      " |    |-- phone: string (nullable = true)\n",
      " |    |-- title: string (nullable = true)\n",
      " |-- eyeColor: string (nullable = true)\n",
      " |-- favouriteFruit: string (nullable = true)\n",
      " |-- gender: string (nullable = true)\n",
      " |-- index: long (nullable = true)\n",
      " |-- isActive: boolean (nullable = true)\n",
      " |-- name: string (nullable = true)\n",
      " |-- tags: array (nullable = true)\n",
      " |    |-- element: string (containsNull = true)\n",
      "\n"
     ]
    }
   ],
   "source": [
    "sp_df = spark.read.option(\"multiline\",True).json(\"Person.json\")\n",
    "sp_df.printSchema()"
   ]
  },
  {
   "cell_type": "code",
   "execution_count": null,
   "id": "a437750f-e61d-4895-8778-a444d856a9e2",
   "metadata": {},
   "outputs": [],
   "source": []
  }
 ],
 "metadata": {
  "kernelspec": {
   "display_name": "Python 3 (ipykernel)",
   "language": "python",
   "name": "python3"
  },
  "language_info": {
   "codemirror_mode": {
    "name": "ipython",
    "version": 3
   },
   "file_extension": ".py",
   "mimetype": "text/x-python",
   "name": "python",
   "nbconvert_exporter": "python",
   "pygments_lexer": "ipython3",
   "version": "3.9.13"
  }
 },
 "nbformat": 4,
 "nbformat_minor": 5
}
