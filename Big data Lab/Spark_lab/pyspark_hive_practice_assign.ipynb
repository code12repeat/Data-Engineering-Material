{
 "cells": [
  {
   "cell_type": "code",
   "execution_count": 1,
   "id": "e4550318-33ad-4cbe-98f5-7e38aa1cdf2b",
   "metadata": {},
   "outputs": [],
   "source": [
    "import pandas as pd\n",
    "from pyspark.sql import SparkSession"
   ]
  },
  {
   "cell_type": "code",
   "execution_count": 2,
   "id": "cfeac777-3459-4fa9-ab52-77ec4ad9e78c",
   "metadata": {},
   "outputs": [
    {
     "name": "stderr",
     "output_type": "stream",
     "text": [
      "2024-09-05 09:50:47,873 WARN util.NativeCodeLoader: Unable to load native-hadoop library for your platform... using builtin-java classes where applicable\n",
      "Setting default log level to \"WARN\".\n",
      "To adjust logging level use sc.setLogLevel(newLevel). For SparkR, use setLogLevel(newLevel).\n",
      "2024-09-05 09:50:48,657 WARN util.Utils: Service 'SparkUI' could not bind on port 4040. Attempting port 4041.\n",
      "2024-09-05 09:50:48,657 WARN util.Utils: Service 'SparkUI' could not bind on port 4041. Attempting port 4042.\n",
      "2024-09-05 09:50:48,657 WARN util.Utils: Service 'SparkUI' could not bind on port 4042. Attempting port 4043.\n",
      "2024-09-05 09:50:48,657 WARN util.Utils: Service 'SparkUI' could not bind on port 4043. Attempting port 4044.\n",
      "2024-09-05 09:50:48,658 WARN util.Utils: Service 'SparkUI' could not bind on port 4044. Attempting port 4045.\n",
      "2024-09-05 09:50:48,658 WARN util.Utils: Service 'SparkUI' could not bind on port 4045. Attempting port 4046.\n",
      "2024-09-05 09:50:49,304 WARN yarn.Client: Neither spark.yarn.jars nor spark.yarn.archive is set, falling back to uploading libraries under SPARK_HOME.\n"
     ]
    }
   ],
   "source": [
    "# spark = SparkSession.builder \\\n",
    "#     .appName(\"HiveConnectionCheck\") \\\n",
    "#     .config(\"spark.sql.catalogImplementation\",\"hive\") \\\n",
    "#     .enableHiveSupport() \\\n",
    "#     .getOrCreate()\n",
    "spark = SparkSession.builder.appName(\"DataFrameExample\").getOrCreate()"
   ]
  },
  {
   "cell_type": "code",
   "execution_count": 3,
   "id": "a49bdeec-9581-4344-89db-c82f5cd74adb",
   "metadata": {},
   "outputs": [],
   "source": [
    "from sqlalchemy.engine import create_engine\n",
    "import pandas as pd\n",
    "\n",
    "host='localhost' #Since hive is running localy\n",
    "port=10000 # Default port for HiveServer2\n",
    "username='maneelcha49dgre'\n",
    "database='employee_1'\n",
    "\n",
    "connection_string=f'hive://{username}@{host}:{port}/{database}'\n",
    "\n",
    "engine=create_engine(connection_string)"
   ]
  },
  {
   "cell_type": "markdown",
   "id": "6dd1c7c7-ec27-444b-84cc-aa43a56e8b87",
   "metadata": {},
   "source": [
    "### create table schema for cust_dimen"
   ]
  },
  {
   "cell_type": "code",
   "execution_count": 4,
   "id": "265935a8-f1ee-4200-b0ea-e8ecfc6ceb58",
   "metadata": {},
   "outputs": [],
   "source": [
    "# with engine.connect() as connection:\n",
    "#     create_table=\"\"\"\n",
    "#     create table if not exists custTable (\n",
    "#     Customer_Name string,\n",
    "#     Province string,\n",
    "#     Region string,\n",
    "#     Customer_Segment string,\n",
    "#     Cust_id string\n",
    "#     )\n",
    "#     ROW FORMAT DELIMITED \n",
    "#     FIELDS TERMINATED BY ','\n",
    "#     STORED AS TEXTFILE\n",
    "#     TBLPROPERTIES(\"skip.header.line.count\"=\"1\")\n",
    "#     \"\"\"\n",
    "#     connection.execute(create_table)\n",
    "# print(\"Table created\")\n",
    "    "
   ]
  },
  {
   "cell_type": "code",
   "execution_count": 5,
   "id": "7c90dea5-80c9-4fe2-9479-1edb7240feee",
   "metadata": {},
   "outputs": [],
   "source": [
    "# load_file=\"load data inpath '/user/maneelcha49dgre/review_file1/cust_dimen.csv' into table custTable\"\n",
    "# with engine.connect() as connection:\n",
    "#     connection.execute(load_file)\n",
    "# print('Successfully loaded')"
   ]
  },
  {
   "cell_type": "markdown",
   "id": "3336c786-3253-4ea6-a45a-3d40c85d1e83",
   "metadata": {},
   "source": [
    "### create table schema for Product_dimen"
   ]
  },
  {
   "cell_type": "code",
   "execution_count": 6,
   "id": "f16aee06-bfd2-49b0-b4f9-54be164b35e2",
   "metadata": {},
   "outputs": [],
   "source": [
    "# with engine.connect() as connection:\n",
    "#     create_table_prod=\"\"\"\n",
    "#     create table if not exists prodTable (\n",
    "#     Product_category string,\n",
    "#     Product_Sub_Category string,\n",
    "#     Prod_id string\n",
    "#     )\n",
    "#     ROW FORMAT DELIMITED \n",
    "#     FIELDS TERMINATED BY ','\n",
    "#     STORED AS TEXTFILE\n",
    "#     TBLPROPERTIES(\"skip.header.line.count\"=\"1\")\n",
    "#     \"\"\"\n",
    "#     connection.execute(create_table_prod)\n",
    "# print(\"prodTable created\")"
   ]
  },
  {
   "cell_type": "code",
   "execution_count": 7,
   "id": "65984c42-3a11-45dd-9278-495a8172ae15",
   "metadata": {},
   "outputs": [],
   "source": [
    "# load_file=\"load data inpath '/user/maneelcha49dgre/review_file1/prod_dimen.csv' into table prodTable\"\n",
    "# with engine.connect() as connection:\n",
    "#     connection.execute(load_file)\n",
    "# print('Successfully loaded')"
   ]
  },
  {
   "cell_type": "markdown",
   "id": "cafc6b13-881a-4ed8-976e-2bd6bbb2a3ce",
   "metadata": {},
   "source": [
    "### create table schema for orders_dimen"
   ]
  },
  {
   "cell_type": "code",
   "execution_count": 8,
   "id": "d9db5f35-cb34-457e-944f-b20a55b6517b",
   "metadata": {},
   "outputs": [],
   "source": [
    "# with engine.connect() as connection:\n",
    "#     create_table_ord = \"\"\"\n",
    "#     CREATE TABLE ordTable(\n",
    "#     Order_ID INT,\n",
    "#     Order_Date STRING,\n",
    "#     Order_Priority STRING,\n",
    "#     Ord_id STRING\n",
    "#     )\n",
    "    # ROW FORMAT DELIMITED\n",
    "    # FIELDS TERMINATED BY ','\n",
    "    # STORED AS TEXTFILE\n",
    "    # TBLPROPERTIES (\"skip.header.line.count\" = \"1\")\n",
    "#     \"\"\"\n",
    "#     connection.execute(create_table_ord)\n",
    "# print(\"ordTable created\")"
   ]
  },
  {
   "cell_type": "code",
   "execution_count": 9,
   "id": "d52e6262-2949-4c87-9cf3-a8703fd6cdfe",
   "metadata": {},
   "outputs": [],
   "source": [
    "# load_file=\"load data inpath '/user/maneelcha49dgre/review_file1/orders_dimen.csv' into table ordTable\"\n",
    "# with engine.connect() as connection:\n",
    "#     connection.execute(load_file)\n",
    "# print('Successfully loaded')"
   ]
  },
  {
   "cell_type": "markdown",
   "id": "f63c9eaf-7333-4140-8729-c81fc1fe482e",
   "metadata": {},
   "source": [
    "### create table schema for market_dimen"
   ]
  },
  {
   "cell_type": "code",
   "execution_count": 10,
   "id": "402b2725-7dca-47a2-a160-a2f8aad20367",
   "metadata": {},
   "outputs": [],
   "source": [
    "# with engine.connect() as connection:\n",
    "#     create_table_market = \"\"\"\n",
    "#     CREATE TABLE marketTable(\n",
    "#     Ord_id STRING,\n",
    "#     Prod_id STRING,\n",
    "#     Ship_id STRING,\n",
    "#     Cust_id STRING,\n",
    "#     Sales DOUBLE,\n",
    "#     Discount DOUBLE,\n",
    "#     Order_Quantity INT,\n",
    "#     Profit DOUBLE,\n",
    "#     Shipping_Cost DOUBLE,\n",
    "#     Product_Base_Margin DOUBLE\n",
    "#     )\n",
    "#     ROW FORMAT DELIMITED\n",
    "#     FIELDS TERMINATED BY ','\n",
    "#     STORED AS TEXTFILE\n",
    "#     TBLPROPERTIES (\"skip.header.line.count\"=\"1\")\n",
    "#     \"\"\"\n",
    "#     connection.execute(create_table_market)\n",
    "# print(\"marketTable created\")"
   ]
  },
  {
   "cell_type": "code",
   "execution_count": 11,
   "id": "52bc784a-9425-4b99-b6a9-afc11a7ad0dc",
   "metadata": {},
   "outputs": [],
   "source": [
    "# load_file=\"load data inpath '/user/maneelcha49dgre/review_file1/market_fact.csv' into table marketTable\"\n",
    "# with engine.connect() as connection:\n",
    "#     connection.execute(load_file)\n",
    "# print('Successfully loaded')"
   ]
  },
  {
   "cell_type": "markdown",
   "id": "5c9730c4-3f88-4ef3-a544-00fb20ce8e4e",
   "metadata": {},
   "source": [
    "### create table schema for shipping_dimen"
   ]
  },
  {
   "cell_type": "code",
   "execution_count": 12,
   "id": "f665a348-fd60-4ca2-b001-5124b49082e0",
   "metadata": {},
   "outputs": [],
   "source": [
    "# with engine.connect() as connection:\n",
    "#     create_table_ship=\"\"\"\n",
    "#     create table if not exists shipTable (\n",
    "#     Order_ID int,\n",
    "#     Ship_Mode string,\n",
    "#     Ship_Date string,\n",
    "#     Ship_id string\n",
    "#     )\n",
    "#     ROW FORMAT DELIMITED \n",
    "#     FIELDS TERMINATED BY ','\n",
    "#     STORED AS TEXTFILE\n",
    "#     TBLPROPERTIES(\"skip.header.line.count\"=\"1\")\n",
    "#     \"\"\"\n",
    "#     connection.execute(create_table_ship)\n",
    "# print(\"shipTable created\")"
   ]
  },
  {
   "cell_type": "code",
   "execution_count": 13,
   "id": "97cbb8be-ae00-467b-a50a-702e406868ae",
   "metadata": {},
   "outputs": [],
   "source": [
    "# load_file=\"load data inpath '/user/maneelcha49dgre/review_file1/shipping_dimen.csv' into table shipTable\"\n",
    "# with engine.connect() as connection:\n",
    "#     connection.execute(load_file)\n",
    "# print('Successfully loaded')"
   ]
  },
  {
   "cell_type": "code",
   "execution_count": 14,
   "id": "5fea1854-410c-4202-b875-aaa1ed5edf25",
   "metadata": {},
   "outputs": [],
   "source": [
    "# hdfs dfs -put \"/home/maneelcha49dgre/Spark/cust_dimen.csv\" \"/user/maneelcha49dgre\"\n",
    "#put above command into terminalto load csv file into hdfs"
   ]
  },
  {
   "cell_type": "code",
   "execution_count": 15,
   "id": "9e62748a-6f0e-4736-965d-e0d1f4e9813d",
   "metadata": {},
   "outputs": [],
   "source": [
    "ship_df=pd.read_sql(\"select * from shipTable\",engine)\n",
    "cust_df=pd.read_sql(\"select * from custTable\",engine)\n",
    "prod_df=pd.read_sql(\"select * from prodTable\",engine)\n",
    "market_df=pd.read_sql(\"select * from marketTable\",engine)\n",
    "order_df=pd.read_sql(\"select * from ordTable\",engine)"
   ]
  },
  {
   "cell_type": "code",
   "execution_count": 16,
   "id": "2d0863c3-9ca5-4ee8-b7c1-b734b31c03c3",
   "metadata": {},
   "outputs": [],
   "source": [
    "spark_ship=spark.createDataFrame(ship_df)\n",
    "spark_cust=spark.createDataFrame(cust_df)\n",
    "spark_prod=spark.createDataFrame(prod_df)\n",
    "spark_market=spark.createDataFrame(market_df)\n",
    "spark_order=spark.createDataFrame(order_df)"
   ]
  },
  {
   "cell_type": "code",
   "execution_count": 17,
   "id": "ac11539f-a8b9-4151-b6b8-81c7a1f54466",
   "metadata": {},
   "outputs": [],
   "source": [
    "# result = unionAll([spark_ship, spark_cust,spark_prod,spark_market,spark_order])"
   ]
  },
  {
   "cell_type": "code",
   "execution_count": 18,
   "id": "2bc069fe-e134-40a8-b894-8ad8af084bd7",
   "metadata": {},
   "outputs": [],
   "source": [
    "# with engine.connect() as connection:\n",
    "#     connection.execute(\"drop table shipTable\")"
   ]
  },
  {
   "cell_type": "code",
   "execution_count": 19,
   "id": "e4ea5c4c-48ce-4062-8769-a287288c4814",
   "metadata": {},
   "outputs": [
    {
     "name": "stderr",
     "output_type": "stream",
     "text": [
      "[Stage 1:>                                                          (0 + 4) / 4]\r"
     ]
    },
    {
     "name": "stdout",
     "output_type": "stream",
     "text": [
      "+-----------+----------------+------------------+---------+----------------+----------+---------+----------+--------+--------+--------------+-------+-------------+-------------------+\n",
      "|    cust_id|   customer_name|          province|   region|customer_segment|    ord_id|  prod_id|   ship_id|   sales|discount|order_quantity| profit|shipping_cost|product_base_margin|\n",
      "+-----------+----------------+------------------+---------+----------------+----------+---------+----------+--------+--------+--------------+-------+-------------+-------------------+\n",
      "|\"Cust_1285\"|    \"BRIAN MOSS\"|     \"SASKACHEWAN\"| \"PRARIE\"|     \"CORPORATE\"|\"Ord_3647\"| \"Prod_2\"|\"SHP_5054\"|   77.19|    0.03|            17| -81.35|         6.89|                0.6|\n",
      "|\"Cust_1285\"|    \"BRIAN MOSS\"|     \"SASKACHEWAN\"| \"PRARIE\"|     \"CORPORATE\"|\"Ord_3645\"| \"Prod_4\"|\"SHP_5050\"|2115.242|    0.04|            38| 371.41|         8.99|               0.56|\n",
      "|\"Cust_1285\"|    \"BRIAN MOSS\"|     \"SASKACHEWAN\"| \"PRARIE\"|     \"CORPORATE\"|\"Ord_3645\"| \"Prod_6\"|\"SHP_5049\"| 1411.58|    0.01|            24| 699.31|         4.86|               0.36|\n",
      "|\"Cust_1285\"|    \"BRIAN MOSS\"|     \"SASKACHEWAN\"| \"PRARIE\"|     \"CORPORATE\"|\"Ord_3645\"|\"Prod_15\"|\"SHP_5051\"| 1246.68|    0.01|             9| 218.48|        12.65|                NaN|\n",
      "|\"Cust_1285\"|    \"BRIAN MOSS\"|     \"SASKACHEWAN\"| \"PRARIE\"|     \"CORPORATE\"| \"Ord_598\"| \"Prod_8\"|\"SHP_5048\"|  909.82|    0.02|            40| 292.49|         1.99|               0.46|\n",
      "|\"Cust_1285\"|    \"BRIAN MOSS\"|     \"SASKACHEWAN\"| \"PRARIE\"|     \"CORPORATE\"|\"Ord_3666\"| \"Prod_1\"|\"SHP_5081\"|   467.4|    0.01|            19|-851.09|        53.03|               0.78|\n",
      "|\"Cust_1285\"|    \"BRIAN MOSS\"|     \"SASKACHEWAN\"| \"PRARIE\"|     \"CORPORATE\"|\"Ord_3685\"| \"Prod_1\"|\"SHP_5110\"|   546.4|     0.1|            39|-138.82|         4.53|               0.81|\n",
      "|\"Cust_1285\"|    \"BRIAN MOSS\"|     \"SASKACHEWAN\"| \"PRARIE\"|     \"CORPORATE\"|\"Ord_3672\"| \"Prod_1\"|\"SHP_5089\"|  741.49|    0.08|             8|-360.18|         35.0|                NaN|\n",
      "|\"Cust_1585\"|  \"ERIC MURDOCK\"|\"BRITISH COLUMBIA\"|   \"WEST\"|   \"HOME OFFICE\"|\"Ord_4627\"| \"Prod_7\"|\"SHP_6444\"|  142.59|    0.02|            29|  -3.23|          0.7|               0.85|\n",
      "|\"Cust_1631\"|  \"MARIS LAWARE\"|\"BRITISH COLUMBIA\"|   \"WEST\"|   \"HOME OFFICE\"|\"Ord_4700\"| \"Prod_3\"|\"SHP_6557\"|  202.42|    0.09|            38|   0.86|         2.99|               0.38|\n",
      "|  \"Cust_21\"|\"EUGENE BARCHAS\"|         \"NUNAVUT\"|\"NUNAVUT\"|     \"CORPORATE\"|  \"Ord_26\"| \"Prod_3\"|  \"SHP_34\"|  191.67|     0.0|            47|-236.27|         7.01|               0.37|\n",
      "|  \"Cust_21\"|\"EUGENE BARCHAS\"|         \"NUNAVUT\"|\"NUNAVUT\"|     \"CORPORATE\"|  \"Ord_26\"| \"Prod_6\"|  \"SHP_36\"|  507.64|     0.1|            18| 118.94|         5.76|                0.4|\n",
      "|  \"Cust_21\"|\"EUGENE BARCHAS\"|         \"NUNAVUT\"|\"NUNAVUT\"|     \"CORPORATE\"|  \"Ord_26\"|\"Prod_15\"|  \"SHP_35\"| 5586.33|    0.09|            49|  80.44|         30.0|               0.64|\n",
      "| \"Cust_241\"| \"KRISTINA NUNN\"|\"BRITISH COLUMBIA\"|   \"WEST\"|      \"CONSUMER\"| \"Ord_764\"| \"Prod_2\"|\"SHP_1043\"|  443.35|    0.02|            37| -21.73|         4.98|               0.58|\n",
      "| \"Cust_241\"| \"KRISTINA NUNN\"|\"BRITISH COLUMBIA\"|   \"WEST\"|      \"CONSUMER\"| \"Ord_702\"| \"Prod_9\"| \"SHP_960\"|  108.26|    0.06|             7|  25.51|         1.39|               0.38|\n",
      "| \"Cust_241\"| \"KRISTINA NUNN\"|\"BRITISH COLUMBIA\"|   \"WEST\"|      \"CONSUMER\"| \"Ord_732\"| \"Prod_8\"| \"SHP_997\"| 1905.79|    0.01|            46| 675.65|         1.99|               0.54|\n",
      "| \"Cust_241\"| \"KRISTINA NUNN\"|\"BRITISH COLUMBIA\"|   \"WEST\"|      \"CONSUMER\"| \"Ord_764\"| \"Prod_6\"|\"SHP_1043\"|   30.85|    0.03|             4| -12.88|         5.79|               0.36|\n",
      "| \"Cust_241\"| \"KRISTINA NUNN\"|\"BRITISH COLUMBIA\"|   \"WEST\"|      \"CONSUMER\"| \"Ord_702\"| \"Prod_2\"| \"SHP_960\"|  297.05|    0.09|            15| -16.89|         6.32|               0.58|\n",
      "| \"Cust_241\"| \"KRISTINA NUNN\"|\"BRITISH COLUMBIA\"|   \"WEST\"|      \"CONSUMER\"| \"Ord_764\"| \"Prod_5\"|\"SHP_1044\"|  392.61|    0.08|            41|-100.15|         7.29|               0.45|\n",
      "| \"Cust_241\"| \"KRISTINA NUNN\"|\"BRITISH COLUMBIA\"|   \"WEST\"|      \"CONSUMER\"| \"Ord_738\"| \"Prod_7\"|\"SHP_1006\"|  151.19|    0.03|            38|  60.63|         0.71|               0.39|\n",
      "+-----------+----------------+------------------+---------+----------------+----------+---------+----------+--------+--------+--------------+-------+-------------+-------------------+\n",
      "only showing top 20 rows\n",
      "\n",
      "None\n"
     ]
    },
    {
     "name": "stderr",
     "output_type": "stream",
     "text": [
      "                                                                                \r"
     ]
    }
   ],
   "source": [
    "join_df1 = spark_cust.join(spark_market, on=\"cust_id\", how=\"left\")\n",
    "print(join_df1.show())"
   ]
  },
  {
   "cell_type": "code",
   "execution_count": 20,
   "id": "ef1c34e0-8eab-4057-816c-bfea6cf7c091",
   "metadata": {},
   "outputs": [
    {
     "name": "stderr",
     "output_type": "stream",
     "text": [
      "[Stage 5:================================================>      (178 + 3) / 200]\r"
     ]
    },
    {
     "name": "stdout",
     "output_type": "stream",
     "text": [
      "+----------+-----------+-------------------+--------------------+--------------------+----------------+---------+----------+--------+--------+--------------+-------+-------------+-------------------+--------+------------+---------------+\n",
      "|    ord_id|    cust_id|      customer_name|            province|              region|customer_segment|  prod_id|   ship_id|   sales|discount|order_quantity| profit|shipping_cost|product_base_margin|order_id|  order_date| order_priority|\n",
      "+----------+-----------+-------------------+--------------------+--------------------+----------------+---------+----------+--------+--------+--------------+-------+-------------+-------------------+--------+------------+---------------+\n",
      "|\"Ord_1354\"| \"Cust_519\"|     \"MELANIE PAGE\"|           \"ONTARIO\"|           \"ONTARIO\"|     \"CORPORATE\"|\"Prod_16\"|\"SHP_1863\"|  156.15|    0.08|            10|  -37.6|         7.42|               0.56|   10371|\"16-09-2009\"|         \"HIGH\"|\n",
      "| \"Ord_174\"|  \"Cust_77\"|       \"DON MILLER\"|\"NORTHWEST TERRITORI|\"NORTHWEST TERRITORI|   \"HOME OFFICE\"| \"Prod_3\"| \"SHP_236\"|  376.21|    0.03|            19|  89.56|         5.23|               0.37|   28035|\"08-05-2011\"|\"NOT SPECIFIED\"|\n",
      "|\"Ord_2058\"| \"Cust_775\"|      \"LUKE FOSTER\"|       \"NOVA SCOTIA\"|          \"ATLANTIC\"|     \"CORPORATE\"| \"Prod_3\"|\"SHP_2814\"|  772.67|     0.0|            36| 286.87|         2.99|               0.37|   51107|\"25-09-2012\"|\"NOT SPECIFIED\"|\n",
      "| \"Ord_229\"|  \"Cust_90\"|    \"CLAUDIA MINER\"|\"NORTHWEST TERRITORI|\"NORTHWEST TERRITORI|\"SMALL BUSINESS\"| \"Prod_1\"| \"SHP_317\"| 1373.11|     0.1|            18|-599.54|         35.0|               0.81|   37541|\"26-02-2010\"|       \"MEDIUM\"|\n",
      "| \"Ord_229\"|  \"Cust_90\"|    \"CLAUDIA MINER\"|\"NORTHWEST TERRITORI|\"NORTHWEST TERRITORI|\"SMALL BUSINESS\"| \"Prod_6\"| \"SHP_318\"|  550.61|    0.08|            10|  98.32|        13.88|               0.36|   37541|\"26-02-2010\"|       \"MEDIUM\"|\n",
      "| \"Ord_229\"|  \"Cust_90\"|    \"CLAUDIA MINER\"|\"NORTHWEST TERRITORI|\"NORTHWEST TERRITORI|\"SMALL BUSINESS\"| \"Prod_8\"| \"SHP_317\"|   71.94|    0.01|             3| -70.68|         5.99|               0.65|   37541|\"26-02-2010\"|       \"MEDIUM\"|\n",
      "|\"Ord_2366\"| \"Cust_942\"|      \"DENNIS KANE\"|            \"QUEBEC\"|            \"QUEBEC\"|\"SMALL BUSINESS\"| \"Prod_3\"|\"SHP_3248\"|  240.27|    0.07|            33| -269.8|        11.51|               0.36|   12448|\"08-11-2011\"|     \"CRITICAL\"|\n",
      "|\"Ord_2366\"| \"Cust_942\"|      \"DENNIS KANE\"|            \"QUEBEC\"|            \"QUEBEC\"|\"SMALL BUSINESS\"|\"Prod_15\"|\"SHP_3249\"| 6802.37|    0.08|            24|  459.5|        69.55|                0.6|   12448|\"08-11-2011\"|     \"CRITICAL\"|\n",
      "|\"Ord_2451\"| \"Cust_942\"|      \"DENNIS KANE\"|            \"QUEBEC\"|            \"QUEBEC\"|\"SMALL BUSINESS\"| \"Prod_8\"|\"SHP_3362\"| 1388.91|     0.1|            20|-229.87|          4.0|               0.79|   33217|\"12-03-2009\"|         \"HIGH\"|\n",
      "|\"Ord_2451\"| \"Cust_942\"|      \"DENNIS KANE\"|            \"QUEBEC\"|            \"QUEBEC\"|\"SMALL BUSINESS\"|\"Prod_17\"|\"SHP_3362\"| 1806.65|    0.05|            34| 599.04|        10.17|               0.37|   33217|\"12-03-2009\"|         \"HIGH\"|\n",
      "|\"Ord_2494\"| \"Cust_961\"|     \"CAROL TRIGGS\"|            \"QUEBEC\"|            \"QUEBEC\"|   \"HOME OFFICE\"|\"Prod_13\"|\"SHP_3419\"|   49.49|    0.01|            28|  -1.23|          0.7|               0.56|   40934|\"13-11-2011\"|\"NOT SPECIFIED\"|\n",
      "|\"Ord_2494\"| \"Cust_961\"|     \"CAROL TRIGGS\"|            \"QUEBEC\"|            \"QUEBEC\"|   \"HOME OFFICE\"| \"Prod_4\"|\"SHP_3420\"|404.1495|    0.07|            11| -107.5|         4.99|               0.57|   40934|\"13-11-2011\"|\"NOT SPECIFIED\"|\n",
      "|\"Ord_2502\"| \"Cust_976\"|    \"TOBY CARLISLE\"|            \"QUEBEC\"|            \"QUEBEC\"|   \"HOME OFFICE\"| \"Prod_4\"|\"SHP_3430\"|2104.991|    0.09|            20| 165.45|          8.8|               0.59|   42951|\"16-09-2012\"|     \"CRITICAL\"|\n",
      "|\"Ord_2524\"| \"Cust_968\"|     \"DIONIS LLOYD\"|            \"QUEBEC\"|            \"QUEBEC\"|\"SMALL BUSINESS\"|\"Prod_15\"|\"SHP_3457\"| 7323.78|    0.04|            31| 573.55|        62.94|               0.57|   48774|\"09-08-2012\"|         \"HIGH\"|\n",
      "|\"Ord_2629\"|\"Cust_1020\"|\"KATHERINE NOCKTON\"|           \"ONTARIO\"|           \"ONTARIO\"|   \"HOME OFFICE\"| \"Prod_1\"|\"SHP_3596\"| 2421.44|    0.09|            32|-949.09|         35.0|               0.83|   13761|\"17-10-2009\"|          \"LOW\"|\n",
      "| \"Ord_289\"|  \"Cust_67\"|    \"BETH THOMPSON\"|\"NORTHWEST TERRITORI|\"NORTHWEST TERRITORI|     \"CORPORATE\"| \"Prod_3\"| \"SHP_390\"|   51.21|     0.0|             2| -27.53|         8.83|               0.37|   50278|\"25-05-2010\"|         \"HIGH\"|\n",
      "| \"Ord_289\"|  \"Cust_67\"|    \"BETH THOMPSON\"|\"NORTHWEST TERRITORI|\"NORTHWEST TERRITORI|     \"CORPORATE\"|\"Prod_11\"| \"SHP_391\"| 2195.55|    0.01|            20|-355.94|         60.0|               0.59|   50278|\"25-05-2010\"|         \"HIGH\"|\n",
      "|\"Ord_3015\"|\"Cust_1131\"|    \"JASON FORTUNE\"|           \"ONTARIO\"|           \"ONTARIO\"|     \"CORPORATE\"|\"Prod_15\"|\"SHP_4177\"| 8937.38|    0.01|            17|2383.42|         26.0|                0.6|   21922|\"11-11-2009\"|         \"HIGH\"|\n",
      "|\"Ord_3015\"|\"Cust_1131\"|    \"JASON FORTUNE\"|           \"ONTARIO\"|           \"ONTARIO\"|     \"CORPORATE\"| \"Prod_5\"|\"SHP_4178\"|  108.85|    0.08|            11|  10.58|         6.02|               0.48|   21922|\"11-11-2009\"|         \"HIGH\"|\n",
      "|\"Ord_3015\"|\"Cust_1131\"|    \"JASON FORTUNE\"|           \"ONTARIO\"|           \"ONTARIO\"|     \"CORPORATE\"|\"Prod_13\"|\"SHP_4179\"|  157.47|    0.09|            49|   8.07|         0.98|               0.59|   21922|\"11-11-2009\"|         \"HIGH\"|\n",
      "+----------+-----------+-------------------+--------------------+--------------------+----------------+---------+----------+--------+--------+--------------+-------+-------------+-------------------+--------+------------+---------------+\n",
      "only showing top 20 rows\n",
      "\n"
     ]
    },
    {
     "name": "stderr",
     "output_type": "stream",
     "text": [
      "                                                                                \r"
     ]
    }
   ],
   "source": [
    "join_df2 = join_df1.join(spark_order,on=\"ord_id\",how=\"left\")\n",
    "join_df2.show()"
   ]
  },
  {
   "cell_type": "code",
   "execution_count": 21,
   "id": "b1894150-eb25-430e-be5b-5c0f0cdb22d7",
   "metadata": {},
   "outputs": [
    {
     "name": "stderr",
     "output_type": "stream",
     "text": [
      "                                                                                \r"
     ]
    },
    {
     "name": "stdout",
     "output_type": "stream",
     "text": [
      "+--------+----------+-----------+--------------------+--------------------+--------------------+----------------+----------+-------+--------+--------------+-------+-------------+-------------------+--------+------------+---------------+----------------+--------------------+\n",
      "| prod_id|    ord_id|    cust_id|       customer_name|            province|              region|customer_segment|   ship_id|  sales|discount|order_quantity| profit|shipping_cost|product_base_margin|order_id|  order_date| order_priority|product_category|product_sub_category|\n",
      "+--------+----------+-----------+--------------------+--------------------+--------------------+----------------+----------+-------+--------+--------------+-------+-------------+-------------------+--------+------------+---------------+----------------+--------------------+\n",
      "|\"Prod_5\"|\"Ord_3015\"|\"Cust_1131\"|     \"JASON FORTUNE\"|           \"ONTARIO\"|           \"ONTARIO\"|     \"CORPORATE\"|\"SHP_4178\"| 108.85|    0.08|            11|  10.58|         6.02|               0.48|   21922|\"11-11-2009\"|         \"HIGH\"|     \"FURNITURE\"|\"OFFICE FURNISHINGS\"|\n",
      "|\"Prod_5\"| \"Ord_549\"| \"Cust_186\"|      \"SANJIT CHAND\"|  \"BRITISH COLUMBIA\"|              \"WEST\"|   \"HOME OFFICE\"| \"SHP_744\"|  413.8|    0.08|            23|  51.36|         8.99|               0.47|   28802|\"04-11-2010\"|         \"HIGH\"|     \"FURNITURE\"|\"OFFICE FURNISHINGS\"|\n",
      "|\"Prod_5\"|\"Ord_1770\"| \"Cust_595\"|   \"VICTORIA WILSON\"|           \"ONTARIO\"|           \"ONTARIO\"|   \"HOME OFFICE\"|\"SHP_2454\"| 387.03|    0.04|            50|  -7.73|         4.95|               0.41|   48453|\"26-07-2009\"|       \"MEDIUM\"|     \"FURNITURE\"|\"OFFICE FURNISHINGS\"|\n",
      "|\"Prod_5\"|\"Ord_4023\"|\"Cust_1388\"|          \"AMY HUNT\"|       \"SASKACHEWAN\"|            \"PRARIE\"|\"SMALL BUSINESS\"|\"SHP_5598\"| 486.43|     0.0|            15| 285.35|         3.92|               0.44|   10979|\"04-10-2011\"|       \"MEDIUM\"|     \"FURNITURE\"|\"OFFICE FURNISHINGS\"|\n",
      "|\"Prod_5\"| \"Ord_928\"| \"Cust_308\"|     \"STEVE CARROLL\"|       \"NOVA SCOTIA\"|          \"ATLANTIC\"|      \"CONSUMER\"|\"SHP_1284\"| 535.24|    0.01|            32| 216.43|         3.73|               0.46|   21766|\"01-06-2009\"|         \"HIGH\"|     \"FURNITURE\"|\"OFFICE FURNISHINGS\"|\n",
      "|\"Prod_5\"|\"Ord_2265\"| \"Cust_827\"|       \"DOUG JACOBS\"|            \"QUEBEC\"|            \"QUEBEC\"|   \"HOME OFFICE\"|\"SHP_3087\"|2784.57|    0.05|            21| 847.06|        24.49|               0.59|   17959|\"09-09-2012\"|       \"MEDIUM\"|     \"FURNITURE\"|\"OFFICE FURNISHINGS\"|\n",
      "|\"Prod_5\"| \"Ord_402\"| \"Cust_146\"|      \"GREG GUTHRIE\"|\"PRINCE EDWARD ISLAN|          \"ATLANTIC\"|     \"CORPORATE\"| \"SHP_541\"|  76.61|    0.09|            12| -31.83|         5.29|               0.43|   25376|\"26-03-2011\"|     \"CRITICAL\"|     \"FURNITURE\"|\"OFFICE FURNISHINGS\"|\n",
      "|\"Prod_5\"|\"Ord_4203\"|\"Cust_1429\"|   \"LAUREL ELLISTON\"|     \"NEW BRUNSWICK\"|          \"ATLANTIC\"|   \"HOME OFFICE\"|\"SHP_5859\"| 804.14|     0.1|            50| -25.27|         8.99|               0.47|   46565|\"22-06-2011\"|\"NOT SPECIFIED\"|     \"FURNITURE\"|\"OFFICE FURNISHINGS\"|\n",
      "|\"Prod_5\"| \"Ord_271\"| \"Cust_100\"|  \"CHARLOTTE MELTON\"|\"NORTHWEST TERRITORI|\"NORTHWEST TERRITORI|   \"HOME OFFICE\"| \"SHP_369\"|2522.21|     0.0|            37|1026.07|        14.48|               0.46|   45766|\"07-05-2010\"|         \"HIGH\"|     \"FURNITURE\"|\"OFFICE FURNISHINGS\"|\n",
      "|\"Prod_5\"|\"Ord_2925\"| \"Cust_572\"|    \"LENA CREIGHTON\"|           \"ONTARIO\"|           \"ONTARIO\"|   \"HOME OFFICE\"|\"SHP_4043\"| 508.49|     0.1|            45| -28.81|          6.2|               0.52|   42274|\"03-09-2011\"|         \"HIGH\"|     \"FURNITURE\"|\"OFFICE FURNISHINGS\"|\n",
      "|\"Prod_5\"|\"Ord_4615\"|\"Cust_1572\"|        \"MICK BROWN\"|  \"BRITISH COLUMBIA\"|              \"WEST\"|      \"CONSUMER\"|\"SHP_6425\"| 2548.3|     0.1|            34| 875.57|        19.99|               0.43|   33095|\"15-02-2009\"|\"NOT SPECIFIED\"|     \"FURNITURE\"|\"OFFICE FURNISHINGS\"|\n",
      "|\"Prod_5\"|\"Ord_1147\"| \"Cust_439\"|\"CHRISTINE KARGATIS\"|           \"ONTARIO\"|           \"ONTARIO\"|\"SMALL BUSINESS\"|\"SHP_1581\"| 244.85|    0.06|            14|  38.06|         8.99|               0.47|    3777|\"07-04-2009\"|       \"MEDIUM\"|     \"FURNITURE\"|\"OFFICE FURNISHINGS\"|\n",
      "|\"Prod_5\"|\"Ord_4574\"|\"Cust_1490\"| \"TAMARA WILLINGHAM\"|             \"YUKON\"|             \"YUKON\"|     \"CORPORATE\"|\"SHP_6365\"|1280.65|    0.06|            26|  75.36|        22.24|               0.55|   26464|\"11-12-2011\"|         \"HIGH\"|     \"FURNITURE\"|\"OFFICE FURNISHINGS\"|\n",
      "|\"Prod_5\"|\"Ord_2295\"| \"Cust_848\"| \"ELIZABETH MOFFITT\"|            \"QUEBEC\"|            \"QUEBEC\"|      \"CONSUMER\"|\"SHP_3141\"|  55.49|    0.04|            11| -37.32|         7.24|               0.54|   34694|\"28-04-2011\"|          \"LOW\"|     \"FURNITURE\"|\"OFFICE FURNISHINGS\"|\n",
      "|\"Prod_5\"|\"Ord_4488\"|\"Cust_1539\"|       \"DARREN BUDD\"|             \"YUKON\"|             \"YUKON\"|      \"CONSUMER\"|\"SHP_6248\"| 149.51|    0.02|             8| -31.11|        12.39|               0.61|   17799|\"20-09-2012\"|       \"MEDIUM\"|     \"FURNITURE\"|\"OFFICE FURNISHINGS\"|\n",
      "|\"Prod_5\"|\"Ord_5465\"|\"Cust_1813\"|       \"ERICA SMITH\"|           \"ALBERTA\"|              \"WEST\"|\"SMALL BUSINESS\"|\"SHP_7636\"| 247.45|     0.0|            22|-133.18|        12.52|               0.57|   41760|\"27-01-2012\"|          \"LOW\"|     \"FURNITURE\"|\"OFFICE FURNISHINGS\"|\n",
      "|\"Prod_5\"|\"Ord_4383\"|\"Cust_1472\"|      \"ERIC BARRETO\"|             \"YUKON\"|             \"YUKON\"|      \"CONSUMER\"|\"SHP_6111\"|  96.68|    0.03|            11|  22.25|         4.95|               0.41|    5984|\"17-06-2009\"|          \"LOW\"|     \"FURNITURE\"|\"OFFICE FURNISHINGS\"|\n",
      "|\"Prod_5\"|\"Ord_4383\"|\"Cust_1472\"|      \"ERIC BARRETO\"|             \"YUKON\"|             \"YUKON\"|      \"CONSUMER\"|\"SHP_6110\"| 464.64|    0.03|            42|  14.48|         5.16|               0.57|    5984|\"17-06-2009\"|          \"LOW\"|     \"FURNITURE\"|\"OFFICE FURNISHINGS\"|\n",
      "|\"Prod_5\"|\"Ord_1398\"| \"Cust_525\"|        \"DAN LAWERA\"|           \"ONTARIO\"|           \"ONTARIO\"|     \"CORPORATE\"|\"SHP_1929\"|1737.06|    0.02|            42| 339.17|          9.2|               0.65|   16771|\"28-09-2009\"|         \"HIGH\"|     \"FURNITURE\"|\"OFFICE FURNISHINGS\"|\n",
      "|\"Prod_5\"|\"Ord_2164\"| \"Cust_812\"|\"MICHELLE HUTHWAITE\"|            \"QUEBEC\"|            \"QUEBEC\"|   \"HOME OFFICE\"|\"SHP_2949\"| 547.32|     0.1|            28|  42.39|         6.67|               0.49|   43488|\"18-06-2012\"|     \"CRITICAL\"|     \"FURNITURE\"|\"OFFICE FURNISHINGS\"|\n",
      "+--------+----------+-----------+--------------------+--------------------+--------------------+----------------+----------+-------+--------+--------------+-------+-------------+-------------------+--------+------------+---------------+----------------+--------------------+\n",
      "only showing top 20 rows\n",
      "\n"
     ]
    }
   ],
   "source": [
    "join_df3 = join_df2.join(spark_prod,on=\"prod_id\",how=\"left\")\n",
    "join_df3.show()"
   ]
  },
  {
   "cell_type": "code",
   "execution_count": 22,
   "id": "1d966173-6952-426b-b584-078acc7b6591",
   "metadata": {},
   "outputs": [
    {
     "name": "stderr",
     "output_type": "stream",
     "text": [
      "[Stage 33:==============================================>       (174 + 2) / 200]\r"
     ]
    },
    {
     "name": "stdout",
     "output_type": "stream",
     "text": [
      "+--------+----------+---------+----------+-----------+------------------+------------------+----------+----------------+--------+--------+--------------+-------+-------------+-------------------+------------+---------------+-----------------+--------------------+-------------+------------+\n",
      "|order_id|   ship_id|  prod_id|    ord_id|    cust_id|     customer_name|          province|    region|customer_segment|   sales|discount|order_quantity| profit|shipping_cost|product_base_margin|  order_date| order_priority| product_category|product_sub_category|    ship_mode|   ship_date|\n",
      "+--------+----------+---------+----------+-----------+------------------+------------------+----------+----------------+--------+--------+--------------+-------+-------------+-------------------+------------+---------------+-----------------+--------------------+-------------+------------+\n",
      "|    1028| \"SHP_674\"| \"Prod_8\"| \"Ord_500\"| \"Cust_187\"|    \"MATT COLLINS\"|\"BRITISH COLUMBIA\"|    \"WEST\"|      \"CONSUMER\"|  165.75|    0.03|             6| -28.46|         1.99|                0.4|\"05-01-2009\"|         \"HIGH\"|     \"TECHNOLOGY\"|\"COMPUTER PERIPHE...|\"REGULAR AIR\"|\"06-01-2009\"|\n",
      "|    1221| \"SHP_937\"| \"Prod_3\"| \"Ord_685\"| \"Cust_231\"|    \"LELA DONOVAN\"|\"BRITISH COLUMBIA\"|    \"WEST\"|     \"CORPORATE\"|   14.68|    0.06|             1| -13.78|         6.19|               0.38|\"18-04-2012\"|\"NOT SPECIFIED\"|\"OFFICE SUPPLIES\"|\"BINDERS AND BIND...|\"REGULAR AIR\"|\"18-04-2012\"|\n",
      "|    2050|\"SHP_5733\"| \"Prod_6\"|\"Ord_4116\"|\"Cust_1404\"|    \"JAMES GALANG\"|   \"NEW BRUNSWICK\"|\"ATLANTIC\"|      \"CONSUMER\"|  542.11|    0.08|            25| -14.76|        11.54|               0.39|\"01-06-2009\"|\"NOT SPECIFIED\"|\"OFFICE SUPPLIES\"|             \"PAPER\"|\"REGULAR AIR\"|\"03-06-2009\"|\n",
      "|    2050|\"SHP_5733\"|\"Prod_12\"|\"Ord_4116\"|\"Cust_1404\"|    \"JAMES GALANG\"|   \"NEW BRUNSWICK\"|\"ATLANTIC\"|      \"CONSUMER\"|   44.46|    0.06|            16|   5.27|         0.99|               0.38|\"01-06-2009\"|\"NOT SPECIFIED\"|\"OFFICE SUPPLIES\"|            \"LABELS\"|\"REGULAR AIR\"|\"03-06-2009\"|\n",
      "|    2791|  \"SHP_34\"| \"Prod_3\"|  \"Ord_26\"|  \"Cust_21\"|  \"EUGENE BARCHAS\"|         \"NUNAVUT\"| \"NUNAVUT\"|     \"CORPORATE\"|  191.67|     0.0|            47|-236.27|         7.01|               0.37|\"09-10-2009\"|         \"HIGH\"|\"OFFICE SUPPLIES\"|\"BINDERS AND BIND...|\"REGULAR AIR\"|\"09-10-2009\"|\n",
      "|    3136|\"SHP_1771\"|\"Prod_13\"|\"Ord_1284\"| \"Cust_480\"|      \"PAUL PROST\"|         \"ONTARIO\"| \"ONTARIO\"|     \"CORPORATE\"|  238.74|     0.1|             8| -38.89|         8.99|               0.58|\"09-08-2009\"|\"NOT SPECIFIED\"|\"OFFICE SUPPLIES\"|\"PENS & ART SUPPL...|\"REGULAR AIR\"|\"11-08-2009\"|\n",
      "|    5251|\"SHP_1832\"| \"Prod_4\"|\"Ord_1331\"| \"Cust_486\"|   \"TAMARA DAHLEN\"|         \"ONTARIO\"| \"ONTARIO\"|     \"CORPORATE\"|3821.039|    0.05|            38|1057.89|         5.99|               0.57|\"11-04-2011\"|       \"MEDIUM\"|     \"TECHNOLOGY\"|\"TELEPHONES AND C...|\"EXPRESS AIR\"|\"13-04-2011\"|\n",
      "|    6310|\"SHP_7105\"| \"Prod_5\"|\"Ord_5088\"|\"Cust_1730\"| \"KATHARINE HARMS\"|         \"ALBERTA\"|    \"WEST\"|      \"CONSUMER\"|  216.95|    0.08|            27| -88.82|         7.96|               0.49|\"03-05-2009\"|\"NOT SPECIFIED\"|      \"FURNITURE\"|\"OFFICE FURNISHINGS\"|\"REGULAR AIR\"|\"04-05-2009\"|\n",
      "|    6788|\"SHP_6122\"|\"Prod_13\"|\"Ord_4392\"|\"Cust_1475\"|     \"BOBBY ELIAS\"|           \"YUKON\"|   \"YUKON\"|\"SMALL BUSINESS\"|  127.84|    0.02|            41|  12.69|         0.96|               0.58|\"04-08-2011\"|\"NOT SPECIFIED\"|\"OFFICE SUPPLIES\"|\"PENS & ART SUPPL...|\"EXPRESS AIR\"|\"06-08-2011\"|\n",
      "|    7427| \"SHP_967\"| \"Prod_3\"| \"Ord_706\"| \"Cust_242\"| \"RICARDO EMERSON\"|\"BRITISH COLUMBIA\"|    \"WEST\"|     \"CORPORATE\"|  182.26|    0.01|             9|  60.61|         1.49|               0.35|\"15-12-2012\"|\"NOT SPECIFIED\"|\"OFFICE SUPPLIES\"|\"BINDERS AND BIND...|\"REGULAR AIR\"|\"16-12-2012\"|\n",
      "|    7458|\"SHP_2590\"| \"Prod_3\"|\"Ord_1887\"| \"Cust_675\"|  \"KAREN CARLISLE\"|     \"NOVA SCOTIA\"|\"ATLANTIC\"|     \"CORPORATE\"|  226.81|    0.05|            16|  -5.37|         7.17|               0.38|\"04-04-2012\"|     \"CRITICAL\"|\"OFFICE SUPPLIES\"|\"BINDERS AND BIND...|\"REGULAR AIR\"|\"06-04-2012\"|\n",
      "|    7458|\"SHP_2590\"| \"Prod_8\"|\"Ord_1887\"|\"Cust_1505\"|  \"KAREN CARLISLE\"|           \"YUKON\"|   \"YUKON\"|     \"CORPORATE\"|  337.34|    0.06|             9| -69.84|         1.99|               0.54|\"04-04-2012\"|     \"CRITICAL\"|     \"TECHNOLOGY\"|\"COMPUTER PERIPHE...|\"REGULAR AIR\"|\"06-04-2012\"|\n",
      "|    7553|\"SHP_7490\"| \"Prod_5\"|\"Ord_5362\"|\"Cust_1805\"|      \"TONY SAYRE\"|         \"ALBERTA\"|    \"WEST\"|   \"HOME OFFICE\"| 1079.19|    0.07|            12|   46.8|        39.61|               0.67|\"07-05-2010\"|       \"MEDIUM\"|      \"FURNITURE\"|\"OFFICE FURNISHINGS\"|\"REGULAR AIR\"|\"08-05-2010\"|\n",
      "|    8480|\"SHP_3569\"| \"Prod_6\"|\"Ord_2608\"|\"Cust_1010\"|   \"ROBERT MARLEY\"|         \"ONTARIO\"| \"ONTARIO\"|     \"CORPORATE\"|   76.36|    0.07|            11|  -58.4|         8.74|               0.36|\"29-01-2011\"|         \"HIGH\"|\"OFFICE SUPPLIES\"|             \"PAPER\"|\"REGULAR AIR\"|\"31-01-2011\"|\n",
      "|    8480|\"SHP_3569\"| \"Prod_4\"|\"Ord_2608\"|\"Cust_1010\"|   \"ROBERT MARLEY\"|         \"ONTARIO\"| \"ONTARIO\"|     \"CORPORATE\"|309.9015|    0.09|             3|-558.42|         7.69|               0.58|\"29-01-2011\"|         \"HIGH\"|     \"TECHNOLOGY\"|\"TELEPHONES AND C...|\"REGULAR AIR\"|\"31-01-2011\"|\n",
      "|    9954|\"SHP_4518\"| \"Prod_6\"|\"Ord_3257\"|\"Cust_1182\"|   \"THAIS SISSMAN\"|        \"MANITOBA\"|  \"PRARIE\"|     \"CORPORATE\"|   203.6|     0.0|            39|-166.44|         7.44|               0.36|\"19-06-2009\"|\"NOT SPECIFIED\"|\"OFFICE SUPPLIES\"|             \"PAPER\"|\"REGULAR AIR\"|\"21-06-2009\"|\n",
      "|    9954|\"SHP_4518\"|\"Prod_13\"|\"Ord_3257\"|\"Cust_1182\"|   \"THAIS SISSMAN\"|        \"MANITOBA\"|  \"PRARIE\"|     \"CORPORATE\"|  115.81|     0.1|            30|  22.06|         0.83|               0.51|\"19-06-2009\"|\"NOT SPECIFIED\"|\"OFFICE SUPPLIES\"|\"PENS & ART SUPPL...|\"REGULAR AIR\"|\"21-06-2009\"|\n",
      "|   11014|\"SHP_6173\"| \"Prod_3\"|\"Ord_4429\"|\"Cust_1522\"|\"VICTORIA PISTEKA\"|           \"YUKON\"|   \"YUKON\"|     \"CORPORATE\"|  158.79|    0.05|            13|   1.16|         5.63|                0.4|\"07-09-2010\"|         \"HIGH\"|\"OFFICE SUPPLIES\"|\"BINDERS AND BIND...|\"REGULAR AIR\"|\"09-09-2010\"|\n",
      "|   11236|\"SHP_6176\"| \"Prod_6\"|\"Ord_2200\"|\"Cust_1461\"|  \"ROBERT BARROSO\"|           \"YUKON\"|   \"YUKON\"|\"SMALL BUSINESS\"|  298.57|    0.07|            45|  74.07|          2.0|               0.39|\"30-10-2010\"|         \"HIGH\"|\"OFFICE SUPPLIES\"|             \"PAPER\"|\"REGULAR AIR\"|\"30-10-2010\"|\n",
      "|   11236|\"SHP_6176\"|\"Prod_13\"|\"Ord_2200\"|\"Cust_1461\"|  \"ROBERT BARROSO\"|           \"YUKON\"|   \"YUKON\"|\"SMALL BUSINESS\"|   44.32|    0.01|            15| -41.55|         4.28|               0.44|\"30-10-2010\"|         \"HIGH\"|\"OFFICE SUPPLIES\"|\"PENS & ART SUPPL...|\"REGULAR AIR\"|\"30-10-2010\"|\n",
      "+--------+----------+---------+----------+-----------+------------------+------------------+----------+----------------+--------+--------+--------------+-------+-------------+-------------------+------------+---------------+-----------------+--------------------+-------------+------------+\n",
      "only showing top 20 rows\n",
      "\n"
     ]
    },
    {
     "name": "stderr",
     "output_type": "stream",
     "text": [
      "                                                                                \r"
     ]
    }
   ],
   "source": [
    " merged_df=join_df3.join(spark_ship,on=[\"order_id\",\"ship_id\"],how=\"left\")\n",
    "merged_df.show()"
   ]
  },
  {
   "cell_type": "code",
   "execution_count": 23,
   "id": "c48e102a-db68-4740-ad41-ba5f99e9272c",
   "metadata": {},
   "outputs": [
    {
     "name": "stdout",
     "output_type": "stream",
     "text": [
      "root\n",
      " |-- order_id: long (nullable = true)\n",
      " |-- ship_id: string (nullable = true)\n",
      " |-- prod_id: string (nullable = true)\n",
      " |-- ord_id: string (nullable = true)\n",
      " |-- cust_id: string (nullable = true)\n",
      " |-- customer_name: string (nullable = true)\n",
      " |-- province: string (nullable = true)\n",
      " |-- region: string (nullable = true)\n",
      " |-- customer_segment: string (nullable = true)\n",
      " |-- sales: double (nullable = true)\n",
      " |-- discount: double (nullable = true)\n",
      " |-- order_quantity: long (nullable = true)\n",
      " |-- profit: double (nullable = true)\n",
      " |-- shipping_cost: double (nullable = true)\n",
      " |-- product_base_margin: double (nullable = true)\n",
      " |-- order_date: string (nullable = true)\n",
      " |-- order_priority: string (nullable = true)\n",
      " |-- product_category: string (nullable = true)\n",
      " |-- product_sub_category: string (nullable = true)\n",
      " |-- ship_mode: string (nullable = true)\n",
      " |-- ship_date: string (nullable = true)\n",
      "\n"
     ]
    }
   ],
   "source": [
    "merged_df.printSchema()"
   ]
  },
  {
   "cell_type": "code",
   "execution_count": 24,
   "id": "d4e72a5b-d8b0-4394-86d4-86379d30640b",
   "metadata": {},
   "outputs": [
    {
     "name": "stdout",
     "output_type": "stream",
     "text": [
      "root\n",
      " |-- order_id: long (nullable = true)\n",
      " |-- ship_id: string (nullable = true)\n",
      " |-- prod_id: string (nullable = true)\n",
      " |-- ord_id: string (nullable = true)\n",
      " |-- cust_id: string (nullable = true)\n",
      " |-- customer_name: string (nullable = true)\n",
      " |-- province: string (nullable = true)\n",
      " |-- region: string (nullable = true)\n",
      " |-- customer_segment: string (nullable = true)\n",
      " |-- sales: double (nullable = true)\n",
      " |-- discount: double (nullable = true)\n",
      " |-- order_quantity: long (nullable = true)\n",
      " |-- profit: double (nullable = true)\n",
      " |-- shipping_cost: double (nullable = true)\n",
      " |-- product_base_margin: double (nullable = true)\n",
      " |-- Order_Date: date (nullable = true)\n",
      " |-- order_priority: string (nullable = true)\n",
      " |-- product_category: string (nullable = true)\n",
      " |-- product_sub_category: string (nullable = true)\n",
      " |-- ship_mode: string (nullable = true)\n",
      " |-- Ship_Date: date (nullable = true)\n",
      "\n"
     ]
    }
   ],
   "source": [
    "#change date's string data type into date data type\n",
    "from pyspark.sql.functions import to_date\n",
    "new_df = merged_df\n",
    "new_df = new_df.withColumn(\"Order_Date\", to_date(new_df[\"order_date\"],\"dd-mm-yyyy\"))\n",
    "new_df = new_df.withColumn(\"Ship_Date\", to_date(new_df[\"order_date\"],\"dd-mm-yyyy\"))\n",
    "new_df.printSchema()"
   ]
  },
  {
   "cell_type": "code",
   "execution_count": 25,
   "id": "e445ed98-80cb-4308-86cb-2c247af87b75",
   "metadata": {},
   "outputs": [
    {
     "name": "stderr",
     "output_type": "stream",
     "text": [
      "                                                                                \r"
     ]
    }
   ],
   "source": [
    "#save the new_df into hdfs\n",
    "# new_df.coalesce(1).write.mode('overwrite').csv('joined_data.csv', header=True)"
   ]
  },
  {
   "cell_type": "code",
   "execution_count": 26,
   "id": "928b3437-f7f5-45a8-809c-da72b936dd3f",
   "metadata": {},
   "outputs": [
    {
     "name": "stderr",
     "output_type": "stream",
     "text": [
      "                                                                                \r"
     ]
    },
    {
     "data": {
      "text/html": [
       "<div>\n",
       "<style scoped>\n",
       "    .dataframe tbody tr th:only-of-type {\n",
       "        vertical-align: middle;\n",
       "    }\n",
       "\n",
       "    .dataframe tbody tr th {\n",
       "        vertical-align: top;\n",
       "    }\n",
       "\n",
       "    .dataframe thead th {\n",
       "        text-align: right;\n",
       "    }\n",
       "</style>\n",
       "<table border=\"1\" class=\"dataframe\">\n",
       "  <thead>\n",
       "    <tr style=\"text-align: right;\">\n",
       "      <th></th>\n",
       "      <th>order_id</th>\n",
       "      <th>ship_id</th>\n",
       "      <th>prod_id</th>\n",
       "      <th>ord_id</th>\n",
       "      <th>cust_id</th>\n",
       "      <th>customer_name</th>\n",
       "      <th>province</th>\n",
       "      <th>region</th>\n",
       "      <th>customer_segment</th>\n",
       "      <th>sales</th>\n",
       "      <th>...</th>\n",
       "      <th>order_quantity</th>\n",
       "      <th>profit</th>\n",
       "      <th>shipping_cost</th>\n",
       "      <th>product_base_margin</th>\n",
       "      <th>Order_Date</th>\n",
       "      <th>order_priority</th>\n",
       "      <th>product_category</th>\n",
       "      <th>product_sub_category</th>\n",
       "      <th>ship_mode</th>\n",
       "      <th>Ship_Date</th>\n",
       "    </tr>\n",
       "  </thead>\n",
       "  <tbody>\n",
       "    <tr>\n",
       "      <th>0</th>\n",
       "      <td>1028.0</td>\n",
       "      <td>\"SHP_674\"</td>\n",
       "      <td>\"Prod_8\"</td>\n",
       "      <td>\"Ord_500\"</td>\n",
       "      <td>\"Cust_187\"</td>\n",
       "      <td>\"MATT COLLINS\"</td>\n",
       "      <td>\"BRITISH COLUMBIA\"</td>\n",
       "      <td>\"WEST\"</td>\n",
       "      <td>\"CONSUMER\"</td>\n",
       "      <td>165.7500</td>\n",
       "      <td>...</td>\n",
       "      <td>6.0</td>\n",
       "      <td>-28.46</td>\n",
       "      <td>1.99</td>\n",
       "      <td>0.40</td>\n",
       "      <td>None</td>\n",
       "      <td>\"HIGH\"</td>\n",
       "      <td>\"TECHNOLOGY\"</td>\n",
       "      <td>\"COMPUTER PERIPHERALS\"</td>\n",
       "      <td>\"REGULAR AIR\"</td>\n",
       "      <td>None</td>\n",
       "    </tr>\n",
       "    <tr>\n",
       "      <th>1</th>\n",
       "      <td>1221.0</td>\n",
       "      <td>\"SHP_937\"</td>\n",
       "      <td>\"Prod_3\"</td>\n",
       "      <td>\"Ord_685\"</td>\n",
       "      <td>\"Cust_231\"</td>\n",
       "      <td>\"LELA DONOVAN\"</td>\n",
       "      <td>\"BRITISH COLUMBIA\"</td>\n",
       "      <td>\"WEST\"</td>\n",
       "      <td>\"CORPORATE\"</td>\n",
       "      <td>14.6800</td>\n",
       "      <td>...</td>\n",
       "      <td>1.0</td>\n",
       "      <td>-13.78</td>\n",
       "      <td>6.19</td>\n",
       "      <td>0.38</td>\n",
       "      <td>None</td>\n",
       "      <td>\"NOT SPECIFIED\"</td>\n",
       "      <td>\"OFFICE SUPPLIES\"</td>\n",
       "      <td>\"BINDERS AND BINDER ACCESSORIES\"</td>\n",
       "      <td>\"REGULAR AIR\"</td>\n",
       "      <td>None</td>\n",
       "    </tr>\n",
       "    <tr>\n",
       "      <th>2</th>\n",
       "      <td>2050.0</td>\n",
       "      <td>\"SHP_5733\"</td>\n",
       "      <td>\"Prod_6\"</td>\n",
       "      <td>\"Ord_4116\"</td>\n",
       "      <td>\"Cust_1404\"</td>\n",
       "      <td>\"JAMES GALANG\"</td>\n",
       "      <td>\"NEW BRUNSWICK\"</td>\n",
       "      <td>\"ATLANTIC\"</td>\n",
       "      <td>\"CONSUMER\"</td>\n",
       "      <td>542.1100</td>\n",
       "      <td>...</td>\n",
       "      <td>25.0</td>\n",
       "      <td>-14.76</td>\n",
       "      <td>11.54</td>\n",
       "      <td>0.39</td>\n",
       "      <td>None</td>\n",
       "      <td>\"NOT SPECIFIED\"</td>\n",
       "      <td>\"OFFICE SUPPLIES\"</td>\n",
       "      <td>\"PAPER\"</td>\n",
       "      <td>\"REGULAR AIR\"</td>\n",
       "      <td>None</td>\n",
       "    </tr>\n",
       "    <tr>\n",
       "      <th>3</th>\n",
       "      <td>2050.0</td>\n",
       "      <td>\"SHP_5733\"</td>\n",
       "      <td>\"Prod_12\"</td>\n",
       "      <td>\"Ord_4116\"</td>\n",
       "      <td>\"Cust_1404\"</td>\n",
       "      <td>\"JAMES GALANG\"</td>\n",
       "      <td>\"NEW BRUNSWICK\"</td>\n",
       "      <td>\"ATLANTIC\"</td>\n",
       "      <td>\"CONSUMER\"</td>\n",
       "      <td>44.4600</td>\n",
       "      <td>...</td>\n",
       "      <td>16.0</td>\n",
       "      <td>5.27</td>\n",
       "      <td>0.99</td>\n",
       "      <td>0.38</td>\n",
       "      <td>None</td>\n",
       "      <td>\"NOT SPECIFIED\"</td>\n",
       "      <td>\"OFFICE SUPPLIES\"</td>\n",
       "      <td>\"LABELS\"</td>\n",
       "      <td>\"REGULAR AIR\"</td>\n",
       "      <td>None</td>\n",
       "    </tr>\n",
       "    <tr>\n",
       "      <th>4</th>\n",
       "      <td>2791.0</td>\n",
       "      <td>\"SHP_34\"</td>\n",
       "      <td>\"Prod_3\"</td>\n",
       "      <td>\"Ord_26\"</td>\n",
       "      <td>\"Cust_21\"</td>\n",
       "      <td>\"EUGENE BARCHAS\"</td>\n",
       "      <td>\"NUNAVUT\"</td>\n",
       "      <td>\"NUNAVUT\"</td>\n",
       "      <td>\"CORPORATE\"</td>\n",
       "      <td>191.6700</td>\n",
       "      <td>...</td>\n",
       "      <td>47.0</td>\n",
       "      <td>-236.27</td>\n",
       "      <td>7.01</td>\n",
       "      <td>0.37</td>\n",
       "      <td>None</td>\n",
       "      <td>\"HIGH\"</td>\n",
       "      <td>\"OFFICE SUPPLIES\"</td>\n",
       "      <td>\"BINDERS AND BINDER ACCESSORIES\"</td>\n",
       "      <td>\"REGULAR AIR\"</td>\n",
       "      <td>None</td>\n",
       "    </tr>\n",
       "    <tr>\n",
       "      <th>...</th>\n",
       "      <td>...</td>\n",
       "      <td>...</td>\n",
       "      <td>...</td>\n",
       "      <td>...</td>\n",
       "      <td>...</td>\n",
       "      <td>...</td>\n",
       "      <td>...</td>\n",
       "      <td>...</td>\n",
       "      <td>...</td>\n",
       "      <td>...</td>\n",
       "      <td>...</td>\n",
       "      <td>...</td>\n",
       "      <td>...</td>\n",
       "      <td>...</td>\n",
       "      <td>...</td>\n",
       "      <td>...</td>\n",
       "      <td>...</td>\n",
       "      <td>...</td>\n",
       "      <td>...</td>\n",
       "      <td>...</td>\n",
       "      <td>...</td>\n",
       "    </tr>\n",
       "    <tr>\n",
       "      <th>13900</th>\n",
       "      <td>55425.0</td>\n",
       "      <td>\"SHP_2552\"</td>\n",
       "      <td>\"Prod_4\"</td>\n",
       "      <td>\"Ord_1858\"</td>\n",
       "      <td>\"Cust_653\"</td>\n",
       "      <td>\"PAUL KNUTSON\"</td>\n",
       "      <td>\"NEWFOUNDLAND\"</td>\n",
       "      <td>\"ATLANTIC\"</td>\n",
       "      <td>\"CORPORATE\"</td>\n",
       "      <td>4373.8535</td>\n",
       "      <td>...</td>\n",
       "      <td>42.0</td>\n",
       "      <td>963.68</td>\n",
       "      <td>7.69</td>\n",
       "      <td>0.59</td>\n",
       "      <td>None</td>\n",
       "      <td>\"CRITICAL\"</td>\n",
       "      <td>\"TECHNOLOGY\"</td>\n",
       "      <td>\"TELEPHONES AND COMMUNICATION\"</td>\n",
       "      <td>\"EXPRESS AIR\"</td>\n",
       "      <td>None</td>\n",
       "    </tr>\n",
       "    <tr>\n",
       "      <th>13901</th>\n",
       "      <td>56423.0</td>\n",
       "      <td>\"SHP_5455\"</td>\n",
       "      <td>\"Prod_1\"</td>\n",
       "      <td>\"Ord_3926\"</td>\n",
       "      <td>\"Cust_1340\"</td>\n",
       "      <td>\"DENNIS PARDUE\"</td>\n",
       "      <td>\"SASKACHEWAN\"</td>\n",
       "      <td>\"PRARIE\"</td>\n",
       "      <td>\"CORPORATE\"</td>\n",
       "      <td>1609.6900</td>\n",
       "      <td>...</td>\n",
       "      <td>4.0</td>\n",
       "      <td>-281.17</td>\n",
       "      <td>19.99</td>\n",
       "      <td>0.58</td>\n",
       "      <td>None</td>\n",
       "      <td>\"NOT SPECIFIED\"</td>\n",
       "      <td>\"OFFICE SUPPLIES\"</td>\n",
       "      <td>\"STORAGE &amp; ORGANIZATION\"</td>\n",
       "      <td>\"REGULAR AIR\"</td>\n",
       "      <td>None</td>\n",
       "    </tr>\n",
       "    <tr>\n",
       "      <th>13902</th>\n",
       "      <td>56901.0</td>\n",
       "      <td>\"SHP_1191\"</td>\n",
       "      <td>\"Prod_13\"</td>\n",
       "      <td>\"Ord_866\"</td>\n",
       "      <td>\"Cust_295\"</td>\n",
       "      <td>\"PAUL MACINTYRE\"</td>\n",
       "      <td>\"NOVA SCOTIA\"</td>\n",
       "      <td>\"ATLANTIC\"</td>\n",
       "      <td>\"CORPORATE\"</td>\n",
       "      <td>100.6800</td>\n",
       "      <td>...</td>\n",
       "      <td>36.0</td>\n",
       "      <td>-45.21</td>\n",
       "      <td>2.40</td>\n",
       "      <td>0.58</td>\n",
       "      <td>None</td>\n",
       "      <td>\"CRITICAL\"</td>\n",
       "      <td>\"OFFICE SUPPLIES\"</td>\n",
       "      <td>\"PENS &amp; ART SUPPLIES\"</td>\n",
       "      <td>\"REGULAR AIR\"</td>\n",
       "      <td>None</td>\n",
       "    </tr>\n",
       "    <tr>\n",
       "      <th>13903</th>\n",
       "      <td>57152.0</td>\n",
       "      <td>\"SHP_7673\"</td>\n",
       "      <td>\"Prod_3\"</td>\n",
       "      <td>\"Ord_5491\"</td>\n",
       "      <td>\"Cust_1814\"</td>\n",
       "      <td>\"CHRISTOPHER CONANT\"</td>\n",
       "      <td>\"ALBERTA\"</td>\n",
       "      <td>\"WEST\"</td>\n",
       "      <td>\"HOME OFFICE\"</td>\n",
       "      <td>22.8900</td>\n",
       "      <td>...</td>\n",
       "      <td>6.0</td>\n",
       "      <td>-2.66</td>\n",
       "      <td>1.49</td>\n",
       "      <td>0.38</td>\n",
       "      <td>None</td>\n",
       "      <td>\"LOW\"</td>\n",
       "      <td>\"OFFICE SUPPLIES\"</td>\n",
       "      <td>\"BINDERS AND BINDER ACCESSORIES\"</td>\n",
       "      <td>\"REGULAR AIR\"</td>\n",
       "      <td>None</td>\n",
       "    </tr>\n",
       "    <tr>\n",
       "      <th>13904</th>\n",
       "      <td>58308.0</td>\n",
       "      <td>\"SHP_5040\"</td>\n",
       "      <td>\"Prod_5\"</td>\n",
       "      <td>\"Ord_3639\"</td>\n",
       "      <td>\"Cust_1266\"</td>\n",
       "      <td>\"WILLIAM BROWN\"</td>\n",
       "      <td>\"SASKACHEWAN\"</td>\n",
       "      <td>\"PRARIE\"</td>\n",
       "      <td>\"CORPORATE\"</td>\n",
       "      <td>40.3400</td>\n",
       "      <td>...</td>\n",
       "      <td>2.0</td>\n",
       "      <td>-23.62</td>\n",
       "      <td>7.74</td>\n",
       "      <td>0.50</td>\n",
       "      <td>None</td>\n",
       "      <td>\"NOT SPECIFIED\"</td>\n",
       "      <td>\"FURNITURE\"</td>\n",
       "      <td>\"OFFICE FURNISHINGS\"</td>\n",
       "      <td>\"REGULAR AIR\"</td>\n",
       "      <td>None</td>\n",
       "    </tr>\n",
       "  </tbody>\n",
       "</table>\n",
       "<p>13905 rows × 21 columns</p>\n",
       "</div>"
      ],
      "text/plain": [
       "       order_id     ship_id    prod_id      ord_id      cust_id  \\\n",
       "0        1028.0   \"SHP_674\"   \"Prod_8\"   \"Ord_500\"   \"Cust_187\"   \n",
       "1        1221.0   \"SHP_937\"   \"Prod_3\"   \"Ord_685\"   \"Cust_231\"   \n",
       "2        2050.0  \"SHP_5733\"   \"Prod_6\"  \"Ord_4116\"  \"Cust_1404\"   \n",
       "3        2050.0  \"SHP_5733\"  \"Prod_12\"  \"Ord_4116\"  \"Cust_1404\"   \n",
       "4        2791.0    \"SHP_34\"   \"Prod_3\"    \"Ord_26\"    \"Cust_21\"   \n",
       "...         ...         ...        ...         ...          ...   \n",
       "13900   55425.0  \"SHP_2552\"   \"Prod_4\"  \"Ord_1858\"   \"Cust_653\"   \n",
       "13901   56423.0  \"SHP_5455\"   \"Prod_1\"  \"Ord_3926\"  \"Cust_1340\"   \n",
       "13902   56901.0  \"SHP_1191\"  \"Prod_13\"   \"Ord_866\"   \"Cust_295\"   \n",
       "13903   57152.0  \"SHP_7673\"   \"Prod_3\"  \"Ord_5491\"  \"Cust_1814\"   \n",
       "13904   58308.0  \"SHP_5040\"   \"Prod_5\"  \"Ord_3639\"  \"Cust_1266\"   \n",
       "\n",
       "              customer_name            province      region customer_segment  \\\n",
       "0            \"MATT COLLINS\"  \"BRITISH COLUMBIA\"      \"WEST\"       \"CONSUMER\"   \n",
       "1            \"LELA DONOVAN\"  \"BRITISH COLUMBIA\"      \"WEST\"      \"CORPORATE\"   \n",
       "2            \"JAMES GALANG\"     \"NEW BRUNSWICK\"  \"ATLANTIC\"       \"CONSUMER\"   \n",
       "3            \"JAMES GALANG\"     \"NEW BRUNSWICK\"  \"ATLANTIC\"       \"CONSUMER\"   \n",
       "4          \"EUGENE BARCHAS\"           \"NUNAVUT\"   \"NUNAVUT\"      \"CORPORATE\"   \n",
       "...                     ...                 ...         ...              ...   \n",
       "13900        \"PAUL KNUTSON\"      \"NEWFOUNDLAND\"  \"ATLANTIC\"      \"CORPORATE\"   \n",
       "13901       \"DENNIS PARDUE\"       \"SASKACHEWAN\"    \"PRARIE\"      \"CORPORATE\"   \n",
       "13902      \"PAUL MACINTYRE\"       \"NOVA SCOTIA\"  \"ATLANTIC\"      \"CORPORATE\"   \n",
       "13903  \"CHRISTOPHER CONANT\"           \"ALBERTA\"      \"WEST\"    \"HOME OFFICE\"   \n",
       "13904       \"WILLIAM BROWN\"       \"SASKACHEWAN\"    \"PRARIE\"      \"CORPORATE\"   \n",
       "\n",
       "           sales  ...  order_quantity  profit  shipping_cost  \\\n",
       "0       165.7500  ...             6.0  -28.46           1.99   \n",
       "1        14.6800  ...             1.0  -13.78           6.19   \n",
       "2       542.1100  ...            25.0  -14.76          11.54   \n",
       "3        44.4600  ...            16.0    5.27           0.99   \n",
       "4       191.6700  ...            47.0 -236.27           7.01   \n",
       "...          ...  ...             ...     ...            ...   \n",
       "13900  4373.8535  ...            42.0  963.68           7.69   \n",
       "13901  1609.6900  ...             4.0 -281.17          19.99   \n",
       "13902   100.6800  ...            36.0  -45.21           2.40   \n",
       "13903    22.8900  ...             6.0   -2.66           1.49   \n",
       "13904    40.3400  ...             2.0  -23.62           7.74   \n",
       "\n",
       "       product_base_margin  Order_Date   order_priority   product_category  \\\n",
       "0                     0.40        None           \"HIGH\"       \"TECHNOLOGY\"   \n",
       "1                     0.38        None  \"NOT SPECIFIED\"  \"OFFICE SUPPLIES\"   \n",
       "2                     0.39        None  \"NOT SPECIFIED\"  \"OFFICE SUPPLIES\"   \n",
       "3                     0.38        None  \"NOT SPECIFIED\"  \"OFFICE SUPPLIES\"   \n",
       "4                     0.37        None           \"HIGH\"  \"OFFICE SUPPLIES\"   \n",
       "...                    ...         ...              ...                ...   \n",
       "13900                 0.59        None       \"CRITICAL\"       \"TECHNOLOGY\"   \n",
       "13901                 0.58        None  \"NOT SPECIFIED\"  \"OFFICE SUPPLIES\"   \n",
       "13902                 0.58        None       \"CRITICAL\"  \"OFFICE SUPPLIES\"   \n",
       "13903                 0.38        None            \"LOW\"  \"OFFICE SUPPLIES\"   \n",
       "13904                 0.50        None  \"NOT SPECIFIED\"        \"FURNITURE\"   \n",
       "\n",
       "                   product_sub_category      ship_mode Ship_Date  \n",
       "0                \"COMPUTER PERIPHERALS\"  \"REGULAR AIR\"      None  \n",
       "1      \"BINDERS AND BINDER ACCESSORIES\"  \"REGULAR AIR\"      None  \n",
       "2                               \"PAPER\"  \"REGULAR AIR\"      None  \n",
       "3                              \"LABELS\"  \"REGULAR AIR\"      None  \n",
       "4      \"BINDERS AND BINDER ACCESSORIES\"  \"REGULAR AIR\"      None  \n",
       "...                                 ...            ...       ...  \n",
       "13900    \"TELEPHONES AND COMMUNICATION\"  \"EXPRESS AIR\"      None  \n",
       "13901          \"STORAGE & ORGANIZATION\"  \"REGULAR AIR\"      None  \n",
       "13902             \"PENS & ART SUPPLIES\"  \"REGULAR AIR\"      None  \n",
       "13903  \"BINDERS AND BINDER ACCESSORIES\"  \"REGULAR AIR\"      None  \n",
       "13904              \"OFFICE FURNISHINGS\"  \"REGULAR AIR\"      None  \n",
       "\n",
       "[13905 rows x 21 columns]"
      ]
     },
     "execution_count": 26,
     "metadata": {},
     "output_type": "execute_result"
    }
   ],
   "source": [
    "panda_df=new_df.toPandas()\n",
    "panda_df"
   ]
  },
  {
   "cell_type": "code",
   "execution_count": null,
   "id": "a3c86aba-be41-4747-b2d2-b521c39a0e66",
   "metadata": {},
   "outputs": [],
   "source": [
    "panda_df.groupby('cust_id').agg({'ord_id':'count'}).sort_values('ord_id',ascending=False).head(3)"
   ]
  },
  {
   "cell_type": "code",
   "execution_count": 13,
   "id": "bc09987c-8a27-4c72-b6cf-406d492168cd",
   "metadata": {},
   "outputs": [
    {
     "name": "stderr",
     "output_type": "stream",
     "text": [
      "2024-09-05 10:03:49,779 WARN util.Utils: Service 'SparkUI' could not bind on port 4040. Attempting port 4041.\n",
      "2024-09-05 10:03:49,780 WARN util.Utils: Service 'SparkUI' could not bind on port 4041. Attempting port 4042.\n",
      "2024-09-05 10:03:49,780 WARN util.Utils: Service 'SparkUI' could not bind on port 4042. Attempting port 4043.\n",
      "2024-09-05 10:03:49,780 WARN util.Utils: Service 'SparkUI' could not bind on port 4043. Attempting port 4044.\n",
      "2024-09-05 10:03:49,780 WARN util.Utils: Service 'SparkUI' could not bind on port 4044. Attempting port 4045.\n",
      "2024-09-05 10:03:49,780 WARN util.Utils: Service 'SparkUI' could not bind on port 4045. Attempting port 4046.\n",
      "2024-09-05 10:03:49,833 WARN yarn.Client: Neither spark.yarn.jars nor spark.yarn.archive is set, falling back to uploading libraries under SPARK_HOME.\n"
     ]
    }
   ],
   "source": [
    "from pyspark.sql import SparkSession\n",
    " \n",
    "# Initialize SparkSession with Hive support\n",
    "spark = SparkSession.builder \\\n",
    "    .appName(\"HiveSelectQuery\") \\\n",
    "    .config(\"spark.sql.warehouse.dir\", \"/user/hive/warehouse\") \\\n",
    "    .config(\"hive.metastore.uris\", \"thrift://localhost:9083\") \\\n",
    "    .config(\"spark.sql.catalogImplementation\", \"hive\") \\\n",
    "    .enableHiveSupport() \\\n",
    "    .getOrCreate()\n",
    " \n",
    "spark.sparkContext.setLogLevel(\"ERROR\")"
   ]
  },
  {
   "cell_type": "code",
   "execution_count": 14,
   "id": "faa99cb4-d77e-4c4b-bf24-c0deaea67c6b",
   "metadata": {},
   "outputs": [
    {
     "data": {
      "text/html": [
       "<div>\n",
       "<style scoped>\n",
       "    .dataframe tbody tr th:only-of-type {\n",
       "        vertical-align: middle;\n",
       "    }\n",
       "\n",
       "    .dataframe tbody tr th {\n",
       "        vertical-align: top;\n",
       "    }\n",
       "\n",
       "    .dataframe thead th {\n",
       "        text-align: right;\n",
       "    }\n",
       "</style>\n",
       "<table border=\"1\" class=\"dataframe\">\n",
       "  <thead>\n",
       "    <tr style=\"text-align: right;\">\n",
       "      <th></th>\n",
       "      <th>Order_ID</th>\n",
       "      <th>Order_Date</th>\n",
       "      <th>Order_Priority</th>\n",
       "      <th>Ord_id</th>\n",
       "    </tr>\n",
       "  </thead>\n",
       "  <tbody>\n",
       "    <tr>\n",
       "      <th>0</th>\n",
       "      <td>3</td>\n",
       "      <td>13-10-2010</td>\n",
       "      <td>LOW</td>\n",
       "      <td>Ord_1</td>\n",
       "    </tr>\n",
       "    <tr>\n",
       "      <th>1</th>\n",
       "      <td>293</td>\n",
       "      <td>01-10-2012</td>\n",
       "      <td>HIGH</td>\n",
       "      <td>Ord_2</td>\n",
       "    </tr>\n",
       "    <tr>\n",
       "      <th>2</th>\n",
       "      <td>483</td>\n",
       "      <td>10-07-2011</td>\n",
       "      <td>HIGH</td>\n",
       "      <td>Ord_3</td>\n",
       "    </tr>\n",
       "    <tr>\n",
       "      <th>3</th>\n",
       "      <td>515</td>\n",
       "      <td>28-08-2010</td>\n",
       "      <td>NOT SPECIFIED</td>\n",
       "      <td>Ord_4</td>\n",
       "    </tr>\n",
       "    <tr>\n",
       "      <th>4</th>\n",
       "      <td>613</td>\n",
       "      <td>17-06-2011</td>\n",
       "      <td>HIGH</td>\n",
       "      <td>Ord_5</td>\n",
       "    </tr>\n",
       "  </tbody>\n",
       "</table>\n",
       "</div>"
      ],
      "text/plain": [
       "   Order_ID  Order_Date Order_Priority Ord_id\n",
       "0         3  13-10-2010            LOW  Ord_1\n",
       "1       293  01-10-2012           HIGH  Ord_2\n",
       "2       483  10-07-2011           HIGH  Ord_3\n",
       "3       515  28-08-2010  NOT SPECIFIED  Ord_4\n",
       "4       613  17-06-2011           HIGH  Ord_5"
      ]
     },
     "execution_count": 14,
     "metadata": {},
     "output_type": "execute_result"
    }
   ],
   "source": [
    "df=pd.read_csv('orders_dimen.csv')\n",
    "df.head(5)\n"
   ]
  },
  {
   "cell_type": "code",
   "execution_count": 15,
   "id": "6532cb15-1c7f-4546-9da6-0002628710e9",
   "metadata": {},
   "outputs": [
    {
     "name": "stderr",
     "output_type": "stream",
     "text": [
      "[Stage 0:>                                                          (0 + 1) / 1]\r"
     ]
    },
    {
     "name": "stdout",
     "output_type": "stream",
     "text": [
      "+--------+----------+--------------+------+\n",
      "|Order_ID|Order_Date|Order_Priority|Ord_id|\n",
      "+--------+----------+--------------+------+\n",
      "|       3|13-10-2010|           LOW| Ord_1|\n",
      "|     293|01-10-2012|          HIGH| Ord_2|\n",
      "|     483|10-07-2011|          HIGH| Ord_3|\n",
      "|     515|28-08-2010| NOT SPECIFIED| Ord_4|\n",
      "|     613|17-06-2011|          HIGH| Ord_5|\n",
      "|     643|24-03-2011|          HIGH| Ord_6|\n",
      "|     678|26-02-2010|           LOW| Ord_7|\n",
      "|     807|23-11-2010|        MEDIUM| Ord_8|\n",
      "|     868|08-06-2012| NOT SPECIFIED| Ord_9|\n",
      "|     933|04-08-2012| NOT SPECIFIED|Ord_10|\n",
      "|     995|30-05-2011|        MEDIUM|Ord_11|\n",
      "|     998|25-11-2009| NOT SPECIFIED|Ord_12|\n",
      "|    1154|14-02-2012|      CRITICAL|Ord_13|\n",
      "|    1344|15-04-2012|           LOW|Ord_14|\n",
      "|    1412|12-03-2010| NOT SPECIFIED|Ord_15|\n",
      "|    1539|09-03-2011|           LOW|Ord_16|\n",
      "|    1540|04-08-2012|          HIGH|Ord_17|\n",
      "|    1702|06-05-2011|          HIGH|Ord_18|\n",
      "|    1761|23-12-2010|          HIGH|Ord_19|\n",
      "|    1792|08-11-2010|           LOW|Ord_20|\n",
      "+--------+----------+--------------+------+\n",
      "only showing top 20 rows\n",
      "\n"
     ]
    },
    {
     "name": "stderr",
     "output_type": "stream",
     "text": [
      "                                                                                \r"
     ]
    }
   ],
   "source": [
    "spark_df=spark.createDataFrame(df)\n",
    "spark_df.show()"
   ]
  },
  {
   "cell_type": "code",
   "execution_count": 17,
   "id": "8e02aa08-7c08-4d10-8724-3a4ac81ab0b1",
   "metadata": {},
   "outputs": [
    {
     "data": {
      "text/plain": [
       "DataFrame[]"
      ]
     },
     "execution_count": 17,
     "metadata": {},
     "output_type": "execute_result"
    }
   ],
   "source": [
    "spark.sql(\"use fireBase\")"
   ]
  },
  {
   "cell_type": "code",
   "execution_count": 26,
   "id": "f61357a4-4f5b-4247-8136-56c54814878b",
   "metadata": {},
   "outputs": [
    {
     "data": {
      "text/plain": [
       "DataFrame[]"
      ]
     },
     "execution_count": 26,
     "metadata": {},
     "output_type": "execute_result"
    }
   ],
   "source": [
    "# spark.sql(\"\"\" create table if not exists orders(\n",
    "#               Order_ID bigint,\n",
    "#               Order_Date string,\n",
    "#               Order_Priority string,\n",
    "#               Ord_id string\n",
    "#               )\n",
    "#               \"\"\"\n",
    "#          )\n",
    "# spark.sql(\"drop table orders\")"
   ]
  },
  {
   "cell_type": "code",
   "execution_count": 28,
   "id": "c4b8ecf8-41c8-46fa-9fd1-d360fded482a",
   "metadata": {},
   "outputs": [],
   "source": [
    "spark_df.write.mode('append').saveAsTable('ord_1')"
   ]
  },
  {
   "cell_type": "code",
   "execution_count": 42,
   "id": "d8ac5e00-4413-4863-ad75-f785029c9b92",
   "metadata": {},
   "outputs": [
    {
     "name": "stdout",
     "output_type": "stream",
     "text": [
      "+-------+---+--------+\n",
      "|   name|age|  salary|\n",
      "+-------+---+--------+\n",
      "|  Alice| 30|  3000.0|\n",
      "|    Bob| 25|  2500.0|\n",
      "|Charlie| 35|  3500.0|\n",
      "|   Tony| 21|234567.0|\n",
      "|   John| 34|  3456.7|\n",
      "|    Max| 23|  4324.3|\n",
      "+-------+---+--------+\n",
      "\n"
     ]
    }
   ],
   "source": [
    "spark.sql(\"select * from emp\").show()"
   ]
  },
  {
   "cell_type": "code",
   "execution_count": 52,
   "id": "3b218bb4-508c-46de-809e-2521ad78e6d4",
   "metadata": {},
   "outputs": [
    {
     "name": "stdout",
     "output_type": "stream",
     "text": [
      "+--------+---------+-------+\n",
      "|col_name|data_type|comment|\n",
      "+--------+---------+-------+\n",
      "|    name|   string|   null|\n",
      "|     age|      int|   null|\n",
      "|  salary|   double|   null|\n",
      "+--------+---------+-------+\n",
      "\n"
     ]
    }
   ],
   "source": [
    "spark.sql(\"describe table fireBase.emp\").show()"
   ]
  },
  {
   "cell_type": "code",
   "execution_count": 53,
   "id": "05440af3-2ee8-48de-8603-e116822c8084",
   "metadata": {},
   "outputs": [
    {
     "ename": "ParseException",
     "evalue": "\nno viable alternative at input 'alter table fireBase.emp modify'(line 1, pos 25)\n\n== SQL ==\nalter table fireBase.emp modify  salary int\n-------------------------^^^\n",
     "output_type": "error",
     "traceback": [
      "\u001b[0;31m---------------------------------------------------------------------------\u001b[0m",
      "\u001b[0;31mParseException\u001b[0m                            Traceback (most recent call last)",
      "\u001b[0;32m/tmp/ipykernel_291121/296412060.py\u001b[0m in \u001b[0;36m<module>\u001b[0;34m\u001b[0m\n\u001b[0;32m----> 1\u001b[0;31m \u001b[0mspark\u001b[0m\u001b[0;34m.\u001b[0m\u001b[0msql\u001b[0m\u001b[0;34m(\u001b[0m\u001b[0;34m\"alter table fireBase.emp modify  salary int\"\u001b[0m\u001b[0;34m)\u001b[0m\u001b[0;34m\u001b[0m\u001b[0;34m\u001b[0m\u001b[0m\n\u001b[0m\u001b[1;32m      2\u001b[0m \u001b[0;31m# df = df.withColumn(\"column_name\", df[\"column_name\"].cast(\"new_data_type\"))\u001b[0m\u001b[0;34m\u001b[0m\u001b[0;34m\u001b[0m\u001b[0m\n",
      "\u001b[0;32m/opt/anaconda3/lib/python3.9/site-packages/pyspark/sql/session.py\u001b[0m in \u001b[0;36msql\u001b[0;34m(self, sqlQuery)\u001b[0m\n\u001b[1;32m    721\u001b[0m         \u001b[0;34m[\u001b[0m\u001b[0mRow\u001b[0m\u001b[0;34m(\u001b[0m\u001b[0mf1\u001b[0m\u001b[0;34m=\u001b[0m\u001b[0;36m1\u001b[0m\u001b[0;34m,\u001b[0m \u001b[0mf2\u001b[0m\u001b[0;34m=\u001b[0m\u001b[0;34m'row1'\u001b[0m\u001b[0;34m)\u001b[0m\u001b[0;34m,\u001b[0m \u001b[0mRow\u001b[0m\u001b[0;34m(\u001b[0m\u001b[0mf1\u001b[0m\u001b[0;34m=\u001b[0m\u001b[0;36m2\u001b[0m\u001b[0;34m,\u001b[0m \u001b[0mf2\u001b[0m\u001b[0;34m=\u001b[0m\u001b[0;34m'row2'\u001b[0m\u001b[0;34m)\u001b[0m\u001b[0;34m,\u001b[0m \u001b[0mRow\u001b[0m\u001b[0;34m(\u001b[0m\u001b[0mf1\u001b[0m\u001b[0;34m=\u001b[0m\u001b[0;36m3\u001b[0m\u001b[0;34m,\u001b[0m \u001b[0mf2\u001b[0m\u001b[0;34m=\u001b[0m\u001b[0;34m'row3'\u001b[0m\u001b[0;34m)\u001b[0m\u001b[0;34m]\u001b[0m\u001b[0;34m\u001b[0m\u001b[0;34m\u001b[0m\u001b[0m\n\u001b[1;32m    722\u001b[0m         \"\"\"\n\u001b[0;32m--> 723\u001b[0;31m         \u001b[0;32mreturn\u001b[0m \u001b[0mDataFrame\u001b[0m\u001b[0;34m(\u001b[0m\u001b[0mself\u001b[0m\u001b[0;34m.\u001b[0m\u001b[0m_jsparkSession\u001b[0m\u001b[0;34m.\u001b[0m\u001b[0msql\u001b[0m\u001b[0;34m(\u001b[0m\u001b[0msqlQuery\u001b[0m\u001b[0;34m)\u001b[0m\u001b[0;34m,\u001b[0m \u001b[0mself\u001b[0m\u001b[0;34m.\u001b[0m\u001b[0m_wrapped\u001b[0m\u001b[0;34m)\u001b[0m\u001b[0;34m\u001b[0m\u001b[0;34m\u001b[0m\u001b[0m\n\u001b[0m\u001b[1;32m    724\u001b[0m \u001b[0;34m\u001b[0m\u001b[0m\n\u001b[1;32m    725\u001b[0m     \u001b[0;32mdef\u001b[0m \u001b[0mtable\u001b[0m\u001b[0;34m(\u001b[0m\u001b[0mself\u001b[0m\u001b[0;34m,\u001b[0m \u001b[0mtableName\u001b[0m\u001b[0;34m)\u001b[0m\u001b[0;34m:\u001b[0m\u001b[0;34m\u001b[0m\u001b[0;34m\u001b[0m\u001b[0m\n",
      "\u001b[0;32m/opt/anaconda3/lib/python3.9/site-packages/py4j/java_gateway.py\u001b[0m in \u001b[0;36m__call__\u001b[0;34m(self, *args)\u001b[0m\n\u001b[1;32m   1307\u001b[0m \u001b[0;34m\u001b[0m\u001b[0m\n\u001b[1;32m   1308\u001b[0m         \u001b[0manswer\u001b[0m \u001b[0;34m=\u001b[0m \u001b[0mself\u001b[0m\u001b[0;34m.\u001b[0m\u001b[0mgateway_client\u001b[0m\u001b[0;34m.\u001b[0m\u001b[0msend_command\u001b[0m\u001b[0;34m(\u001b[0m\u001b[0mcommand\u001b[0m\u001b[0;34m)\u001b[0m\u001b[0;34m\u001b[0m\u001b[0;34m\u001b[0m\u001b[0m\n\u001b[0;32m-> 1309\u001b[0;31m         return_value = get_return_value(\n\u001b[0m\u001b[1;32m   1310\u001b[0m             answer, self.gateway_client, self.target_id, self.name)\n\u001b[1;32m   1311\u001b[0m \u001b[0;34m\u001b[0m\u001b[0m\n",
      "\u001b[0;32m/opt/anaconda3/lib/python3.9/site-packages/pyspark/sql/utils.py\u001b[0m in \u001b[0;36mdeco\u001b[0;34m(*a, **kw)\u001b[0m\n\u001b[1;32m    115\u001b[0m                 \u001b[0;31m# Hide where the exception came from that shows a non-Pythonic\u001b[0m\u001b[0;34m\u001b[0m\u001b[0;34m\u001b[0m\u001b[0m\n\u001b[1;32m    116\u001b[0m                 \u001b[0;31m# JVM exception message.\u001b[0m\u001b[0;34m\u001b[0m\u001b[0;34m\u001b[0m\u001b[0m\n\u001b[0;32m--> 117\u001b[0;31m                 \u001b[0;32mraise\u001b[0m \u001b[0mconverted\u001b[0m \u001b[0;32mfrom\u001b[0m \u001b[0;32mNone\u001b[0m\u001b[0;34m\u001b[0m\u001b[0;34m\u001b[0m\u001b[0m\n\u001b[0m\u001b[1;32m    118\u001b[0m             \u001b[0;32melse\u001b[0m\u001b[0;34m:\u001b[0m\u001b[0;34m\u001b[0m\u001b[0;34m\u001b[0m\u001b[0m\n\u001b[1;32m    119\u001b[0m                 \u001b[0;32mraise\u001b[0m\u001b[0;34m\u001b[0m\u001b[0;34m\u001b[0m\u001b[0m\n",
      "\u001b[0;31mParseException\u001b[0m: \nno viable alternative at input 'alter table fireBase.emp modify'(line 1, pos 25)\n\n== SQL ==\nalter table fireBase.emp modify  salary int\n-------------------------^^^\n"
     ]
    }
   ],
   "source": [
    "spark.sql(\"alter table fireBase.emp modify  salary int\")\n",
    "# df = df.withColumn(\"column_name\", df[\"column_name\"].cast(\"new_data_type\"))"
   ]
  },
  {
   "cell_type": "code",
   "execution_count": null,
   "id": "7cc28e45-7f9b-47fc-a3df-b22bb50eb9e8",
   "metadata": {},
   "outputs": [],
   "source": []
  }
 ],
 "metadata": {
  "kernelspec": {
   "display_name": "Python 3 (ipykernel)",
   "language": "python",
   "name": "python3"
  },
  "language_info": {
   "codemirror_mode": {
    "name": "ipython",
    "version": 3
   },
   "file_extension": ".py",
   "mimetype": "text/x-python",
   "name": "python",
   "nbconvert_exporter": "python",
   "pygments_lexer": "ipython3",
   "version": "3.9.13"
  }
 },
 "nbformat": 4,
 "nbformat_minor": 5
}
