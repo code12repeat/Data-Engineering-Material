{
 "cells": [
  {
   "cell_type": "code",
   "execution_count": null,
   "id": "262b6971-14a0-42dc-85e7-b8659fb9a56a",
   "metadata": {},
   "outputs": [],
   "source": [
    "import os\n",
    "import json\n",
    "from pyspark.sql import SparkSession\n",
    " \n",
    "# Initialize SparkSession\n",
    "spark = SparkSession.builder \\\n",
    "    .appName(\"NestedJSONExample\") \\\n",
    "    .getOrCreate()\n",
    " \n",
    "# Read JSON file using os and open()\n",
    "file_path = \"nested_data.json\"\n",
    "with open(file_path, 'r') as file:\n",
    "    json_data = file.read()\n",
    "# Parse JSON string into a list of dictionaries\n",
    "parsed_json = json.loads(json_data)\n",
    "parsed_json\n",
    "###############################\n",
    "# Create a DataFrame directly from the parsed JSON data\n",
    "df = spark.createDataFrame(parsed_json)\n",
    "# Show the DataFrame to see the nested structure\n",
    "df.show(truncate=False)\n",
    "df.printSchema()\n",
    " \n",
    "###############################################\n",
    "# Register the DataFrame as a temporary view\n",
    "df.createOrReplaceTempView(\"nested_data\")\n",
    " \n",
    "# Perform SQL queries to access and manipulate nested fields\n",
    "# Example: Select id, name, and personal details\n",
    "result_df = spark.sql(\"\"\"\n",
    "    SELECT \n",
    "        id,\n",
    "        name,\n",
    "        info.personal.age AS age,\n",
    "        info.personal.city AS city,\n",
    "        info.work.position AS position,\n",
    "        info.work.department AS department\n",
    "    FROM nested_data\n",
    "\"\"\")\n",
    " \n",
    "# Show the results of the query\n",
    "result_df.show()"
   ]
  }
 ],
 "metadata": {
  "kernelspec": {
   "display_name": "Python 3 (ipykernel)",
   "language": "python",
   "name": "python3"
  },
  "language_info": {
   "codemirror_mode": {
    "name": "ipython",
    "version": 3
   },
   "file_extension": ".py",
   "mimetype": "text/x-python",
   "name": "python",
   "nbconvert_exporter": "python",
   "pygments_lexer": "ipython3",
   "version": "3.9.13"
  }
 },
 "nbformat": 4,
 "nbformat_minor": 5
}
