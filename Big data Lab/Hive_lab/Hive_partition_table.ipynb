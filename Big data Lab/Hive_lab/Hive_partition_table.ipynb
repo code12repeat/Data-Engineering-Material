{
 "cells": [
  {
   "cell_type": "code",
   "execution_count": 34,
   "id": "0026e0c4-3972-41f8-91ea-cb68bc0db066",
   "metadata": {},
   "outputs": [],
   "source": [
    "from sqlalchemy.engine import create_engine\n",
    "import pandas as pd\n",
    "\n",
    "host='localhost' #Since hive is running localy\n",
    "port=10000 # Default port for HiveServer2\n",
    "username='maneelcha49dgre'\n",
    "database='default'\n",
    "\n",
    "connection_string=f'hive://{username}@{host}:{port}/{database}'\n",
    "\n",
    "engine=create_engine(connection_string)"
   ]
  },
  {
   "cell_type": "code",
   "execution_count": 28,
   "id": "fd40058a-e4d8-49f4-a391-bc7fe5d3cc47",
   "metadata": {},
   "outputs": [
    {
     "name": "stdout",
     "output_type": "stream",
     "text": [
      "data inserted successfully\n"
     ]
    }
   ],
   "source": [
    "with engine.connect() as connection:\n",
    "    create_table_sql=\"\"\"\n",
    "    create table if not exists emp_table(\n",
    "    id int,\n",
    "    name string,\n",
    "    position string\n",
    "    )\n",
    "    partitioned by (department string)\n",
    "    \"\"\"\n",
    "    #Execute SQL Command\n",
    "    connection.execute(create_table_sql)\n",
    "print(\"data inserted successfully\")"
   ]
  },
  {
   "cell_type": "code",
   "execution_count": 30,
   "id": "ae390e5a-def2-493a-a032-70787520af71",
   "metadata": {},
   "outputs": [],
   "source": [
    "with engine.connect() as connection:\n",
    "    connection.execute(\"\"\"\n",
    "    insert into table emp_table partition(department='hr')\n",
    "    values(1,'John','recuiter'),\n",
    "    (2,'Doe','hr manager')\n",
    "    \"\"\")\n",
    "    connection.execute(\"\"\"\n",
    "    insert into table emp_table partition(department='engineering')\n",
    "    values(3,'Alice','SDE'),\n",
    "    (4,'Bob','Data Eng')\n",
    "    \"\"\")\n"
   ]
  },
  {
   "cell_type": "code",
   "execution_count": 36,
   "id": "97f4004c-3052-45ad-acb4-f0e5db5be85f",
   "metadata": {},
   "outputs": [
    {
     "name": "stdout",
     "output_type": "stream",
     "text": [
      "   id   name    position   department\n",
      "0   3  Alice         SDE  engineering\n",
      "1   4    Bob    Data Eng  engineering\n",
      "2   1   John    recuiter           hr\n",
      "3   2    Doe  hr manager           hr\n"
     ]
    }
   ],
   "source": [
    "dt=pd.read_sql(\"select * from emp_table\",engine)\n",
    "print(dt)"
   ]
  },
  {
   "cell_type": "code",
   "execution_count": 37,
   "id": "b6873d67-37d5-4b8a-9540-a2bfa9eadeb7",
   "metadata": {},
   "outputs": [
    {
     "name": "stdout",
     "output_type": "stream",
     "text": [
      "(3, 'Alice', 'SDE', 'engineering')\n",
      "(4, 'Bob', 'Data Eng', 'engineering')\n",
      "(1, 'John', 'recuiter', 'hr')\n",
      "(2, 'Doe', 'hr manager', 'hr')\n"
     ]
    }
   ],
   "source": [
    "with engine.connect() as connection:\n",
    "    results=connection.execute(\"select * from emp_table\")\n",
    "    for row in results:\n",
    "         print(row)"
   ]
  },
  {
   "cell_type": "markdown",
   "id": "ec7d5b88-74d1-4e9c-8684-45b7c093decc",
   "metadata": {},
   "source": [
    "### Another Example for table partition"
   ]
  },
  {
   "cell_type": "code",
   "execution_count": 15,
   "id": "a2a533b0-3a1a-452e-a13d-d09409badaa4",
   "metadata": {},
   "outputs": [],
   "source": [
    "from sqlalchemy.engine import create_engine\n",
    "import pandas as pd\n",
    "host='localhost'\n",
    "port=10000\n",
    "username='maneelcha49dgre'\n",
    "database='default'\n",
    "conn_string=f'hive://{username}@{host}:{port}/{database}'\n",
    "engine=create_engine(conn_string)\n",
    "with engine.connect() as conn:\n",
    "    # pass\n",
    "    conn.execute(\"\"\" create table t69 ( id int, name string) partitioned by (hr string) row format \n",
    "    delimited fields terminated by ',' stored as textfile \"\"\")\n",
    "    conn.execute(\"\"\" INSERT INTO TABLE t69 PARTITION (hr='Pooja')\n",
    "    VALUES \n",
    "    (3, 'Rohan'),\n",
    "    (4, 'Ravish') \"\"\")\n",
    " \n"
   ]
  },
  {
   "cell_type": "code",
   "execution_count": 16,
   "id": "8e3087a8-6eec-48d1-b25a-51ae1e1b2b37",
   "metadata": {},
   "outputs": [
    {
     "name": "stdout",
     "output_type": "stream",
     "text": [
      "   id    name     hr\n",
      "0   3   Rohan  Pooja\n",
      "1   4  Ravish  Pooja\n"
     ]
    }
   ],
   "source": [
    "#df = pd.read_sql(\"SHOW TABLES\",engine)\n",
    "df = pd.read_sql(\"SELECT * FROM t69\",engine)\n",
    "print(df)"
   ]
  },
  {
   "cell_type": "code",
   "execution_count": 20,
   "id": "0d951a90-c83b-46cb-9adf-a74e7dff23ef",
   "metadata": {},
   "outputs": [
    {
     "name": "stdout",
     "output_type": "stream",
     "text": [
      "<class 'sqlalchemy.engine.row.LegacyRow'> (3, 'Rohan', 'Pooja')\n",
      "<class 'sqlalchemy.engine.row.LegacyRow'> (4, 'Ravish', 'Pooja')\n"
     ]
    }
   ],
   "source": [
    "with engine.connect() as connection:\n",
    "    res=connection.execute(\"select * from t69\")\n",
    "    for x in res:\n",
    "        print(type(x),x)"
   ]
  },
  {
   "cell_type": "code",
   "execution_count": null,
   "id": "e0428a94-d83e-49b4-8573-70b432e49071",
   "metadata": {},
   "outputs": [],
   "source": []
  }
 ],
 "metadata": {
  "kernelspec": {
   "display_name": "Python 3 (ipykernel)",
   "language": "python",
   "name": "python3"
  },
  "language_info": {
   "codemirror_mode": {
    "name": "ipython",
    "version": 3
   },
   "file_extension": ".py",
   "mimetype": "text/x-python",
   "name": "python",
   "nbconvert_exporter": "python",
   "pygments_lexer": "ipython3",
   "version": "3.9.13"
  }
 },
 "nbformat": 4,
 "nbformat_minor": 5
}
