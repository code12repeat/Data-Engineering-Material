{
 "cells": [
  {
   "cell_type": "raw",
   "id": "0177dead-4dd2-4ff5-babb-83187743e519",
   "metadata": {},
   "source": [
    "CREATE TABLE emp_1 (\n",
    "    id INT,\n",
    "    name STRING,\n",
    "    skills ARRAY<STRING>,\n",
    "    addresses MAP<STRING, STRING>,\n",
    "    job_info STRUCT<job_title:STRING, start_date:STRING, salary:DOUBLE>\n",
    ")\n",
    "ROW FORMAT DELIMITED\n",
    "FIELDS TERMINATED BY ','\n",
    "COLLECTION ITEMS TERMINATED BY '|'\n",
    "MAP KEYS TERMINATED BY ':'\n",
    "STORED AS TEXTFILE;"
   ]
  },
  {
   "cell_type": "markdown",
   "id": "48a3e9ac-6356-4fc9-955c-7fd43d72f073",
   "metadata": {},
   "source": [
    "### Retrieve all employee names and their first skill"
   ]
  },
  {
   "cell_type": "code",
   "execution_count": 1,
   "id": "79c6cae8-b33f-4efc-b974-db7e7258489d",
   "metadata": {},
   "outputs": [
    {
     "ename": "SyntaxError",
     "evalue": "invalid syntax (134305198.py, line 1)",
     "output_type": "error",
     "traceback": [
      "\u001b[0;36m  File \u001b[0;32m\"/tmp/ipykernel_17200/134305198.py\"\u001b[0;36m, line \u001b[0;32m1\u001b[0m\n\u001b[0;31m    select name,skills[0] as frist_skill\u001b[0m\n\u001b[0m           ^\u001b[0m\n\u001b[0;31mSyntaxError\u001b[0m\u001b[0;31m:\u001b[0m invalid syntax\n"
     ]
    }
   ],
   "source": [
    "select name,skills[0] as frist_skill \n",
    "from emp_1;"
   ]
  },
  {
   "cell_type": "markdown",
   "id": "0c0bf22c-e36f-4f19-9221-fcfe5ee0ca98",
   "metadata": {},
   "source": [
    "### Get all employees' office address"
   ]
  },
  {
   "cell_type": "code",
   "execution_count": null,
   "id": "193bfb59-5c2d-4082-a7b3-3260a2980948",
   "metadata": {},
   "outputs": [],
   "source": [
    "select name,\n",
    "addresses['office'] as office_address\n",
    "from emp_1;"
   ]
  },
  {
   "cell_type": "markdown",
   "id": "cc917c94-555f-4ee0-8e32-a8955013b052",
   "metadata": {},
   "source": [
    "### Fetch job titles and salary from nested job_info struct"
   ]
  },
  {
   "cell_type": "code",
   "execution_count": null,
   "id": "f34f3530-21af-42ce-8d71-85c9dcec5aa7",
   "metadata": {},
   "outputs": [],
   "source": [
    "select name,\n",
    "job_info.job_title as job_title,\n",
    "job_info.salary as salary\n",
    "from emp_1;"
   ]
  },
  {
   "cell_type": "markdown",
   "id": "b9c05cea-15af-4d8b-a541-d90c193aadbb",
   "metadata": {},
   "source": [
    "### Retrieve all data for employees with 'python' as  their skill"
   ]
  },
  {
   "cell_type": "code",
   "execution_count": null,
   "id": "bd71e7f3-a5b1-4675-8326-0c6c5f205370",
   "metadata": {},
   "outputs": [],
   "source": [
    "select name\n",
    "from emp_1\n",
    "where array_contains(skills,'Python');"
   ]
  },
  {
   "cell_type": "code",
   "execution_count": null,
   "id": "dd2df414-0128-44da-a278-eb1a0d7c5b48",
   "metadata": {},
   "outputs": [],
   "source": [
    "#list all employees who have both skills java and python\n",
    "select name\n",
    "from emp_1\n",
    "where array_contains(skills,'Java') and array_contains(skills,'Python');"
   ]
  },
  {
   "cell_type": "code",
   "execution_count": null,
   "id": "66fbedd8-3471-45ae-96a2-f35807e6bc84",
   "metadata": {},
   "outputs": [],
   "source": [
    "select id, name,skills,addresses,\n",
    "get_json_object(job_info,'$.job_title') as job_title,\n",
    "get_json_object(job_info,'$.start_date') as start_date,\n",
    "get_json_object(job_info,'$.salary') as salary\n",
    "from emp_1;"
   ]
  },
  {
   "cell_type": "code",
   "execution_count": null,
   "id": "2897bfc9-c58c-4349-9717-c1fd43797306",
   "metadata": {},
   "outputs": [],
   "source": [
    "select\n",
    "     count(distinct skills) as unique_skill_count\n",
    "     from emp_1\n",
    "     lateral view explode(skills) as skill;"
   ]
  },
  {
   "cell_type": "code",
   "execution_count": 6,
   "id": "c59ec24c-cdb8-48a5-a53e-e00ec44281ce",
   "metadata": {},
   "outputs": [
    {
     "name": "stdout",
     "output_type": "stream",
     "text": [
      "Defaulting to user installation because normal site-packages is not writeable\n",
      "Collecting mysql-connector-python\n",
      "  Downloading mysql_connector_python-9.0.0-cp39-cp39-manylinux_2_17_x86_64.whl (19.3 MB)\n",
      "\u001b[2K     \u001b[90m━━━━━━━━━━━━━━━━━━━━━━━━━━━━━━━━━━━━━━━━\u001b[0m \u001b[32m19.3/19.3 MB\u001b[0m \u001b[31m30.3 MB/s\u001b[0m eta \u001b[36m0:00:00\u001b[0m00:01\u001b[0m00:01\u001b[0m\n",
      "\u001b[?25hInstalling collected packages: mysql-connector-python\n",
      "Successfully installed mysql-connector-python-9.0.0\n",
      "Defaulting to user installation because normal site-packages is not writeable\n",
      "Requirement already satisfied: pymysql in /opt/anaconda3/lib/python3.9/site-packages (1.1.1)\n"
     ]
    }
   ],
   "source": [
    "!pip install mysql-connector-python\n",
    "!pip install pymysql"
   ]
  },
  {
   "cell_type": "code",
   "execution_count": 8,
   "id": "cb7b5d27-3329-4655-a286-b39dd44a432c",
   "metadata": {},
   "outputs": [],
   "source": [
    "import pandas as pd\n",
    "from sqlalchemy import create_engine"
   ]
  },
  {
   "cell_type": "code",
   "execution_count": 14,
   "id": "20bd35d9-c0f1-4dde-a8ad-71af99a3ba33",
   "metadata": {},
   "outputs": [
    {
     "name": "stdout",
     "output_type": "stream",
     "text": [
      "Sample Employee Data:\n",
      "   employee id First name Last name  age   department  salary\n",
      "0          101      Jolin       Doe   28        Sales   50000\n",
      "1          102       Jane     Smith   34           HR   60000\n",
      "2          103       Mike   Johnson   29  Engineering   75000\n",
      "3          104       Sara     Brown   42    Rarketing   85000\n",
      "successfully inserted into the 'employees' tabele.\n"
     ]
    }
   ],
   "source": [
    "data ={\n",
    "    'employee id': [101, 102, 103, 104],\n",
    "    'First name': ['Jolin', 'Jane', 'Mike', 'Sara'], \n",
    "    'Last name': ['Doe', 'Smith', 'Johnson', 'Brown'],\n",
    "    'age': [28, 34, 29, 42],\n",
    "    'department': ['Sales', 'HR', 'Engineering', 'Rarketing'],\n",
    "    'salary': [50000, 60000, 75000, 85000]\n",
    "     }\n",
    " \n",
    "employee_df= pd.DataFrame(data)\n",
    "print(\"Sample Employee Data:\") \n",
    "print(employee_df)\n",
    " \n",
    "#Define the database commection parameters\n",
    " \n",
    "db_user= 'maneelcha49dgre' \n",
    "db_password ='BrownGorilla19$'\n",
    "db_host ='master'  \n",
    "db_port=3306\n",
    "db_name='maneelcha49dgre'        \n",
    " \n",
    "#Create the SQLAlchemy engine \n",
    "engine=create_engine(f'mysql+mysqlconnector://{db_user}:{db_password}@{db_host}:{db_port}/{db_name}')\n",
    "#send the dataframe to mysql database\n",
    "table_name='employees'\n",
    "try:\n",
    "    employee_df.to_sql(name=table_name,con=engine,if_exists='replace',index=False)\n",
    "    print(f\"successfully inserted into the '{table_name}' tabele.\")\n",
    "except Exception as e:\n",
    "                    print(f'An error occurred: {e}')"
   ]
  },
  {
   "cell_type": "code",
   "execution_count": null,
   "id": "cb3f483f-bce0-43a2-87f8-96b847432a99",
   "metadata": {},
   "outputs": [],
   "source": []
  }
 ],
 "metadata": {
  "kernelspec": {
   "display_name": "Python 3 (ipykernel)",
   "language": "python",
   "name": "python3"
  },
  "language_info": {
   "codemirror_mode": {
    "name": "ipython",
    "version": 3
   },
   "file_extension": ".py",
   "mimetype": "text/x-python",
   "name": "python",
   "nbconvert_exporter": "python",
   "pygments_lexer": "ipython3",
   "version": "3.9.13"
  }
 },
 "nbformat": 4,
 "nbformat_minor": 5
}
